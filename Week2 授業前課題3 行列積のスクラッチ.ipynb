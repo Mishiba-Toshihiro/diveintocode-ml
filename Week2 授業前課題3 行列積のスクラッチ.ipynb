{
 "cells": [
  {
   "cell_type": "markdown",
   "metadata": {},
   "source": [
    "## 行列積\n",
    "\n",
    "以下のような行列A、Bを考えます。\n",
    "\n",
    "$$\n",
    "A = \\left[\n",
    "\\begin{array}{ccc}\n",
    "  -1 & 2 & 3 \\\\\n",
    "  4 & -5 & 6 \\\\\u0018\u0018\n",
    "  7 & 8 & -9\n",
    "\\end{array}\n",
    "\\right],\n",
    "B = \\left[\n",
    "\\begin{array}{ccc}\n",
    "  0 & 2 & 1 \\\\\n",
    "  0 & 2 & -8 \\\\\n",
    "  2 & 9 & -1\n",
    "\\end{array}\n",
    "\\right]\n",
    "$$"
   ]
  },
  {
   "cell_type": "code",
   "execution_count": 1,
   "metadata": {},
   "outputs": [],
   "source": [
    "import numpy as np\n",
    "\n",
    "a_ndarray = np.array([[-1, 2, 3], [4, -5, 6], [7, 8, -9]])\n",
    "b_ndarray = np.array([[0, 2, 1], [0, 2, -8], [2, 9, -1]])"
   ]
  },
  {
   "cell_type": "markdown",
   "metadata": {},
   "source": [
    "### 【問題1】行列積を手計算する\n",
    "\n",
    "AとBの行列積を手計算で解いてください。\n",
    "\n",
    "計算過程もマークダウンテキストを用いて説明してください。"
   ]
  },
  {
   "cell_type": "markdown",
   "metadata": {},
   "source": [
    "$$\n",
    "AB = \n",
    "\\left[\n",
    "\\begin{array}{ccc}\n",
    "  (-1)\\times0+2\\times0+3\\times2 & (-1)\\times2+2\\times2+3\\times9 & (-1)\\times1+2\\times(-8)+3\\times(-1) \\\\\n",
    "  4\\times0+(-5)\\times0+6\\times2 & 4\\times2+(-5)\\times2+6\\times9 & 4\\times1+(-5)\\times(-8)+6\\times(-1) \\\\\u0018\u0018\n",
    "  7\\times0+8\\times0+(-9)\\times2 & -7\\times0+8\\times2+(-9)\\times9 & 7\\times1+8\\times(-8)+(-9)\\times(-1)\n",
    "\\end{array}\n",
    "\\right]\n",
    "=\\left[\n",
    "\\begin{array}{ccc}\n",
    "  6 & 29 & -20 \\\\\n",
    "  12 & 52 & 38 \\\\\u0018\u0018\n",
    "  -18 & -51 & -48\n",
    "\\end{array}\n",
    "\\right]\n",
    "$$"
   ]
  },
  {
   "cell_type": "markdown",
   "metadata": {},
   "source": [
    "### 【問題2】NumPyの関数による計算\n",
    "\n",
    "この行列積はNumPyの`np.matmul()`や`np.dot()`、または`@`演算子を使うことで簡単に計算できます。\n",
    "\n",
    "これらを使い行列積を計算してください。\n",
    "\n",
    "**3種類の違い**\n",
    "\n",
    "`np.matmul()`と`np.dot()`は3次元以上の配列で挙動が変わります。`@`演算子は`np.matmul()`と同じ働きをします。\n",
    "\n",
    "今回のような2次元配列の行列積では`np.matmul()`や`@`演算子が公式に推奨されています。\n",
    "基本`@`を使うことが多い。"
   ]
  },
  {
   "cell_type": "code",
   "execution_count": 2,
   "metadata": {},
   "outputs": [
    {
     "name": "stdout",
     "output_type": "stream",
     "text": [
      "行列積AB np.matmul()の計算結果\n",
      "[[  6  29 -20]\n",
      " [ 12  52  38]\n",
      " [-18 -51 -48]]\n",
      "行列積AB np.dot()の計算結果\n",
      "[[  6  29 -20]\n",
      " [ 12  52  38]\n",
      " [-18 -51 -48]]\n",
      "行列積AB @の計算結果\n",
      "[[  6  29 -20]\n",
      " [ 12  52  38]\n",
      " [-18 -51 -48]]\n"
     ]
    }
   ],
   "source": [
    "c_ndarray_matmul = np.matmul(a_ndarray, b_ndarray)\n",
    "print(\"行列積AB np.matmul()の計算結果\\n{}\".format(c_ndarray_matmul))\n",
    "\n",
    "c_ndarray_dot = np.dot(a_ndarray, b_ndarray)\n",
    "print(\"行列積AB np.dot()の計算結果\\n{}\".format(c_ndarray_dot))\n",
    "\n",
    "c_ndarray_at = a_ndarray@b_ndarray\n",
    "print(\"行列積AB @の計算結果\\n{}\".format(c_ndarray_at))"
   ]
  },
  {
   "cell_type": "markdown",
   "metadata": {},
   "source": [
    "## 行列積のスクラッチ実装\n",
    "\n",
    "`np.matmul()`や`np.dot()`、または`@`演算子を使わずに、手計算で行った計算過程をNumPyによるスクラッチ実装で再現していきましょう。これにより、行列積の計算に対する理解を深めます。ここで考えるのは行列AとBのような次元が2の配列に限定します。\n",
    "\n",
    "### 【問題3】ある要素の計算を実装\n",
    "\n",
    "手計算をする際はまず行列Aの0行目と行列Bの0列目に注目し、以下の計算を行ったかと思います。\n",
    "\n",
    "1. 行列Aの(0,0)の要素 $a_{0, 0}$ と行列Bの(0,0)の要素 $b_{0, 0}$ を掛け合わせる\n",
    "2. 行列Aの(0,1)の要素 $a_{0, 1}$ と行列Bの(1,0)の要素 $a_{1, 0}$ を掛け合わせる\n",
    "3. 行列Aの(0,2)の要素 $a_{0, 2}$ と行列Bの(2,0)の要素 $a_{2, 0}$ を掛け合わせる\n",
    "4. それらの値を全て足し合わせる\n",
    "\n",
    "数式で表すと\n",
    "\n",
    "$$\n",
    "\\sum^{3}_{k=1}a_{0,k}b_{k,0}\n",
    "$$\n",
    "\n",
    "です。\n",
    "\n",
    "この計算を`np.matmul()`や`np.dot()`、または`@`演算子を使わずに行うコードを書いてください。\n",
    "\n",
    "Aの0行目とBの0列目を取り出し、NumPyを使いまとめて掛け算した後`sum`メソッドで足し合わせる。"
   ]
  },
  {
   "cell_type": "code",
   "execution_count": 12,
   "metadata": {},
   "outputs": [
    {
     "name": "stdout",
     "output_type": "stream",
     "text": [
      "[-1  2  3]\n",
      "[0 0 2]\n",
      "[0 0 6]\n",
      " Aの0行目とBの0列目：6\n"
     ]
    }
   ],
   "source": [
    "a_ndarray = np.array([[-1, 2, 3], [4, -5, 6], [7, 8, -9]])\n",
    "b_ndarray = np.array([[0, 2, 1], [0, 2, -8], [2, 9, -1]])\n",
    "\n",
    "mul00 = (a_ndarray[0]*b_ndarray[:, 0]).sum()\n",
    "print(a_ndarray[0,:])\n",
    "print(b_ndarray[:,0])\n",
    "print(a_ndarray[0]*b_ndarray[:, 0])\n",
    "print(\" Aの0行目とBの0列目：{}\".format(mul00))"
   ]
  },
  {
   "cell_type": "markdown",
   "metadata": {},
   "source": [
    "### 【問題4】行列積を行う関数の作成\n",
    "\n",
    "問題3のコードを拡張し、行列積のスクラッチ実装を完成させてください。行列AとBを引数に受け取り、行列積を返す関数としてください。\n",
    "\n",
    "行列積を計算する場合は、問題3の計算を異なる行や列に対して繰り返していくことになります。\n",
    "\n",
    "計算結果である $3 \\times 3$ の行列Cの各要素 $c_{i, j}$ は数式で表すと次のようになります。\n",
    "\n",
    "$$\n",
    "c_{i,j} = \\sum^{3}_{k=1}a_{i,k}b_{k,j}\n",
    "$$\n",
    "\n",
    "for文を使い、ndarrayのインデックスを動かしていくことで、合計9つの要素が計算できます。インデックス $i$ や $j$ を1増やすと、次の行や列に移ることができます。"
   ]
  },
  {
   "cell_type": "code",
   "execution_count": 17,
   "metadata": {},
   "outputs": [
    {
     "name": "stdout",
     "output_type": "stream",
     "text": [
      "計算結果\n",
      "[[  6.  29. -20.]\n",
      " [ 12.  52.  38.]\n",
      " [-18. -51. -48.]]\n"
     ]
    }
   ],
   "source": [
    "def matrix_product_q4_1(a, b):\n",
    "    \"\"\"\n",
    "    行列積ABを計算する\n",
    "    Parameters\n",
    "    ----------------\n",
    "    a, b : ndarray\n",
    "        AとBに対応する行列\n",
    "    Returns\n",
    "    ----------------\n",
    "    ndarray\n",
    "        計算した行列積\n",
    "    \"\"\"\n",
    "    c = np.empty((a.shape[0], b.shape[1]))\n",
    "\n",
    "    for i in range(a.shape[0]):\n",
    "        for j in range(b.shape[1]):\n",
    "            c[i, j] = (a[i]*b[:, j]).sum()\n",
    "    return c\n",
    "\n",
    "a_ndarray = np.array([[-1, 2, 3], [4, -5, 6], [7, 8, -9]])\n",
    "b_ndarray = np.array([[0, 2, 1], [0, 2, -8], [2, 9, -1]])\n",
    "print(\"計算結果\\n{}\".format(matrix_product_q4_1(a_ndarray, b_ndarray)))"
   ]
  },
  {
   "cell_type": "markdown",
   "metadata": {},
   "source": [
    "（解答例2）"
   ]
  },
  {
   "cell_type": "code",
   "execution_count": 18,
   "metadata": {},
   "outputs": [
    {
     "name": "stdout",
     "output_type": "stream",
     "text": [
      "計算結果\n",
      "[[  6.  29. -20.]\n",
      " [ 12.  52.  38.]\n",
      " [-18. -51. -48.]]\n"
     ]
    }
   ],
   "source": [
    "def matrix_product_q4_2(a, b):\n",
    "    \"\"\"\n",
    "    行列積ABを計算する\n",
    "    Parameters\n",
    "    ----------------\n",
    "    a, b : ndarray\n",
    "        AとBに対応する行列\n",
    "    Returns\n",
    "    ----------------\n",
    "    ndarray\n",
    "        計算した行列積\n",
    "    \"\"\"\n",
    "    c = np.zeros((a.shape[0], b.shape[1]))\n",
    "    for i in range(a.shape[0]):\n",
    "        for j in range(b.shape[1]):\n",
    "            for k in range(a.shape[1]):\n",
    "                c[i, j] += a[i, k]*b[k, j]\n",
    "    return c\n",
    "\n",
    "a_ndarray = np.array([[-1, 2, 3], [4, -5, 6], [7, 8, -9]])\n",
    "b_ndarray = np.array([[0, 2, 1], [0, 2, -8], [2, 9, -1]])\n",
    "print(\"計算結果\\n{}\".format(matrix_product_q4_2(a_ndarray, b_ndarray)))"
   ]
  },
  {
   "cell_type": "markdown",
   "metadata": {},
   "source": [
    "## 行列積が定義されない組み合わせの行列\n",
    "\n",
    "次に以下のような例を考えます。    \n",
    "\n",
    "$$ D = \\left[\n",
    "    \\begin{array}{ccc}\n",
    "      -1 & 2 & 3 \\\\\n",
    "      4 & -5 & 6\n",
    "    \\end{array}\n",
    "  \\right],\n",
    "  E- = \\left[\n",
    "    \\begin{array}{ccc}\n",
    "       -9 & 8 & 7 \\\\\n",
    "      6 & -5 & 4\n",
    "    \\end{array}\n",
    "  \\right] $$\n",
    "\n",
    "```py\n",
    "d_ndarray_ = np.array([[-1, 2, 3], [4, -5, 6]])\n",
    "e_ndarray = np.array([[-9, 8, 7], [6, -5, 4]])\n",
    "```\n",
    "\n",
    "行列積DEはDの列数とEの行数が等しい場合に定義されていますから、この例では計算ができません。\n",
    "\n",
    "### 【問題5】計算が定義されない入力を判定する\n",
    "\n",
    "問題4で作成した関数は、実装方法によってはこのDとEの配列を入力しても動いてしまう可能性があります。この場合、不適切な計算が行われることになります。また、途中でエラーになる場合でも、なぜエラーになったかが直接的には分かりづらいメッセージが表示されます。\n",
    "\n",
    "if文などによってこれを防ぎ、入力される形に問題があることを`print()`を使い表示するコードを書き加えてください。\n",
    "\n",
    "`a.shape[1]==b.shape[0]`の場合のみ計算を行い、そうでない場合は不適切であることを説明する。"
   ]
  },
  {
   "cell_type": "code",
   "execution_count": 25,
   "metadata": {},
   "outputs": [
    {
     "name": "stdout",
     "output_type": "stream",
     "text": [
      "a.shape[1] != b.shape[0] : 3 != 2\n",
      "計算結果\n",
      "None\n"
     ]
    }
   ],
   "source": [
    "def matrix_product_q5_1(a, b):\n",
    "    c = np.empty((a.shape[0], b.shape[1]))\n",
    "\n",
    "    if a.shape[1] == b.shape[0]:\n",
    "        c = (a[:, np.newaxis, :]*b.T).sum(axis=2)\n",
    "        return c\n",
    "    else:\n",
    "        print(\"a.shape[1] != b.shape[0] : {} != {}\".format(a.shape[1], b.shape[0]))\n",
    "        return None\n",
    "        \n",
    "d = np.array([[-1, 2, 3], [4, -5, 6]])\n",
    "e = np.array([[-9, 8, 7], [6, -5, 4]])\n",
    "print(\"計算結果\\n{}\".format(matrix_product_q5_1(d, e)))"
   ]
  },
  {
   "cell_type": "markdown",
   "metadata": {},
   "source": [
    "（解答例3）\n",
    "\n",
    "**組み込み例外** を表示させる方法です。\n",
    "\n",
    "組み込み例外とは、**ValueError** や **IndexError**、 **ZeroDivisionError** など、用意されているエラーの種類のことです。\n",
    "\n",
    "ここではValueErrorを表示させることにします。次のような意味を持ちます。ざっくり値関係のエラーであればこれが使われることが多いです。\n",
    "\n",
    "> 演算子や関数が、正しい型だが適切でない値を持つ引数を受け取ったときや、 IndexError のようなより詳細な例外では記述できない状況で送出されます。\n",
    "\n",
    "どのエラーを選ぶこともできますが、意味が分かりやすいものにするようにしましょう。\n",
    "\n",
    "[ValueError — Python 3.7.4 ドキュメント](https://docs.python.org/ja/3/library/exceptions.html#ValueError)\n",
    "\n",
    "[8. エラーと例外 — Python 3.7.4 ドキュメント](https://docs.python.org/ja/3/tutorial/errors.html)\n",
    "\n",
    "ちょっとコードを書く時には面倒なためあまり適していない方法ですが、自分以外の人も使うモジュールを作りたいという時などは良いでしょう。"
   ]
  },
  {
   "cell_type": "code",
   "execution_count": null,
   "metadata": {},
   "outputs": [],
   "source": [
    "def matrix_product_q5_3(a, b):\n",
    "    c = np.empty((a.shape[0], b.shape[1]))\n",
    "\n",
    "    if a.shape[1] != b.shape[0]:\n",
    "        raise ValueError(\"a.shape[1] != b.shape[0] : {} != {}\".format(a.shape[1], b.shape[0]))\n",
    "    c = (a[:, np.newaxis, :]*b.T).sum(axis=2)\n",
    "    return c\n",
    "\n",
    "d = np.array([[-1, 2, 3], [4, -5, 6]])\n",
    "e = np.array([[-9, 8, 7], [6, -5, 4]])\n",
    "print(\"計算結果\\n{}\".format(matrix_product_q5_3(d, e)))"
   ]
  },
  {
   "cell_type": "markdown",
   "metadata": {},
   "source": [
    "問題4の関数にそのまま行列を入れると、どのようなエラーになるかを確認しておきます。"
   ]
  },
  {
   "cell_type": "code",
   "execution_count": 13,
   "metadata": {},
   "outputs": [
    {
     "ename": "NameError",
     "evalue": "name 'matrix_product_q4_1' is not defined",
     "output_type": "error",
     "traceback": [
      "\u001b[0;31m---------------------------------------------------------------------------\u001b[0m",
      "\u001b[0;31mNameError\u001b[0m                                 Traceback (most recent call last)",
      "\u001b[0;32m<ipython-input-13-e367387057ae>\u001b[0m in \u001b[0;36m<module>\u001b[0;34m\u001b[0m\n\u001b[1;32m      1\u001b[0m \u001b[0;31m# エラーになる\u001b[0m\u001b[0;34m\u001b[0m\u001b[0;34m\u001b[0m\u001b[0;34m\u001b[0m\u001b[0m\n\u001b[0;32m----> 2\u001b[0;31m \u001b[0mprint\u001b[0m\u001b[0;34m(\u001b[0m\u001b[0;34m\"計算結果\\n{}\"\u001b[0m\u001b[0;34m.\u001b[0m\u001b[0mformat\u001b[0m\u001b[0;34m(\u001b[0m\u001b[0mmatrix_product_q4_1\u001b[0m\u001b[0;34m(\u001b[0m\u001b[0md\u001b[0m\u001b[0;34m,\u001b[0m \u001b[0me\u001b[0m\u001b[0;34m)\u001b[0m\u001b[0;34m)\u001b[0m\u001b[0;34m)\u001b[0m\u001b[0;34m\u001b[0m\u001b[0;34m\u001b[0m\u001b[0m\n\u001b[0m",
      "\u001b[0;31mNameError\u001b[0m: name 'matrix_product_q4_1' is not defined"
     ]
    }
   ],
   "source": [
    "# エラーになる\n",
    "print(\"計算結果\\n{}\".format(matrix_product_q4_1(d, e)))"
   ]
  },
  {
   "cell_type": "markdown",
   "metadata": {},
   "source": [
    "### 【問題6】転置\n",
    "\n",
    "片方の行列を転置することで、行列積が計算できるようになります。\n",
    "\n",
    "`np.transpose()`や`.T`アトリビュートを用いて転置し、行列積を計算してください。"
   ]
  },
  {
   "cell_type": "code",
   "execution_count": 28,
   "metadata": {},
   "outputs": [
    {
     "name": "stdout",
     "output_type": "stream",
     "text": [
      "計算結果：\n",
      "[[ 33 -28   9]\n",
      " [-48  41  -6]\n",
      " [  9  -6  45]]\n",
      "計算結果：\n",
      "[[ 46  -4]\n",
      " [-34  73]]\n"
     ]
    }
   ],
   "source": [
    "d = np.array([[-1, 2, 3], [4, -5, 6]])\n",
    "e = np.array([[-9, 8, 7], [6, -5, 4]])\n",
    "\n",
    "print(\"計算結果：\\n{}\".format(d.T@e))\n",
    "print(\"計算結果：\\n{}\".format(d@e.T))"
   ]
  }
 ],
 "metadata": {
  "kernelspec": {
   "display_name": "Python 3",
   "language": "python",
   "name": "python3"
  },
  "language_info": {
   "codemirror_mode": {
    "name": "ipython",
    "version": 3
   },
   "file_extension": ".py",
   "mimetype": "text/x-python",
   "name": "python",
   "nbconvert_exporter": "python",
   "pygments_lexer": "ipython3",
   "version": "3.7.4"
  }
 },
 "nbformat": 4,
 "nbformat_minor": 2
}
