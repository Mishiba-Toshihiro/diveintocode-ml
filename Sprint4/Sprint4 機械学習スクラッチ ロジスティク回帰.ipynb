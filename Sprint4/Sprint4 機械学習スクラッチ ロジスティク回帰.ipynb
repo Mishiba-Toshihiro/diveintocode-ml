{
 "cells": [
  {
   "cell_type": "markdown",
   "metadata": {},
   "source": [
    "### Sprint4 機械学習スクラッチ ロジスティク回帰\n",
    "ロジスティック回帰のクラスをスクラッチで作成していきます。NumPyなど最低限のライブラリのみを使いアルゴリズムを実装していきます。\n",
    "\n",
    "\n",
    "以下に雛形を用意してあります。このScratchLogisticRegressionクラスにコードを書き加えていってください。推定関係のメソッドは線形回帰と異なり、ラベルを出力するpredictメソッドと、確率を出力するpredict_probaメソッドの2種類を作成します。"
   ]
  },
  {
   "cell_type": "code",
   "execution_count": 1,
   "metadata": {},
   "outputs": [],
   "source": [
    "import numpy as np\n",
    "import pandas as pd\n",
    "import matplotlib.pyplot as plt\n",
    "%matplotlib inline\n",
    "from sklearn.model_selection import train_test_split\n",
    "from sklearn.preprocessing import StandardScaler\n",
    "import math"
   ]
  },
  {
   "cell_type": "code",
   "execution_count": 2,
   "metadata": {},
   "outputs": [],
   "source": [
    "class ScratchLogisticRegression():\n",
    "    \"\"\"\n",
    "    ロジスティック回帰のスクラッチ実装\n",
    "\n",
    "    Parameters\n",
    "    ----------\n",
    "    num_iter : int\n",
    "      イテレーション数\n",
    "    lr : float\n",
    "      学習率\n",
    "    no_bias : bool\n",
    "      バイアス項を入れない場合はTrue\n",
    "    verbose : bool\n",
    "      学習過程を出力する場合はTrue\n",
    "\n",
    "    Attributes\n",
    "    ----------\n",
    "    self.coef_ : 次の形のndarray, shape (n_features,)\n",
    "      パラメータ\n",
    "    self.loss : 次の形のndarray, shape (self.iter,)\n",
    "      訓練データに対する損失の記録\n",
    "    self.val_loss : 次の形のndarray, shape (self.iter,)\n",
    "      検証データに対する損失の記録\n",
    "      \n",
    "          \"\"\"\n",
    "    def __init__(self, num_iter, lr, no_bias, verbose,λ):\n",
    "        # ハイパーパラメータを属性として記録\n",
    "        self.iter = num_iter\n",
    "        self.lr = lr\n",
    "        self.no_bias = no_bias\n",
    "        self.verbose = verbose\n",
    "        # 損失を記録する配列を用意\n",
    "        self.loss = np.zeros(self.iter)\n",
    "        self.val_loss = np.zeros(self.iter)\n",
    "        self.λ = λ  # 正則化パラメータλはクラスを呼び出す時にself.λに代入するようにした。\n",
    "    \n",
    "    def _linear_hypothesis(self, X):\n",
    "        \"\"\"\n",
    "        線形の仮定関数を計算する\n",
    "\n",
    "        Parameters\n",
    "        ----------\n",
    "        X : 次の形のndarray, shape (n_samples, n_features)\n",
    "          訓練データ\n",
    "\n",
    "        Returns\n",
    "        -------\n",
    "        次の形のndarray, shape (n_samples, 1)\n",
    "        線形の仮定関数による推定結果\n",
    "\n",
    "        \"\"\" \n",
    "        z = np.dot(X,self.theta)\n",
    "        #シグモイド関数に入れる\n",
    "        h = 1/(1+np.exp(-z))\n",
    "        return h\n",
    "    \n",
    "    def fit(self, X, y, X_val=None, y_val=None):\n",
    "        \"\"\"\n",
    "        ロジスティック回帰を学習する。検証データが入力された場合はそれに対する損失と精度もイテレーションごとに計算する。\n",
    "\n",
    "        Parameters\n",
    "        ----------\n",
    "        X : 次の形のndarray, shape (n_samples, n_features)\n",
    "            訓練データの特徴量\n",
    "        y : 次の形のndarray, shape (n_samples, )\n",
    "            訓練データの正解値\n",
    "        X_val : 次の形のndarray, shape (n_samples, n_features)\n",
    "            検証データの特徴量\n",
    "        y_val : 次の形のndarray, shape (n_samples, )\n",
    "            検証データの正解値\n",
    "        \"\"\"\n",
    "        m,n = X.shape\n",
    "        \n",
    "        # バイアスが無い場合は、Xデータはそのままで、Xデータの特徴量分のself.thetaを初期作成。\n",
    "        if self.no_bias==True:\n",
    "            self.theta = np.zeros(n) \n",
    "            self.theta = self.theta.reshape(-1,1)\n",
    "            X = X\n",
    "            self.y = y\n",
    "        # バイアスが有る場合は、Xデータをバイアス項分の列を加え（各要素は1）、Xデータの列分のself.thetaを初期作成。   \n",
    "        if self.no_bias==False:\n",
    "            theta = np.zeros(n+1) \n",
    "            self.theta = theta.reshape(-1,1)\n",
    "            ones = np.ones((m,1))\n",
    "            X = np.hstack([ones,X])\n",
    "            self.y = y\n",
    "            # validationデータが入力されている場合、X_valにもバイアス項分の列を加える（各要素は1）\n",
    "            if X_val is not None and y_val is not None:\n",
    "                k = len(X_val)\n",
    "                ones = np.ones((k,1))\n",
    "                X_val = np.hstack([ones,X_val])\n",
    "        \n",
    "        # イテレーション回数分、elf.thetaを更新。その際目的関数もlossに記録\n",
    "        for i in range(self.iter):\n",
    "            error = self._linear_hypothesis(X)-y\n",
    "            self.theta = self._gradient_descent(X,error)\n",
    "            j_theta = self._cost_function(self._linear_hypothesis(X), y)\n",
    "            self.loss[i] = j_theta\n",
    "            #verboseがTrueの場合、学習過程を出力\n",
    "            if self.verbose:\n",
    "                print(\"{}回目：{}\".format(i+1,j_theta) )  \n",
    "            ## validationデータが入力されている場合、目的関数をval_lossに記録\n",
    "            if X_val is not None and y_val is not None:\n",
    "                    pred = self._linear_hypothesis(X_val)\n",
    "                    j_theta_val = self._cost_function(pred, y_val)\n",
    "                    self.val_loss[i] = j_theta_val\n",
    "                \n",
    "    def _gradient_descent(self, X, error):\n",
    "        \"\"\"\n",
    "        各特徴量に相当するw（j）を計算する\n",
    "\n",
    "        \"\"\"\n",
    "        \n",
    "        m,n = X.shape \n",
    "        sigma = np.zeros((m,1))\n",
    "        # j=0では正則化項はいらないので別で処理\n",
    "        for i in range(m):\n",
    "            sigma[0] = sigma[0]+(self._linear_hypothesis(X)[i]-self.y[i])*X[i][0]\n",
    "        self.theta[0] = self.theta[0]-self.lr/m*sigma[0]\n",
    "        # j=1移行は正則化項を加えて処理\n",
    "        # 正則化パラメータλはクラスを呼び出す時にself.λに代入するようにした。 \n",
    "        for j in range(1,n):\n",
    "            for i in range(m):\n",
    "                sigma[j] = sigma[j]+(self._linear_hypothesis(X)[i]-self.y[i])*X[i][j]\n",
    "            self.theta[j] = self.theta[j]-self.lr/m*sigma[j] + self.λ/m*self.theta[j]\n",
    "            \n",
    "        return self.theta\n",
    "            \n",
    "\n",
    "    def predict(self, X):\n",
    "        \"\"\"\n",
    "        ロジスティック回帰を使いラベルを推定する。\n",
    "\n",
    "        Parameters\n",
    "        ----------\n",
    "        X : 次の形のndarray, shape (n_samples, n_features)\n",
    "            サンプル\n",
    "\n",
    "        Returns\n",
    "        -------\n",
    "            次の形のndarray, shape (n_samples, 1)\n",
    "            ロジスティック回帰による推定結果\n",
    "        \"\"\"\n",
    "        # 予測に入れたXが学習時のself.thetaの列と等しい場合、Xはそのまま\n",
    "        if len(self.theta)==X.shape[1]:\n",
    "            pass\n",
    "        # 予測に入れたXが学習時のself.thetaの列と異なる場合（つまりbisaが有る場合）、Xに要素１の列を加える。\n",
    "        else:\n",
    "            k = len(X)\n",
    "            ones = np.ones((k,1))\n",
    "            X = np.hstack([ones,X])\n",
    "        # 確率が0.5未満の場合は０を、0.5以上の場合は１を返す。\n",
    "        return np.where(self.predict_proba(X) < 0.5, 0, 1)\n",
    "    \n",
    "    def predict_proba(self, X):\n",
    "        \"\"\"\n",
    "        ロジスティック回帰を使い確率を推定する。\n",
    "\n",
    "        Parameters\n",
    "        ----------\n",
    "        X : 次の形のndarray, shape (n_samples, n_features)\n",
    "            サンプル\n",
    "\n",
    "        Returns\n",
    "        -------\n",
    "            次の形のndarray, shape (n_samples, 1)\n",
    "            ロジスティック回帰による推定結果\n",
    "        \"\"\"\n",
    "        # 予測に入れたXが学習時のself.thetaの列と等しい場合、Xはそのまま\n",
    "        if len(self.theta)==X.shape[1]:\n",
    "            pass\n",
    "        # 予測に入れたXが学習時のself.thetaの列と異なる場合（つまりbisaが有る場合）、Xに要素１の列を加える。\n",
    "        else:\n",
    "            k = len(X)\n",
    "            ones = np.ones((k,1))\n",
    "            X = np.hstack([ones,X])\n",
    "        # 予測値（ベクトル）は、_linear_hypothesis()関数の返り値を返す。\n",
    "        return self._linear_hypothesis(X)\n",
    "    \n",
    "    def _cost_function(self, pred, y):\n",
    "        \"\"\"\n",
    "        目的関数の計算\n",
    "\n",
    "        Parameters\n",
    "        ----------\n",
    "        pred : 次の形のndarray, shape (n_samples,)\n",
    "          推定した値\n",
    "        y : 次の形のndarray, shape (n_samples,)\n",
    "          正解値\n",
    "\n",
    "        Returns\n",
    "        ----------\n",
    "          numpy.float\n",
    "          平均二乗誤差\n",
    "        \"\"\"\n",
    "        m = len(y)\n",
    "        n = len(self.theta)\n",
    "        \n",
    "        siguma1 = 0\n",
    "        siguma2 = 0\n",
    "        \n",
    "        # 目的関数の第１項目を計算\n",
    "        for i in range(m):\n",
    "            h = pred[i]\n",
    "            siguma1 = siguma1 -y[i]*np.log(h)-(1-y[i])*np.log(1-h)\n",
    "        \n",
    "        # 目的関数の第２項目（L2項）を計算\n",
    "        for j in range(n):\n",
    "            siguma2 = siguma2 +self.theta[j]**2\n",
    "        \n",
    "        # 最後に係数含めて、足し合わせる。\n",
    "        J =  1/m*siguma1 + self.λ/(2*m)*siguma2\n",
    "        \n",
    "        return J"
   ]
  },
  {
   "cell_type": "markdown",
   "metadata": {},
   "source": [
    "\n",
    "$$\n",
    "J(\\theta)=  \\frac{1}{m}  \\sum_{i=1}^{m}[−y^{(i)} log(h_θ(x^{(i)})) − (1−y^{(i)}) log(1−h_θ(x^{(i)}))] +\n",
    "\\frac{λ}{2m}\\sum_{j=1}^n\n",
    "θ^2_j.\\\\\n",
    "$$\n"
   ]
  },
  {
   "cell_type": "markdown",
   "metadata": {},
   "source": [
    "### 【問題1】仮定関数\n",
    "ロジスティック回帰の仮定関数のメソッドをScratchLogisticRegressionクラスに実装してください。\n",
    "\n",
    "\n",
    "ロジスティック回帰の仮定関数は、線形回帰の仮定関数を シグモイド関数 に通したものです。シグモイド関数は以下の式で表されます。\n",
    "\n",
    "$$\n",
    "g(z) = \\frac{1}{1+e^{−z}}.\n",
    "$$\n",
    "\n",
    "線形回帰の仮定関数は次の式でした。\n",
    "\n",
    "$$\n",
    "h_\\theta(x) = \\theta^T \\cdot x.\n",
    "$$\n",
    "\n",
    "まとめて書くと、ロジスティック回帰の仮定関数は次のようになります。\n",
    "\n",
    "$$\n",
    "h_\\theta(x) = \\frac{1}{1+e^{−\\theta^T \\cdot x}}.\n",
    "$$\n",
    "\n",
    "$$ x : 特徴量ベクトル $$\n",
    "\n",
    "$$\\theta : パラメータ（重み）ベクトル$$ "
   ]
  },
  {
   "cell_type": "markdown",
   "metadata": {},
   "source": [
    "```python\n",
    "def _linear_hypothesis(self, X):\n",
    "        \"\"\"\n",
    "        線形の仮定関数を計算する\n",
    "\n",
    "        Parameters\n",
    "        ----------\n",
    "        X : 次の形のndarray, shape (n_samples, n_features)\n",
    "          訓練データ\n",
    "\n",
    "        Returns\n",
    "        -------\n",
    "        次の形のndarray, shape (n_samples, 1)\n",
    "        線形の仮定関数による推定結果\n",
    "\n",
    "        \"\"\" \n",
    "        z = np.dot(X,self.theta)\n",
    "        #シグモイド関数に入れる\n",
    "        h = 1/(1+np.exp(-z))\n",
    "        return h\n",
    "```"
   ]
  },
  {
   "cell_type": "markdown",
   "metadata": {},
   "source": [
    "### 【問題2】最急降下法\n",
    "最急降下法により学習させる実装を行なってください。以下の式で表されるパラメータの更新式のメソッド_gradient_descentを追加し、fit\n",
    "メソッドから呼び出すようにしてください。\n",
    "\n",
    "$$\n",
    "\\theta_j := \\theta_j - \\alpha \\frac{\\partial J(\\theta)}{\\partial \\theta_j}\\\\<br/>\\frac{\\partial J(\\theta)}{\\partial \\theta_0} = \\frac{1}{m}  \\sum_{i=1}^{m}(h_θ(x^{(i)}) − y^{(i)})x_j^{(i)}  ,j = 0\\\\<br/>\\frac{\\partial J(\\theta)}{\\partial \\theta_j} = \\biggl(\\frac{1}{m}  \\sum_{i=1}^{m}(h_θ(x^{(i)}) − y^{(i)})x_j^{(i)} \\biggr) + \\frac{λ}{m}\\theta_j　 ,j\\geq 1\n",
    "$$"
   ]
  },
  {
   "cell_type": "markdown",
   "metadata": {},
   "source": [
    "```python\n",
    "     def _gradient_descent(self, X, error):\n",
    "        \"\"\"\n",
    "        各特徴量に相当するw（j）を計算する\n",
    "\n",
    "        \"\"\"\n",
    "        \n",
    "        m,n = X.shape \n",
    "        sigma = np.zeros((m,1))\n",
    "        # j=0では正則化項はいらないので別で処理\n",
    "        for i in range(m):\n",
    "            sigma[0] = sigma[0]+(self._linear_hypothesis(X)[i]-self.y[i])*X[i][0]\n",
    "        self.theta[0] = self.theta[0]-self.lr/m*sigma[0]\n",
    "        # j=1移行は正則化項を加えて処理\n",
    "        # 正則化パラメータλはクラスを呼び出す時にself.λに代入するようにした。 \n",
    "        for j in range(1,n):\n",
    "            for i in range(m):\n",
    "                sigma[j] = sigma[j]+(self._linear_hypothesis(X)[i]-self.y[i])*X[i][j]\n",
    "            self.theta[j] = self.theta[j]-self.lr/m*sigma[j] + self.λ/m*self.theta[j]\n",
    "            \n",
    "        return self.theta\n",
    "            \n",
    "def fit(self, X, y, X_val=None, y_val=None):\n",
    "        \"\"\"\n",
    "        ロジスティック回帰を学習する。検証データが入力された場合はそれに対する損失と精度もイテレーションごとに計算する。\n",
    "\n",
    "        Parameters\n",
    "        ----------\n",
    "        X : 次の形のndarray, shape (n_samples, n_features)\n",
    "            訓練データの特徴量\n",
    "        y : 次の形のndarray, shape (n_samples, )\n",
    "            訓練データの正解値\n",
    "        X_val : 次の形のndarray, shape (n_samples, n_features)\n",
    "            検証データの特徴量\n",
    "        y_val : 次の形のndarray, shape (n_samples, )\n",
    "            検証データの正解値\n",
    "        \"\"\"\n",
    "        m,n = X.shape\n",
    "        \n",
    "        # バイアスが無い場合は、Xデータはそのままで、Xデータの特徴量分のself.thetaを初期作成。\n",
    "        if self.no_bias==True:\n",
    "            self.theta = np.zeros(n) \n",
    "            self.theta = self.theta.reshape(-1,1)\n",
    "            X = X\n",
    "            self.y = y\n",
    "            \n",
    "        # バイアスが有る場合は、Xデータをバイアス項分の列を加え（各要素は1）、Xデータの列分のself.thetaを初期作成。 \n",
    "        if self.no_bias==False:\n",
    "            theta = np.zeros(n+1) \n",
    "            self.theta = theta.reshape(-1,1)\n",
    "            ones = np.ones((m,1))\n",
    "            X = np.hstack([ones,X])\n",
    "            self.y = y\n",
    "            # validationデータが入力されている場合、X_valにもバイアス項分の列を加える（各要素は1）\n",
    "            if X_val is not None and y_val is not None:\n",
    "                k = len(X_val)\n",
    "                ones = np.ones((k,1))\n",
    "                X_val = np.hstack([ones,X_val])\n",
    "        \n",
    "        # イテレーション回数分、elf.thetaを更新。その際目的関数もlossに記録\n",
    "        for i in range(self.iter):\n",
    "            error = self._linear_hypothesis(X)-y\n",
    "            self.theta = self._gradient_descent(X,error)\n",
    "            j_theta = self._cost_function(self._linear_hypothesis(X), y)\n",
    "            self.loss[i] = j_theta\n",
    "            #verboseがTrueの場合、学習過程を出力\n",
    "            if self.verbose:\n",
    "                print(\"{}回目：{}\".format(i+1,j_theta) )  \n",
    "            ## validationデータが入力されている場合、目的関数をval_lossに記録\n",
    "            if X_val is not None and y_val is not None:\n",
    "                    pred = self._linear_hypothesis(X_val)\n",
    "                    j_theta_val = self._cost_function(pred, y_val)\n",
    "                    self.val_loss[i] = j_theta_val\n",
    "                            \n",
    "```"
   ]
  },
  {
   "cell_type": "markdown",
   "metadata": {},
   "source": [
    "### 【問題3】推定\n",
    "推定する仕組みを実装してください。ScratchLogisticRegressionクラスの雛形に含まれるpredictメソッドとpredict_probaメソッドに書き加えてください。\n",
    "\n",
    "\n",
    "仮定関数 $h_\\theta(x)$ の出力がpredict_probaの返り値、さらにその値に閾値を設けて1と0のラベルとしたものがpredictの返り値となります。\n",
    "\n"
   ]
  },
  {
   "cell_type": "markdown",
   "metadata": {},
   "source": [
    "```python\n",
    "def predict(self, X):\n",
    "        \"\"\"\n",
    "        ロジスティック回帰を使いラベルを推定する。\n",
    "\n",
    "        Parameters\n",
    "        ----------\n",
    "        X : 次の形のndarray, shape (n_samples, n_features)\n",
    "            サンプル\n",
    "\n",
    "        Returns\n",
    "        -------\n",
    "            次の形のndarray, shape (n_samples, 1)\n",
    "            ロジスティック回帰による推定結果\n",
    "        \"\"\"\n",
    "        # 予測に入れたXが学習時のself.thetaの列と等しい場合、Xはそのまま\n",
    "        if len(self.theta)==X.shape[1]:\n",
    "            pass\n",
    "        # 予測に入れたXが学習時のself.thetaの列と異なる場合（つまりbisaが有る場合）、Xに要素１の列を加える。\n",
    "        else:\n",
    "            k = len(X)\n",
    "            ones = np.ones((k,1))\n",
    "            X = np.hstack([ones,X])\n",
    "        # 確率が0.5未満の場合は０を、0.5以上の場合は１を返す。\n",
    "        return np.where(self.predict_proba(X) < 0.5, 0, 1)\n",
    "    \n",
    "    def predict_proba(self, X):\n",
    "        \"\"\"\n",
    "        ロジスティック回帰を使い確率を推定する。\n",
    "\n",
    "        Parameters\n",
    "        ----------\n",
    "        X : 次の形のndarray, shape (n_samples, n_features)\n",
    "            サンプル\n",
    "        Returns\n",
    "        -------\n",
    "            次の形のndarray, shape (n_samples, 1)\n",
    "            ロジスティック回帰による推定結果\n",
    "        \"\"\"\n",
    "        # 予測に入れたXが学習時のself.thetaの列と等しい場合、Xはそのまま\n",
    "        if len(self.theta)==X.shape[1]:\n",
    "            pass\n",
    "        # 予測に入れたXが学習時のself.thetaの列と異なる場合（つまりbisaが有る場合）、Xに要素１の列を加える。\n",
    "        else:\n",
    "            k = len(X)\n",
    "            ones = np.ones((k,1))\n",
    "            X = np.hstack([ones,X])\n",
    "        # 予測値（ベクトル）は、_linear_hypothesis()関数の返り値を返す。\n",
    "        return self._linear_hypothesis(X)\n",
    "    \n",
    "```"
   ]
  },
  {
   "cell_type": "markdown",
   "metadata": {},
   "source": [
    "### 【問題4】目的関数\n",
    "以下の数式で表されるロジスティック回帰の 目的関数（損失関数） を実装してください。そして、これをself.loss, self.val_lossに記録するようにしてください。\n",
    "\n",
    "\n",
    "なお、この数式には正則化項が含まれています。\n",
    "\n",
    "\n",
    "＊数式が見切れる場合、DIVERを全画面にして御覧ください。\n",
    "\n",
    "$$\n",
    "J(\\theta)=  \\frac{1}{m}  \\sum_{i=1}^{m}[−y^{(i)} log(h_θ(x^{(i)})) − (1−y^{(i)}) log(1−h_θ(x^{(i)}))] +\n",
    "\\frac{λ}{2m}\\sum_{j=1}^n\n",
    "θ^2_j.\\\\\n",
    "$$\n"
   ]
  },
  {
   "cell_type": "markdown",
   "metadata": {},
   "source": [
    "```python\n",
    "def _cost_function(self, pred, y):\n",
    "        \"\"\"\n",
    "        目的関数の計算\n",
    "\n",
    "        Parameters\n",
    "        ----------\n",
    "        pred : 次の形のndarray, shape (n_samples,)\n",
    "          推定した値\n",
    "        y : 次の形のndarray, shape (n_samples,)\n",
    "          正解値\n",
    "\n",
    "        Returns\n",
    "        ----------\n",
    "          numpy.float\n",
    "          平均二乗誤差\n",
    "        \"\"\"\n",
    "        m = len(y)\n",
    "        n = len(self.theta)\n",
    "        \n",
    "        siguma1 = 0\n",
    "        siguma2 = 0\n",
    "        \n",
    "        # 目的関数の第１項目を計算\n",
    "        for i in range(m):\n",
    "            h = pred[i]\n",
    "            siguma1 = siguma1 -y[i]*np.log(h)-(1-y[i])*np.log(1-h)\n",
    "        \n",
    "        # 目的関数の第２項目（L2項）を計算\n",
    "        for j in range(n):\n",
    "            siguma2 = siguma2 +self.theta[j]**2\n",
    "        \n",
    "        # 最後に係数含めて、足し合わせる。\n",
    "        J =  1/m*siguma1 + self.λ/(2*m)*siguma2\n",
    "        \n",
    "        return J\n",
    "```"
   ]
  },
  {
   "cell_type": "markdown",
   "metadata": {},
   "source": [
    "### 【問題5】学習と推定\n",
    "機械学習スクラッチ入門のSprintで用意したirisデータセットのvirgicolorとvirginicaの2値分類に対してスクラッチ実装の学習と推定を行なってください。\n",
    "\n",
    "\n",
    "scikit-learnによる実装と比べ、正しく動いているかを確認してください。\n",
    "\n",
    "\n",
    "AccuracyやPrecision、Recallなどの指標値はscikit-learnを使用してください。"
   ]
  },
  {
   "cell_type": "code",
   "execution_count": 3,
   "metadata": {},
   "outputs": [],
   "source": [
    "# irisデータ取得　\n",
    "from sklearn.datasets import load_iris\n",
    "iris = load_iris()\n",
    "X = iris.data[50:150]\n",
    "y = iris.target[50:150].reshape(-1,1)\n",
    "X = X[:,0:2] #今回はsetal length, setal width の特徴量を使う\n",
    "#デフォルトであるとvirgicolor：1とvirginica:2なので、この後のラベル推定のためそれぞれvirgicolor：0, virginica:1にしておく\n",
    "y[y == 1]= 0\n",
    "y[y == 2]= 1"
   ]
  },
  {
   "cell_type": "code",
   "execution_count": 4,
   "metadata": {},
   "outputs": [],
   "source": [
    "#　データの分割\n",
    "X_train,X_test,y_train,y_test = train_test_split(X,y,random_state=1)\n",
    "\n",
    "scaler = StandardScaler()\n",
    "scaler.fit(X_train)\n",
    "X_train = scaler.transform(X_train)\n",
    "X_test = scaler.transform(X_test)"
   ]
  },
  {
   "cell_type": "code",
   "execution_count": 5,
   "metadata": {},
   "outputs": [
    {
     "name": "stdout",
     "output_type": "stream",
     "text": [
      "1回目：[0.6831684]\n",
      "2回目：[0.67386856]\n",
      "3回目：[0.66519904]\n",
      "4回目：[0.65711383]\n",
      "5回目：[0.64956969]\n",
      "6回目：[0.64252616]\n",
      "7回目：[0.63594556]\n",
      "8回目：[0.62979291]\n",
      "9回目：[0.62403585]\n",
      "10回目：[0.61864447]\n",
      "11回目：[0.61359123]\n",
      "12回目：[0.60885079]\n",
      "13回目：[0.60439984]\n",
      "14回目：[0.60021696]\n",
      "15回目：[0.5962825]\n",
      "16回目：[0.5925784]\n",
      "17回目：[0.58908809]\n",
      "18回目：[0.58579636]\n",
      "19回目：[0.58268924]\n",
      "20回目：[0.57975387]\n",
      "21回目：[0.57697845]\n",
      "22回目：[0.57435213]\n",
      "23回目：[0.57186491]\n",
      "24回目：[0.56950757]\n",
      "25回目：[0.56727163]\n",
      "26回目：[0.56514926]\n",
      "27回目：[0.56313322]\n",
      "28回目：[0.56121683]\n",
      "29回目：[0.5593939]\n",
      "30回目：[0.5576587]\n",
      "31回目：[0.55600594]\n",
      "32回目：[0.55443068]\n",
      "33回目：[0.55292837]\n",
      "34回目：[0.55149475]\n",
      "35回目：[0.55012588]\n",
      "36回目：[0.54881809]\n",
      "37回目：[0.54756794]\n",
      "38回目：[0.54637226]\n",
      "39回目：[0.54522805]\n",
      "40回目：[0.54413254]\n",
      "41回目：[0.54308314]\n",
      "42回目：[0.5420774]\n",
      "43回目：[0.54111305]\n",
      "44回目：[0.54018795]\n",
      "45回目：[0.53930011]\n",
      "46回目：[0.53844765]\n",
      "47回目：[0.53762881]\n",
      "48回目：[0.53684192]\n",
      "49回目：[0.53608543]\n",
      "50回目：[0.53535788]\n",
      "51回目：[0.53465789]\n",
      "52回目：[0.53398415]\n",
      "53回目：[0.53333544]\n",
      "54回目：[0.5327106]\n",
      "55回目：[0.53210853]\n",
      "56回目：[0.53152822]\n",
      "57回目：[0.53096867]\n",
      "58回目：[0.53042898]\n",
      "59回目：[0.52990825]\n",
      "60回目：[0.52940568]\n",
      "61回目：[0.52892047]\n",
      "62回目：[0.52845189]\n",
      "63回目：[0.52799922]\n",
      "64回目：[0.52756181]\n",
      "65回目：[0.52713901]\n",
      "66回目：[0.52673022]\n",
      "67回目：[0.52633488]\n",
      "68回目：[0.52595243]\n",
      "69回目：[0.52558236]\n",
      "70回目：[0.52522418]\n",
      "71回目：[0.52487741]\n",
      "72回目：[0.52454162]\n",
      "73回目：[0.52421637]\n",
      "74回目：[0.52390126]\n",
      "75回目：[0.5235959]\n",
      "76回目：[0.52329992]\n",
      "77回目：[0.52301297]\n",
      "78回目：[0.52273471]\n",
      "79回目：[0.52246482]\n",
      "80回目：[0.522203]\n",
      "81回目：[0.52194895]\n",
      "82回目：[0.52170238]\n",
      "83回目：[0.52146304]\n",
      "84回目：[0.52123066]\n",
      "85回目：[0.52100499]\n",
      "86回目：[0.52078581]\n",
      "87回目：[0.52057288]\n",
      "88回目：[0.52036599]\n",
      "89回目：[0.52016493]\n",
      "90回目：[0.5199695]\n",
      "91回目：[0.51977951]\n",
      "92回目：[0.51959478]\n",
      "93回目：[0.51941513]\n",
      "94回目：[0.5192404]\n",
      "95回目：[0.51907041]\n",
      "96回目：[0.51890503]\n",
      "97回目：[0.51874408]\n",
      "98回目：[0.51858744]\n",
      "99回目：[0.51843497]\n",
      "100回目：[0.51828652]\n"
     ]
    }
   ],
   "source": [
    "# スクラッチ関数で学習・予測を行う\n",
    "Scrach_LR = ScratchLogisticRegression(num_iter=100, lr=0.1, no_bias=False, verbose=True,λ=0.01)\n",
    "Scrach_LR.fit(X_train,y_train,X_test,y_test)\n",
    "\n",
    "pred_lavel = Scrach_LR.predict(X_test)\n",
    "pred_proba = Scrach_LR.predict_proba(X_test)"
   ]
  },
  {
   "cell_type": "code",
   "execution_count": 6,
   "metadata": {},
   "outputs": [
    {
     "name": "stdout",
     "output_type": "stream",
     "text": [
      "accuracy_score:0.6\n",
      "precision_score:0.7777777777777778\n",
      "recall_score:0.4666666666666667\n",
      "f1_score:0.5833333333333334\n",
      "confusion_matrix:\n",
      "[[8 2]\n",
      " [8 7]]\n"
     ]
    }
   ],
   "source": [
    "# Scrachの予測結果の評価\n",
    "from sklearn.metrics import accuracy_score\n",
    "from sklearn.metrics import precision_score\n",
    "from sklearn.metrics import recall_score\n",
    "from sklearn.metrics import f1_score\n",
    "from sklearn.metrics import confusion_matrix\n",
    "\n",
    "print(\"accuracy_score:{}\".format(accuracy_score(y_test,pred_lavel)))\n",
    "print(\"precision_score:{}\".format(precision_score(y_test,pred_lavel)))\n",
    "print(\"recall_score:{}\".format(recall_score(y_test,pred_lavel)))\n",
    "print(\"f1_score:{}\".format(f1_score(y_test,pred_lavel)))\n",
    "print(\"confusion_matrix:\\n{}\".format(confusion_matrix(y_test,pred_lavel)))"
   ]
  },
  {
   "cell_type": "code",
   "execution_count": 7,
   "metadata": {},
   "outputs": [
    {
     "name": "stderr",
     "output_type": "stream",
     "text": [
      "/Users/mishibatoshihiro/.pyenv/versions/anaconda3-2019.10/lib/python3.7/site-packages/sklearn/linear_model/logistic.py:432: FutureWarning: Default solver will be changed to 'lbfgs' in 0.22. Specify a solver to silence this warning.\n",
      "  FutureWarning)\n",
      "/Users/mishibatoshihiro/.pyenv/versions/anaconda3-2019.10/lib/python3.7/site-packages/sklearn/utils/validation.py:724: DataConversionWarning: A column-vector y was passed when a 1d array was expected. Please change the shape of y to (n_samples, ), for example using ravel().\n",
      "  y = column_or_1d(y, warn=True)\n"
     ]
    }
   ],
   "source": [
    "# Sklearn で学習・予測を行う\n",
    "from sklearn.linear_model import LogisticRegression\n",
    "\n",
    "LR = LogisticRegression(max_iter=100,C=100)\n",
    "LR.fit(X_train,y_train)\n",
    "\n",
    "pred_lavel_LR = LR.predict(X_test)\n",
    "pred_proba_LR = LR.predict_proba(X_test)[:,1]"
   ]
  },
  {
   "cell_type": "code",
   "execution_count": 8,
   "metadata": {},
   "outputs": [
    {
     "name": "stdout",
     "output_type": "stream",
     "text": [
      "accuracy_score:0.6\n",
      "precision_score:0.7777777777777778\n",
      "recall_score:0.4666666666666667\n",
      "f1_score:0.5833333333333334\n",
      "confusion_matrix:\n",
      "[[8 2]\n",
      " [8 7]]\n"
     ]
    }
   ],
   "source": [
    "# sklearnの予測結果の評価\n",
    "print(\"accuracy_score:{}\".format(accuracy_score(y_test,pred_lavel_LR)))\n",
    "print(\"precision_score:{}\".format(precision_score(y_test,pred_lavel_LR)))\n",
    "print(\"recall_score:{}\".format(recall_score(y_test,pred_lavel_LR)))\n",
    "print(\"f1_score:{}\".format(f1_score(y_test,pred_lavel_LR)))\n",
    "print(\"confusion_matrix:\\n{}\".format(confusion_matrix(y_test,pred_lavel_LR)))"
   ]
  },
  {
   "cell_type": "code",
   "execution_count": 9,
   "metadata": {},
   "outputs": [
    {
     "name": "stdout",
     "output_type": "stream",
     "text": [
      "Scrach_pred[[1 0 0 1 1 0 1 0 0 1 0 0 0 1 0 0 0 0 0 0 1 0 1 1 0]]\n",
      "LR_pred[[1 0 0 1 1 0 1 0 0 1 0 0 0 1 0 0 0 0 0 0 1 0 1 1 0]]\n",
      "Accuracy[[1 1 0 1 1 0 0 1 1 1 1 0 1 1 1 0 0 0 1 0 0 1 1 1 0]]\n"
     ]
    }
   ],
   "source": [
    "# 各モデルの予測ラベルと正解ラベルを表示\n",
    "print(\"Scrach_pred{}\".format(pred_lavel.reshape(1,-1)))\n",
    "print(\"LR_pred{}\".format(pred_lavel_LR.reshape(1,-1)))\n",
    "print(\"Accuracy{}\".format(y_test.reshape(1,-1)))"
   ]
  },
  {
   "cell_type": "code",
   "execution_count": 10,
   "metadata": {},
   "outputs": [
    {
     "data": {
      "text/plain": [
       "[<matplotlib.lines.Line2D at 0x1a16e816d0>]"
      ]
     },
     "execution_count": 10,
     "metadata": {},
     "output_type": "execute_result"
    },
    {
     "data": {
      "image/png": "[encoded data removed]",
      "text/plain": [
       "<Figure size 504x360 with 1 Axes>"
      ]
     },
     "metadata": {
      "needs_background": "light"
     },
     "output_type": "display_data"
    }
   ],
   "source": [
    "# 各モデルの予測値をグラフ化\n",
    "plt.figure(figsize=(7,5))\n",
    "plt.scatter(pred_proba,pred_proba_LR)\n",
    "plt.title(\"pred_proba of Scrach and LR \")\n",
    "plt.xlabel(\"Scrach pred_proba\")\n",
    "plt.ylabel(\"LR pred_proba\")\n",
    "plt.xlim(0, 1)\n",
    "plt.ylim(0, 1)\n",
    "plt.plot(np.linspace(0,1,10),np.linspace(0,1,10),linestyle=\"dotted\")"
   ]
  },
  {
   "cell_type": "markdown",
   "metadata": {},
   "source": [
    "各モデルの予測ラベルと本グラフの予測確率の結果からスクラッチとSklearnによる学習・予測はほぼ同じことを行えていることを確認できた。"
   ]
  },
  {
   "cell_type": "markdown",
   "metadata": {},
   "source": [
    "### 【問題6】学習曲線のプロット\n",
    "学習曲線を見て損失が適切に下がっているかどうか確認してください。"
   ]
  },
  {
   "cell_type": "code",
   "execution_count": 11,
   "metadata": {},
   "outputs": [
    {
     "data": {
      "image/png": "[encoded data removed]",
      "text/plain": [
       "<Figure size 432x288 with 1 Axes>"
      ]
     },
     "metadata": {
      "needs_background": "light"
     },
     "output_type": "display_data"
    }
   ],
   "source": [
    "plt.plot(Scrach_LR.loss,label=\"train loss\")\n",
    "plt.plot(Scrach_LR.val_loss,label=\"validation loss\")\n",
    "plt.title(\"loss of train and validation\")\n",
    "plt.xlabel(\"iter\")\n",
    "plt.ylabel(\"loss\")\n",
    "plt.legend()\n",
    "plt.show()"
   ]
  },
  {
   "cell_type": "markdown",
   "metadata": {},
   "source": [
    "今回の学習結果でもtrain lossは減少していくことを確認できた。しかし、validation lossは少し上昇してしまった。これは、データが少ないのもあり、train dataにフィットしすぎて過学習している可能性があると考えられる。"
   ]
  },
  {
   "cell_type": "markdown",
   "metadata": {},
   "source": [
    "### 【問題7】決定領域の可視化\n",
    "決定領域を可視化してください。"
   ]
  },
  {
   "cell_type": "code",
   "execution_count": 12,
   "metadata": {},
   "outputs": [],
   "source": [
    "from matplotlib.colors import ListedColormap\n",
    "import matplotlib.patches as mpatches\n",
    "\n",
    "def decision_region(X, y, model, step=0.01, title='decision region', xlabel='xlabel', ylabel='ylabel', target_names=['versicolor', 'virginica']):\n",
    "    \"\"\"\n",
    "    2値分類を2次元の特徴量で学習したモデルの決定領域を描く。\n",
    "    背景の色が学習したモデルによる推定値から描画される。\n",
    "    散布図の点は訓練データまたは検証データである。\n",
    "\n",
    "    Parameters\n",
    "    ----------------\n",
    "    X : ndarray, shape(n_samples, 2)\n",
    "        特徴量\n",
    "    y : ndarray, shape(n_samples,)\n",
    "        ラベル\n",
    "    model : object\n",
    "        学習したモデルのインスンタスを入れる\n",
    "    step : float, (default : 0.1)\n",
    "        推定値を計算する間隔を設定する\n",
    "    title : str\n",
    "        グラフのタイトルの文章を与える\n",
    "    xlabel, ylabel : str\n",
    "        軸ラベルの文章を与える\n",
    "    target_names= : list of str\n",
    "        凡例の一覧を与える\n",
    "    \"\"\"\n",
    "    # setting\n",
    "    scatter_color = ['red', 'blue']\n",
    "    contourf_color = ['pink', 'skyblue']\n",
    "    n_class = 2\n",
    "\n",
    "    # pred\n",
    "    mesh_f0, mesh_f1  = np.meshgrid(np.arange(np.min(X[:,0])-0.5, np.max(X[:,0])+0.5, step), np.arange(np.min(X[:,1])-0.5, np.max(X[:,1])+0.5, step))\n",
    "    mesh = np.c_[np.ravel(mesh_f0),np.ravel(mesh_f1)]\n",
    "    y_pred = model.predict(mesh).reshape(mesh_f0.shape)\n",
    "\n",
    "    # plot\n",
    "    plt.title(title)\n",
    "    plt.xlabel(xlabel)\n",
    "    plt.ylabel(ylabel)\n",
    "    plt.contourf(mesh_f0, mesh_f1, y_pred, n_class-1, cmap=ListedColormap(contourf_color))\n",
    "    plt.contour(mesh_f0, mesh_f1, y_pred, n_class-1, colors='y', linewidths=3, alpha=0.5)\n",
    "    for i, target in enumerate(set(y)):\n",
    "        plt.scatter(X[y==target][:, 0], X[y==target][:, 1], s=80, color=scatter_color[i], label=target_names[i], marker='o')\n",
    "    patches = [mpatches.Patch(color=scatter_color[i], label=target_names[i]) for i in range(n_class)]\n",
    "    plt.legend(handles=patches)\n",
    "    plt.legend()\n",
    "    plt.show()"
   ]
  },
  {
   "cell_type": "code",
   "execution_count": 13,
   "metadata": {},
   "outputs": [],
   "source": [
    "y_train = y_train.reshape(-1,)\n",
    "y_test = y_test.reshape(-1,)"
   ]
  },
  {
   "cell_type": "code",
   "execution_count": 14,
   "metadata": {},
   "outputs": [
    {
     "name": "stdout",
     "output_type": "stream",
     "text": [
      "Train Data\n"
     ]
    },
    {
     "data": {
      "image/png": "[encoded data removed]",
      "text/plain": [
       "<Figure size 432x288 with 1 Axes>"
      ]
     },
     "metadata": {
      "needs_background": "light"
     },
     "output_type": "display_data"
    },
    {
     "data": {
      "image/png": "[encoded data removed]",
      "text/plain": [
       "<Figure size 432x288 with 1 Axes>"
      ]
     },
     "metadata": {
      "needs_background": "light"
     },
     "output_type": "display_data"
    },
    {
     "name": "stdout",
     "output_type": "stream",
     "text": [
      "------------------------------------------------\n",
      "Test Data\n"
     ]
    },
    {
     "data": {
      "image/png": "[encoded data removed]",
      "text/plain": [
       "<Figure size 432x288 with 1 Axes>"
      ]
     },
     "metadata": {
      "needs_background": "light"
     },
     "output_type": "display_data"
    },
    {
     "data": {
      "image/png": "[encoded data removed]",
      "text/plain": [
       "<Figure size 432x288 with 1 Axes>"
      ]
     },
     "metadata": {
      "needs_background": "light"
     },
     "output_type": "display_data"
    }
   ],
   "source": [
    "# 学習したそれぞれをtrain data及びtest dataで分けて比較\n",
    "print(\"Train Data\")\n",
    "decision_region(X_train, y_train, Scrach_LR, step=0.01, title='Scrach LogisticRegression', xlabel='setal length', ylabel='setal width', target_names=['versicolor', 'virginica'])\n",
    "decision_region(X_train, y_train, LR, step=0.01, title='Sklearn LogisticRegression', xlabel='setal length', ylabel='setal width', target_names=['versicolor', 'virginica'])\n",
    "print(\"------------------------------------------------\")\n",
    "print(\"Test Data\")\n",
    "decision_region(X_test, y_test, Scrach_LR, step=0.01, title='Scrach LogisticRegression', xlabel='setal length', ylabel='setal width', target_names=['versicolor', 'virginica'])\n",
    "decision_region(X_test, y_test, LR, step=0.01, title='Sklearn LogisticRegression', xlabel='setal length', ylabel='setal width', target_names=['versicolor', 'virginica'])"
   ]
  },
  {
   "cell_type": "markdown",
   "metadata": {},
   "source": [
    "**上図からスクラッチとSklearn はある程度同様のモデル学習と予測をしていることが確認できた。**"
   ]
  },
  {
   "cell_type": "markdown",
   "metadata": {},
   "source": [
    "### 【問題8】（アドバンス課題）重みの保存\n",
    "検証が容易になるように、学習した重みを保存および読み込みができるようにしましょう。pickleモジュールやNumPyのnp.savezを利用します。\n",
    "\n"
   ]
  },
  {
   "cell_type": "code",
   "execution_count": 15,
   "metadata": {},
   "outputs": [],
   "source": [
    "#Scrach と　Sklearn の重み結果を形を整えてnp.savez で保存・読み込みをする。\n",
    "#まずは保存\n",
    "Scrach_LR = Scrach_LR.theta.reshape(1,-1)\n",
    "np.savez(\"theta_Scrach_LR\",coef_ = Scrach_LR)"
   ]
  },
  {
   "cell_type": "code",
   "execution_count": 16,
   "metadata": {},
   "outputs": [
    {
     "data": {
      "text/plain": [
       "array([[-0.14072225,  1.01383487,  0.43750099]])"
      ]
     },
     "execution_count": 16,
     "metadata": {},
     "output_type": "execute_result"
    }
   ],
   "source": [
    "#まずは保存読み込み\n",
    "npz_file = np.load(\"theta_Scrach_LR.npz\")\n",
    "npz_file[\"coef_\"]"
   ]
  },
  {
   "cell_type": "markdown",
   "metadata": {},
   "source": [
    "**学習データを保存・読み込みを行うことができた。**"
   ]
  }
 ],
 "metadata": {
  "kernelspec": {
   "display_name": "Python 3",
   "language": "python",
   "name": "python3"
  },
  "language_info": {
   "codemirror_mode": {
    "name": "ipython",
    "version": 3
   },
   "file_extension": ".py",
   "mimetype": "text/x-python",
   "name": "python",
   "nbconvert_exporter": "python",
   "pygments_lexer": "ipython3",
   "version": "3.7.4"
  }
 },
 "nbformat": 4,
 "nbformat_minor": 2
}
