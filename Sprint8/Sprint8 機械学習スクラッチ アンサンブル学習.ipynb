{
 "cells": [
  {
   "cell_type": "markdown",
   "metadata": {},
   "source": [
    "### アンサンブル学習\n",
    "\n",
    "3種類のアンサンブル学習をスクラッチ実装していきます。そして、それぞれの効果を小さめのデータセットで確認します。\n",
    "\n",
    "\n",
    "・ブレンディング\n",
    "\n",
    "・バギング\n",
    "\n",
    "・スタッキング"
   ]
  },
  {
   "cell_type": "markdown",
   "metadata": {},
   "source": [
    "小さなデータセットの用意\n",
    "以前も利用した回帰のデータセットを用意します。\n",
    "\n",
    "\n",
    "House Prices: Advanced Regression Techniques\n",
    "\n",
    "\n",
    "この中のtrain.csvをダウンロードし、目的変数としてSalePrice、説明変数として、GrLivAreaとYearBuiltを使います。\n",
    "\n",
    "\n",
    "train.csvを学習用（train）8割、検証用（val）2割に分割してください。"
   ]
  },
  {
   "cell_type": "code",
   "execution_count": 315,
   "metadata": {},
   "outputs": [],
   "source": [
    "import numpy as np\n",
    "import pandas as pd\n",
    "import matplotlib.pyplot as plt\n",
    "%matplotlib inline\n",
    "from sklearn.model_selection import train_test_split\n",
    "from sklearn.preprocessing import StandardScaler\n",
    "import math\n",
    "from sklearn.metrics import accuracy_score\n",
    "from sklearn.metrics import precision_score\n",
    "from sklearn.metrics import recall_score\n",
    "from sklearn.metrics import f1_score\n",
    "from sklearn.metrics import confusion_matrix\n",
    "import statistics\n",
    "from scipy import stats\n",
    "import collections\n",
    "import random\n",
    "from sklearn.linear_model import LinearRegression\n",
    "from sklearn.metrics import mean_squared_error\n",
    "from sklearn.tree import DecisionTreeRegressor\n",
    "from sklearn.model_selection import KFold\n",
    "\n",
    "data = pd.read_csv('train.csv')\n",
    "y = data[\"SalePrice\"]\n",
    "X = data[[\"GrLivArea\",\"YearBuilt\"]]\n",
    "X = X.values\n",
    "y = y.values\n"
   ]
  },
  {
   "cell_type": "markdown",
   "metadata": {},
   "source": [
    "### ブレンディング"
   ]
  },
  {
   "cell_type": "markdown",
   "metadata": {},
   "source": [
    "ブレンディングとは、N個の多様なモデルを独立して学習させ、推定結果を重み付けした上で足し合わせる方法です。最も単純には平均をとります。多様なモデルとは、以下のような条件を変化させることで作り出すものです。\n",
    "\n",
    "\n",
    "・手法（例：線形回帰、SVM、決定木、ニューラルネットワークなど）\n",
    "\n",
    "・ハイパーパラメータ（例：SVMのカーネルの種類、重みの初期値など）\n",
    "\n",
    "・入力データの前処理の仕方（例：標準化、対数変換、PCAなど）\n",
    "\n",
    "重要なのはそれぞれのモデルが大きく異なることです。\n",
    "\n",
    "\n",
    "回帰問題でのブレンディングは非常に単純であるため、scikit-learnには用意されていません。"
   ]
  },
  {
   "cell_type": "markdown",
   "metadata": {},
   "source": [
    "### 【問題1】ブレンディングのスクラッチ実装\n",
    "ブレンディング をスクラッチ実装し、単一モデルより精度があがる例を 最低3つ 示してください。精度があがるとは、検証用データに対する平均二乗誤差（MSE）が小さくなることを指します。"
   ]
  },
  {
   "cell_type": "code",
   "execution_count": 277,
   "metadata": {},
   "outputs": [],
   "source": [
    "class Brending():\n",
    "    def __init__(self, X, y):\n",
    "        self.X_train, self.X_test, self.y_train, self.y_test = train_test_split(X, y, random_state = 1)\n",
    "        scaler = StandardScaler()\n",
    "        scaler.fit(self.X_train)\n",
    "        self.X_train = scaler.transform(self.X_train)\n",
    "        self.X_test = scaler.transform(self.X_test)\n",
    "        self.pred_log = []   # 各モデルでの予測結果の記録用\n",
    "        self.wait_log = []   # 各モデルのMSEの逆数（重み）の記録用\n",
    "    \n",
    "    def fit(self, model):\n",
    "        model.fit(self.X_train, self.y_train)\n",
    "        pred = model.predict(self.X_test)\n",
    "        self.pred_log.append(pred)     # 各モデルのMSEの逆数（重み）を記録\n",
    "        model_num = len(self.pred_log)\n",
    "        self.wait_log.append(1/mean_squared_error(self.y_test,pred))  # 各モデルのMSEの逆数（重み）を記録\n",
    "        print(\"{}個目のモデル学習完了\\n{}\".format(model_num,model))\n",
    "        print(\"-------------------------------------------------\")\n",
    "    \n",
    "    def predict(self):\n",
    "        pred = np.zeros(len(self.y_test))\n",
    "        for i in range(len(self.pred_log)):   # 各モデルでの予測値に重みつけして最終的な予測値に足す。\n",
    "            pred += self.pred_log[i]*self.wait_log[i]/np.sum(self.wait_log)\n",
    "        print(\"MSE:{:.2e}\".format(mean_squared_error(self.y_test,pred)))\n",
    "    \n",
    "    def all_reflesh(self):\n",
    "        self.pred_log=[] \n",
    "        self.wait_log = []   # 本クラスを初期化する際に使用\n",
    "        \n",
    "    def one_reflesh(self):\n",
    "        self.pred_log = self.pred_log[0:-1] \n",
    "        self.wait_log = self.wait_log[0:-1] # 本クラスを1つ前のモデル学習のみ取り消し"
   ]
  },
  {
   "cell_type": "markdown",
   "metadata": {},
   "source": [
    "#### ●線形回帰のみ"
   ]
  },
  {
   "cell_type": "code",
   "execution_count": 258,
   "metadata": {},
   "outputs": [
    {
     "name": "stdout",
     "output_type": "stream",
     "text": [
      "1個目のモデル学習完了\n",
      "LinearRegression(copy_X=True, fit_intercept=True, n_jobs=None, normalize=False)\n",
      "-------------------------------------------------\n"
     ]
    }
   ],
   "source": [
    "brending = Brending(X,y)\n",
    "LM = LinearRegression()\n",
    "brending.fit(LM)"
   ]
  },
  {
   "cell_type": "code",
   "execution_count": 235,
   "metadata": {},
   "outputs": [
    {
     "name": "stdout",
     "output_type": "stream",
     "text": [
      "MSE:1.89e+09\n"
     ]
    }
   ],
   "source": [
    "brending.predict()"
   ]
  },
  {
   "cell_type": "markdown",
   "metadata": {},
   "source": [
    "#### ●SVRのみ"
   ]
  },
  {
   "cell_type": "code",
   "execution_count": 259,
   "metadata": {},
   "outputs": [
    {
     "name": "stdout",
     "output_type": "stream",
     "text": [
      "1個目のモデル学習完了\n",
      "SVR(C=1.0, cache_size=200, coef0=0.0, degree=3, epsilon=0.1,\n",
      "    gamma='auto_deprecated', kernel='rbf', max_iter=-1, shrinking=True,\n",
      "    tol=0.001, verbose=False)\n",
      "-------------------------------------------------\n"
     ]
    }
   ],
   "source": [
    "brending_svr = Brending(X,y)\n",
    "svr = SVR(kernel=\"rbf\")\n",
    "brending_svr.fit(svr)"
   ]
  },
  {
   "cell_type": "code",
   "execution_count": 260,
   "metadata": {},
   "outputs": [
    {
     "name": "stdout",
     "output_type": "stream",
     "text": [
      "MSE:6.84e+09\n"
     ]
    }
   ],
   "source": [
    "brending_svr.predict()"
   ]
  },
  {
   "cell_type": "markdown",
   "metadata": {},
   "source": [
    "#### ●決定木のみ"
   ]
  },
  {
   "cell_type": "code",
   "execution_count": 261,
   "metadata": {},
   "outputs": [
    {
     "name": "stdout",
     "output_type": "stream",
     "text": [
      "1個目のモデル学習完了\n",
      "DecisionTreeRegressor(criterion='mse', max_depth=5, max_features=None,\n",
      "                      max_leaf_nodes=None, min_impurity_decrease=0.0,\n",
      "                      min_impurity_split=None, min_samples_leaf=1,\n",
      "                      min_samples_split=2, min_weight_fraction_leaf=0.0,\n",
      "                      presort=False, random_state=None, splitter='best')\n",
      "-------------------------------------------------\n"
     ]
    }
   ],
   "source": [
    "brending_tree = Brending(X,y)\n",
    "tree_model = DecisionTreeRegressor(max_depth=5)\n",
    "brending_tree.fit(tree_model)"
   ]
  },
  {
   "cell_type": "code",
   "execution_count": 262,
   "metadata": {},
   "outputs": [
    {
     "name": "stdout",
     "output_type": "stream",
     "text": [
      "MSE:1.73e+09\n"
     ]
    }
   ],
   "source": [
    "brending_tree.predict()"
   ]
  },
  {
   "cell_type": "markdown",
   "metadata": {},
   "source": [
    "#### ●線形回帰　＋　SVR"
   ]
  },
  {
   "cell_type": "code",
   "execution_count": 285,
   "metadata": {},
   "outputs": [
    {
     "name": "stdout",
     "output_type": "stream",
     "text": [
      "1個目のモデル学習完了\n",
      "LinearRegression(copy_X=True, fit_intercept=True, n_jobs=None, normalize=False)\n",
      "-------------------------------------------------\n",
      "2個目のモデル学習完了\n",
      "SVR(C=1.0, cache_size=200, coef0=0.0, degree=3, epsilon=0.1,\n",
      "    gamma='auto_deprecated', kernel='rbf', max_iter=-1, shrinking=True,\n",
      "    tol=0.001, verbose=False)\n",
      "-------------------------------------------------\n"
     ]
    }
   ],
   "source": [
    "brending_2 = Brending(X,y)\n",
    "LM = LinearRegression()\n",
    "svr = SVR(kernel=\"rbf\")\n",
    "brending_2.fit(LM)\n",
    "brending_2.fit(svr)"
   ]
  },
  {
   "cell_type": "code",
   "execution_count": 286,
   "metadata": {},
   "outputs": [
    {
     "name": "stdout",
     "output_type": "stream",
     "text": [
      "MSE:2.28e+09\n"
     ]
    }
   ],
   "source": [
    "brending_2.predict()"
   ]
  },
  {
   "cell_type": "markdown",
   "metadata": {},
   "source": [
    "####  ●SVR ＋ 決定木"
   ]
  },
  {
   "cell_type": "code",
   "execution_count": 249,
   "metadata": {},
   "outputs": [
    {
     "name": "stdout",
     "output_type": "stream",
     "text": [
      "1個目のモデル学習完了\n",
      "SVR(C=1.0, cache_size=200, coef0=0.0, degree=3, epsilon=0.1,\n",
      "    gamma='auto_deprecated', kernel='rbf', max_iter=-1, shrinking=True,\n",
      "    tol=0.001, verbose=False)\n",
      "-------------------------------------------------\n",
      "2個目のモデル学習完了\n",
      "DecisionTreeRegressor(criterion='mse', max_depth=5, max_features=None,\n",
      "                      max_leaf_nodes=None, min_impurity_decrease=0.0,\n",
      "                      min_impurity_split=None, min_samples_leaf=1,\n",
      "                      min_samples_split=2, min_weight_fraction_leaf=0.0,\n",
      "                      presort=False, random_state=None, splitter='best')\n",
      "-------------------------------------------------\n"
     ]
    }
   ],
   "source": [
    "brending_3 = Brending(X,y)\n",
    "svr = SVR(kernel=\"rbf\")\n",
    "tree_model = DecisionTreeRegressor(max_depth=5)\n",
    "brending_3.fit(svr)\n",
    "brending_3.fit(tree_model)"
   ]
  },
  {
   "cell_type": "code",
   "execution_count": 250,
   "metadata": {},
   "outputs": [
    {
     "name": "stdout",
     "output_type": "stream",
     "text": [
      "MSE:1.86e+09\n"
     ]
    }
   ],
   "source": [
    "brending_3.predict()"
   ]
  },
  {
   "cell_type": "markdown",
   "metadata": {},
   "source": [
    "#### ●線形回帰 ＋ 決定木 　（UP）"
   ]
  },
  {
   "cell_type": "code",
   "execution_count": 251,
   "metadata": {},
   "outputs": [
    {
     "name": "stdout",
     "output_type": "stream",
     "text": [
      "1個目のモデル学習完了\n",
      "LinearRegression(copy_X=True, fit_intercept=True, n_jobs=None, normalize=False)\n",
      "-------------------------------------------------\n",
      "2個目のモデル学習完了\n",
      "DecisionTreeRegressor(criterion='mse', max_depth=5, max_features=None,\n",
      "                      max_leaf_nodes=None, min_impurity_decrease=0.0,\n",
      "                      min_impurity_split=None, min_samples_leaf=1,\n",
      "                      min_samples_split=2, min_weight_fraction_leaf=0.0,\n",
      "                      presort=False, random_state=None, splitter='best')\n",
      "-------------------------------------------------\n"
     ]
    }
   ],
   "source": [
    "brending_4 = Brending(X,y)\n",
    "LM = LinearRegression()\n",
    "tree_model = DecisionTreeRegressor(max_depth=5)\n",
    "brending_4.fit(LM)\n",
    "brending_4.fit(tree_model)"
   ]
  },
  {
   "cell_type": "code",
   "execution_count": 253,
   "metadata": {},
   "outputs": [
    {
     "name": "stdout",
     "output_type": "stream",
     "text": [
      "MSE:1.54e+09\n"
     ]
    }
   ],
   "source": [
    "brending_4.predict()"
   ]
  },
  {
   "cell_type": "markdown",
   "metadata": {},
   "source": [
    "#### ●線形回帰 ＋ SVR ＋ 決定木　　（UP）"
   ]
  },
  {
   "cell_type": "code",
   "execution_count": 255,
   "metadata": {},
   "outputs": [
    {
     "name": "stdout",
     "output_type": "stream",
     "text": [
      "1個目のモデル学習完了\n",
      "LinearRegression(copy_X=True, fit_intercept=True, n_jobs=None, normalize=False)\n",
      "-------------------------------------------------\n",
      "2個目のモデル学習完了\n",
      "SVR(C=1.0, cache_size=200, coef0=0.0, degree=3, epsilon=0.1,\n",
      "    gamma='auto_deprecated', kernel='rbf', max_iter=-1, shrinking=True,\n",
      "    tol=0.001, verbose=False)\n",
      "-------------------------------------------------\n",
      "3個目のモデル学習完了\n",
      "DecisionTreeRegressor(criterion='mse', max_depth=5, max_features=None,\n",
      "                      max_leaf_nodes=None, min_impurity_decrease=0.0,\n",
      "                      min_impurity_split=None, min_samples_leaf=1,\n",
      "                      min_samples_split=2, min_weight_fraction_leaf=0.0,\n",
      "                      presort=False, random_state=None, splitter='best')\n",
      "-------------------------------------------------\n"
     ]
    }
   ],
   "source": [
    "brending_5 = Brending(X,y)\n",
    "LM = LinearRegression()\n",
    "svr = SVR(kernel=\"rbf\")\n",
    "tree_model = DecisionTreeRegressor(max_depth=5)\n",
    "brending_5.fit(LM)\n",
    "brending_5.fit(svr)\n",
    "brending_5.fit(tree_model)"
   ]
  },
  {
   "cell_type": "code",
   "execution_count": 256,
   "metadata": {},
   "outputs": [
    {
     "name": "stdout",
     "output_type": "stream",
     "text": [
      "MSE:1.69e+09\n"
     ]
    }
   ],
   "source": [
    "brending_5.predict()"
   ]
  },
  {
   "cell_type": "markdown",
   "metadata": {},
   "source": [
    "### バギングとは\n",
    "バギングは入力データの選び方を多様化する方法です。学習データから重複を許した上でランダムに抜き出すことで、N種類のサブセット（ ブートストラップサンプル ）を作り出します。それらによってモデルをN個学習し、推定結果の平均をとります。ブレンディングと異なり、それぞれの重み付けを変えることはありません。\n",
    "\n",
    "\n",
    "sklearn.model_selection.train_test_split — scikit-learn 0.21.3 documentation\n",
    "\n",
    "\n",
    "scikit-learnのtrain_test_splitを、shuffleパラメータをTrueにして使うことで、ランダムにデータを分割することができます。これによりブートストラップサンプルが手に入ります。\n",
    "\n",
    "\n",
    "推定結果の平均をとる部分はブースティングと同様の実装になります。"
   ]
  },
  {
   "cell_type": "markdown",
   "metadata": {},
   "source": [
    "### 【問題2】バギングのスクラッチ実装\n",
    "バギング をスクラッチ実装し、単一モデルより精度があがる例を 最低1つ 示してください。"
   ]
  },
  {
   "cell_type": "code",
   "execution_count": 305,
   "metadata": {},
   "outputs": [],
   "source": [
    "class Baging():\n",
    "    def __init__(self, X, y):\n",
    "        self.X_train, self.X_test, self.y_train, self.y_test = train_test_split(X, y, random_state = 5)\n",
    "        self.pred_log = []  # 予測結果の記録用\n",
    "    \n",
    "    def fit(self, model, N):\n",
    "        for i in range(N):  # N回分 学習データからサンプリングして学習させる\n",
    "            X_train_boot, _, y_train_boot , _  = train_test_split(self.X_train, self.y_train, shuffle=True)\n",
    "            model.fit(X_train_boot, y_train_boot)         #モデル学習\n",
    "            pred = model.predict(self.X_test)             #予測\n",
    "            self.pred_log.append(pred)                    # 予測結果の記録\n",
    "        print(\"{}種類のサブセット（ブートストラップサンプル）学習完了\".format(N))\n",
    "    \n",
    "    def predict(self):\n",
    "        pred = np.mean(self.pred_log,axis=0)  # N回分の予測結果の平均を最終的な予測値として算出\n",
    "        print(\"MSE:{:.2e}\".format(mean_squared_error(self.y_test,pred)))"
   ]
  },
  {
   "cell_type": "markdown",
   "metadata": {},
   "source": [
    "#### ●決定木のバギング（ランダムフォレスト）"
   ]
  },
  {
   "cell_type": "code",
   "execution_count": 306,
   "metadata": {},
   "outputs": [
    {
     "name": "stdout",
     "output_type": "stream",
     "text": [
      "1種類のサブセット（ブートストラップサンプル）学習完了\n",
      "MSE:3.92e+09\n"
     ]
    }
   ],
   "source": [
    "baging_1 = Baging(X, y)\n",
    "tree_1 = DecisionTreeRegressor(max_depth=5)\n",
    "baging_1.fit(tree_1,1)   # 1回分(通常)の学習をさせる\n",
    "baging.predict()"
   ]
  },
  {
   "cell_type": "code",
   "execution_count": 307,
   "metadata": {},
   "outputs": [
    {
     "name": "stdout",
     "output_type": "stream",
     "text": [
      "3種類のサブセット（ブートストラップサンプル）学習完了\n",
      "MSE:1.47e+09\n"
     ]
    }
   ],
   "source": [
    "baging_10 = Baging(X, y)\n",
    "tree_1 = DecisionTreeRegressor(max_depth=5)\n",
    "baging_10.fit(tree_1,3) # 10回分の学習をさせる\n",
    "baging_10.predict()"
   ]
  },
  {
   "cell_type": "markdown",
   "metadata": {},
   "source": [
    "#### ●SVRのバギング"
   ]
  },
  {
   "cell_type": "code",
   "execution_count": 308,
   "metadata": {},
   "outputs": [
    {
     "name": "stdout",
     "output_type": "stream",
     "text": [
      "1種類のサブセット（ブートストラップサンプル）学習完了\n",
      "MSE:1.27e+09\n"
     ]
    }
   ],
   "source": [
    "baging_svr = Baging(X, y)\n",
    "svr = SVR(kernel=\"rbf\")\n",
    "baging_svr.fit(tree_1,1)  # 1回分(通常)の学習をさせる\n",
    "baging_svr.predict()"
   ]
  },
  {
   "cell_type": "code",
   "execution_count": 312,
   "metadata": {},
   "outputs": [
    {
     "name": "stdout",
     "output_type": "stream",
     "text": [
      "10種類のサブセット（ブートストラップサンプル）学習完了\n",
      "MSE:1.25e+09\n"
     ]
    }
   ],
   "source": [
    "baging_svr_10 = Baging(X, y)\n",
    "svr = SVR(kernel=\"rbf\")\n",
    "baging_svr_10.fit(tree_1,10) # 10回分の学習をさせる\n",
    "baging_svr_10.predict()"
   ]
  },
  {
   "cell_type": "markdown",
   "metadata": {},
   "source": [
    "#### ●線形回帰のバギング"
   ]
  },
  {
   "cell_type": "code",
   "execution_count": 313,
   "metadata": {},
   "outputs": [
    {
     "name": "stdout",
     "output_type": "stream",
     "text": [
      "1種類のサブセット（ブートストラップサンプル）学習完了\n",
      "MSE:1.80e+09\n"
     ]
    }
   ],
   "source": [
    "baging_LM = Baging(X, y)\n",
    "LM = LinearRegression()\n",
    "baging_LM.fit(LM,1)   # 1回分(通常)の学習をさせる\n",
    "baging_LM.predict()"
   ]
  },
  {
   "cell_type": "code",
   "execution_count": 314,
   "metadata": {},
   "outputs": [
    {
     "name": "stdout",
     "output_type": "stream",
     "text": [
      "10種類のサブセット（ブートストラップサンプル）学習完了\n",
      "MSE:1.76e+09\n"
     ]
    }
   ],
   "source": [
    "baging_LM_10 = Baging(X, y)\n",
    "LM = LinearRegression()\n",
    "baging_LM_10.fit(LM,10)  # 10回分の学習をさせる\n",
    "baging_LM_10.predict()"
   ]
  },
  {
   "cell_type": "markdown",
   "metadata": {},
   "source": [
    "### スタッキングとは\n",
    "スタッキングの手順は以下の通りです。最低限ステージ0とステージ1があればスタッキングは成立するため、それを実装してください。まずは $K_0=3, M_0=2$ 程度にします。\n",
    "\n",
    "\n",
    "《学習時》\n",
    "\n",
    "\n",
    "（ステージ $0$ ）\n",
    "\n",
    "\n",
    "学習データを $K_0$ 個に分割する。\n",
    "分割した内の $(K_0 - 1)$ 個をまとめて学習用データ、残り $1$ 個を推定用データとする組み合わせが $K_0$ 個作れる。\n",
    "あるモデルのインスタンスを $K_0$ 個用意し、異なる学習用データを使い学習する。\n",
    "それぞれの学習済みモデルに対して、使っていない残り $1$ 個の推定用データを入力し、推定値を得る。（これをブレンドデータと呼ぶ）\n",
    "さらに、異なるモデルのインスタンスも $K_0$ 個用意し、同様のことを行う。モデルが $M_0$ 個あれば、 $M_0$ 個のブレンドデータが得られる。\n",
    "\n",
    "（ステージ $n$ ）\n",
    "\n",
    "\n",
    "ステージ $n-1$ のブレンドデータを$M_{n-1}$ 次元の特徴量を持つ学習用データと考え、 $K_n$ 個に分割する。以下同様である。\n",
    "\n",
    "（ステージ $N$ ）＊最後のステージ\n",
    "\n",
    "\n",
    "ステージ $N-1$ の $M_{N-1}$ 個のブレンドデータを$M_{N-1}$ 次元の特徴量の入力として、1種類のモデルの学習を行う。これが最終的な推定を行うモデルとなる。\n",
    "\n",
    "《推定時》\n",
    "\n",
    "\n",
    "（ステージ $0$ ）\n",
    "\n",
    "\n",
    "テストデータを $K_0×M_0$ 個の学習済みモデルに入力し、$K_0×M_0$ 個の推定値を得る。これを $K_0$ の軸で平均値を求め $M_0$ 次元の特徴量を持つデータを得る。（ブレンドテストと呼ぶ）\n",
    "\n",
    "（ステージ $n$ ）\n",
    "\n",
    "\n",
    "ステージ $n-1$ で得たブレンドテストを $K_n×M_n$ 個の学習済みモデルに入力し、$K_n×M_n$ 個の推定値を得る。これを $K_n$ の軸で平均値を求め $M_0$ 次元の特徴量を持つデータを得る。（ブレンドテストと呼ぶ）\n",
    "\n",
    "（ステージ $N$ ）＊最後のステージ\n",
    "\n",
    "\n",
    "ステージ $N-1$ で得たブレンドテストを学習済みモデルに入力し、推定値を得る。"
   ]
  },
  {
   "cell_type": "markdown",
   "metadata": {},
   "source": [
    "### 【問題3】スタッキングのスクラッチ実装\n",
    "スタッキング をスクラッチ実装し、単一モデルより精度があがる例を 最低1つ 示してください。"
   ]
  },
  {
   "cell_type": "code",
   "execution_count": 426,
   "metadata": {},
   "outputs": [],
   "source": [
    "class Stacking():\n",
    "    def __init__(self, X, y):\n",
    "        self.X_train, self.X_test, self.y_train, self.y_test = train_test_split(X, y, random_state = 1)\n",
    "        self.new_feachers_log = []         # 各レイヤーで予想して次のレーヤーに渡す訓練データを記録\n",
    "        self.new_test_feacher_log = []     # 各レイヤーで予想して次のレーヤーに渡すテストデータ記録\n",
    "        self.mse_log = []                  # （参考）各レイヤーでのMSE結果を記録\n",
    "    \n",
    "    def fit(self, K_splits, models):\n",
    "             \n",
    "        if len(self.new_feachers_log)==0:  #初めのレイヤの場合は初期値の０行列を作成\n",
    "            self.new_feachers = np.zeros((len(self.X_train),len(models)))\n",
    "            self.new_test_feacher = np.zeros((len(self.X_test),len(models)))\n",
    "        \n",
    "        else:\n",
    "            self.X_train = self.new_feachers    #2層目以降のレイヤの場合、前のレイヤで予想した訓練及びテストデータを次レイヤの学習用に渡す。\n",
    "            self.X_test = self.new_test_feacher\n",
    "            self.new_feachers = np.zeros((len(self.X_train),len(models)))   #2層目以降は、各レイヤに入れるモデル数に応じて再度初期値０行列を作成しておく\n",
    "            self.new_test_feacher = np.zeros((len(self.X_test),len(models)))     \n",
    "        \n",
    "        for i in range(len(models)):\n",
    "            test_preds = []  #1つのモデルでの各out fold分の学習によるテストデータの予測結果の格納用\n",
    "            kf = KFold(n_splits=K_splits, random_state=1)                 #引数で指定したKFoldで学習データを分割\n",
    "            for tr_idx, va_idx in kf.split(self.X_train,self.y_train):\n",
    "                tr_X, va_X = self.X_train[tr_idx],  self.X_train[va_idx]\n",
    "                tr_y, va_y = self.y_train[tr_idx],  self.y_train[va_idx]\n",
    "                model = models[i]\n",
    "                model.fit(tr_X, tr_y)                   #モデル学習\n",
    "                pred = model.predict(va_X)\n",
    "                self.new_feachers[va_idx,i]=pred        #out foldしている学習データを予測\n",
    "                test_pred = model.predict(self.X_test)  #テストデータを予測\n",
    "                test_preds.append(test_pred)            #1つのモデルでの各out fold分の学習によるテストデータの予測結果を記録\n",
    "            pred_mean = np.mean(test_preds,axis=0)      #上記の平均をテストデータの予測値とする\n",
    "            self.new_test_feacher[:,i] = pred_mean      #1つのレイヤーにおける、各モデルのテストデータの予測値を格納\n",
    "\n",
    "        self.new_feachers_log.append(self.new_feachers)          #学習データの予測値を記録しておく（後に現在のレイヤ数を確認するために、len関数に入れて確認できる）\n",
    "        self.new_test_feacher_log.append(self.new_test_feacher)  #テストデータの予測値を記録しておく（後に現在のレイヤ数を確認するために、len関数に入れて確認できる）\n",
    "        pred = np.mean(self.new_test_feacher,axis=1)             #(参考)学習過程において各レイヤでの予測値を平均値で算出して、MSEを記録しておく。（レイヤごとの評価結果がわかる）\n",
    "        self.mse_log.append(mean_squared_error(self.y_test,pred))\n",
    "        \n",
    "        print(\"{}layers 学習完了\".format(len(self.new_feachers_log)))\n",
    "        #print(\"Brend Data:\\n{}\".format(self.new_feachers))\n",
    "        #print(\"Brend Test:\\n{}\".format(self.new_test_feacher))\n",
    "            \n",
    "        \n",
    "    def predict(self,model):\n",
    "        model.fit(self.new_feachers,self.y_train)           #レイヤの最後で算出した、訓練データ、テストデータを使い最終的な１モデルでの学習、予測を行う。\n",
    "        pred = model.predict(self.new_test_feacher)\n",
    "        self.mse_log.append(mean_squared_error(self.y_test,pred))\n",
    "        print(\"{}layers,final MSE result:{:.2e}\".format(len(self.mse_log),mean_squared_error(self.y_test,pred)))\n",
    "        \n",
    "    def all_reflesh(self):              # （参考）本クラスを初期化する際に使用\n",
    "        self.new_feachers_log = []\n",
    "        self.new_test_feacher_log = []   \n",
    "        self.mse_log = []\n",
    "        \n",
    "    def one_reflesh(self):              #　(参考）本クラスを1つ前のモデル学習のみ取り消し\n",
    "        self.new_feachers_log = self.new_feachers_log[0:-1]\n",
    "        self.new_test_feacher_log = self.new_feachers_log[0:-1] \n",
    "        self.mse_log = self.mse_log[0:-1]   \n",
    "        \n",
    "    def plot(self):                    # (参考) 各レイヤでのテストデータ予測値を平均値で算出したもののMSE結果をグラフで確認できる。\n",
    "        plt.plot(range(1,len(self.mse_log)+1),self.mse_log)\n",
    "        plt.title(\"MSE_results\")\n",
    "        plt.xlabel(\"Layer\")\n",
    "        plt.ylabel(\"MSE\")\n",
    "        plt.style.use('seaborn-poster')"
   ]
  },
  {
   "cell_type": "markdown",
   "metadata": {},
   "source": [
    "#### ●1層目　（SVR＋決定木）"
   ]
  },
  {
   "cell_type": "code",
   "execution_count": 455,
   "metadata": {},
   "outputs": [
    {
     "name": "stdout",
     "output_type": "stream",
     "text": [
      "1layers 学習完了\n"
     ]
    },
    {
     "name": "stderr",
     "output_type": "stream",
     "text": [
      "/Users/mishibatoshihiro/.pyenv/versions/anaconda3-2019.10/lib/python3.7/site-packages/sklearn/svm/base.py:193: FutureWarning: The default value of gamma will change from 'auto' to 'scale' in version 0.22 to account better for unscaled features. Set gamma explicitly to 'auto' or 'scale' to avoid this warning.\n",
      "  \"avoid this warning.\", FutureWarning)\n",
      "/Users/mishibatoshihiro/.pyenv/versions/anaconda3-2019.10/lib/python3.7/site-packages/sklearn/svm/base.py:193: FutureWarning: The default value of gamma will change from 'auto' to 'scale' in version 0.22 to account better for unscaled features. Set gamma explicitly to 'auto' or 'scale' to avoid this warning.\n",
      "  \"avoid this warning.\", FutureWarning)\n",
      "/Users/mishibatoshihiro/.pyenv/versions/anaconda3-2019.10/lib/python3.7/site-packages/sklearn/svm/base.py:193: FutureWarning: The default value of gamma will change from 'auto' to 'scale' in version 0.22 to account better for unscaled features. Set gamma explicitly to 'auto' or 'scale' to avoid this warning.\n",
      "  \"avoid this warning.\", FutureWarning)\n",
      "/Users/mishibatoshihiro/.pyenv/versions/anaconda3-2019.10/lib/python3.7/site-packages/sklearn/svm/base.py:193: FutureWarning: The default value of gamma will change from 'auto' to 'scale' in version 0.22 to account better for unscaled features. Set gamma explicitly to 'auto' or 'scale' to avoid this warning.\n",
      "  \"avoid this warning.\", FutureWarning)\n"
     ]
    }
   ],
   "source": [
    "stacking = Stacking(X,y)\n",
    "models = [SVR(kernel=\"rbf\"), DecisionTreeRegressor(max_depth=5)]\n",
    "stacking.fit(4, models)"
   ]
  },
  {
   "cell_type": "markdown",
   "metadata": {},
   "source": [
    "#### ●2層目（SVR＋決定木＋線形回帰）"
   ]
  },
  {
   "cell_type": "code",
   "execution_count": 456,
   "metadata": {},
   "outputs": [
    {
     "name": "stdout",
     "output_type": "stream",
     "text": [
      "2layers 学習完了\n"
     ]
    },
    {
     "name": "stderr",
     "output_type": "stream",
     "text": [
      "/Users/mishibatoshihiro/.pyenv/versions/anaconda3-2019.10/lib/python3.7/site-packages/sklearn/svm/base.py:193: FutureWarning: The default value of gamma will change from 'auto' to 'scale' in version 0.22 to account better for unscaled features. Set gamma explicitly to 'auto' or 'scale' to avoid this warning.\n",
      "  \"avoid this warning.\", FutureWarning)\n",
      "/Users/mishibatoshihiro/.pyenv/versions/anaconda3-2019.10/lib/python3.7/site-packages/sklearn/svm/base.py:193: FutureWarning: The default value of gamma will change from 'auto' to 'scale' in version 0.22 to account better for unscaled features. Set gamma explicitly to 'auto' or 'scale' to avoid this warning.\n",
      "  \"avoid this warning.\", FutureWarning)\n",
      "/Users/mishibatoshihiro/.pyenv/versions/anaconda3-2019.10/lib/python3.7/site-packages/sklearn/svm/base.py:193: FutureWarning: The default value of gamma will change from 'auto' to 'scale' in version 0.22 to account better for unscaled features. Set gamma explicitly to 'auto' or 'scale' to avoid this warning.\n",
      "  \"avoid this warning.\", FutureWarning)\n",
      "/Users/mishibatoshihiro/.pyenv/versions/anaconda3-2019.10/lib/python3.7/site-packages/sklearn/svm/base.py:193: FutureWarning: The default value of gamma will change from 'auto' to 'scale' in version 0.22 to account better for unscaled features. Set gamma explicitly to 'auto' or 'scale' to avoid this warning.\n",
      "  \"avoid this warning.\", FutureWarning)\n"
     ]
    }
   ],
   "source": [
    "models_2 = [SVR(kernel=\"rbf\"), DecisionTreeRegressor(max_depth=5),LinearRegression()]\n",
    "stacking.fit(4, models_2)"
   ]
  },
  {
   "cell_type": "markdown",
   "metadata": {},
   "source": [
    "#### ●３層目（決定木）"
   ]
  },
  {
   "cell_type": "code",
   "execution_count": 457,
   "metadata": {},
   "outputs": [
    {
     "name": "stdout",
     "output_type": "stream",
     "text": [
      "3layers,final MSE result:2.29e+09\n"
     ]
    }
   ],
   "source": [
    "stacking.predict(DecisionTreeRegressor(max_depth=5))"
   ]
  },
  {
   "cell_type": "code",
   "execution_count": 458,
   "metadata": {},
   "outputs": [
    {
     "data": {
      "image/png": "[encoded data removed]",
      "text/plain": [
       "<Figure size 921.6x633.6 with 1 Axes>"
      ]
     },
     "metadata": {
      "needs_background": "light"
     },
     "output_type": "display_data"
    }
   ],
   "source": [
    "stacking.plot()"
   ]
  }
 ],
 "metadata": {
  "kernelspec": {
   "display_name": "Python 3",
   "language": "python",
   "name": "python3"
  },
  "language_info": {
   "codemirror_mode": {
    "name": "ipython",
    "version": 3
   },
   "file_extension": ".py",
   "mimetype": "text/x-python",
   "name": "python",
   "nbconvert_exporter": "python",
   "pygments_lexer": "ipython3",
   "version": "3.7.4"
  }
 },
 "nbformat": 4,
 "nbformat_minor": 4
}
