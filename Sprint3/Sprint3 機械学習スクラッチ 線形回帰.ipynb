{
 "cells": [
  {
   "cell_type": "markdown",
   "metadata": {},
   "source": [
    "### Sprint3 線形回帰スクラッチ\n",
    "\n",
    "線形回帰のクラスをスクラッチで作成していきます。NumPyなど最低限のライブラリのみを使いアルゴリズムを実装していきます。\n",
    "\n",
    "\n",
    "以下に雛形を用意してあります。このScratchLinearRegressionクラスにコードを書き加えていってください。"
   ]
  },
  {
   "cell_type": "code",
   "execution_count": 1,
   "metadata": {},
   "outputs": [],
   "source": [
    "import numpy as np\n",
    "import pandas as pd\n",
    "import matplotlib.pyplot as plt\n",
    "%matplotlib inline\n",
    "from sklearn.model_selection import train_test_split\n",
    "from sklearn.preprocessing import StandardScaler\n"
   ]
  },
  {
   "cell_type": "code",
   "execution_count": 2,
   "metadata": {},
   "outputs": [],
   "source": [
    "\n",
    "\n",
    "class ScratchLinearRegression():\n",
    "    \"\"\"\n",
    "    線形回帰のスクラッチ実装\n",
    "\n",
    "    Parameters\n",
    "    ----------\n",
    "    num_iter : int\n",
    "      イテレーション数\n",
    "    lr : float\n",
    "      学習率\n",
    "    no_bias : bool\n",
    "      バイアス項を入れない場合はTrue\n",
    "    verbose : bool\n",
    "      学習過程を出力する場合はTrue\n",
    "\n",
    "    Attributes\n",
    "    ----------\n",
    "    self.coef_ : 次の形のndarray, shape (n_features,)\n",
    "      パラメータ\n",
    "    self.loss : 次の形のndarray, shape (self.iter,)\n",
    "      訓練データに対する損失の記録\n",
    "    self.val_loss : 次の形のndarray, shape (self.iter,)\n",
    "      検証データに対する損失の記録\n",
    "\n",
    "    \"\"\"\n",
    "    def __init__(self, num_iter, lr, no_bias, verbose):\n",
    "        # ハイパーパラメータを属性として記録\n",
    "        self.iter = num_iter\n",
    "        self.lr = lr\n",
    "        self.no_bias = no_bias\n",
    "        self.verbose = verbose\n",
    "        # 損失を記録する配列を用意\n",
    "        self.loss = np.zeros(self.iter)\n",
    "        self.val_loss = np.zeros(self.iter)\n",
    " \n",
    "\n",
    "    def fit(self, X, y, X_val=None, y_val=None):\n",
    "        \"\"\"\n",
    "        線形回帰を学習する。検証データが入力された場合はそれに対する損失と精度もイテレーションごとに計算する。\n",
    "\n",
    "        Parameters\n",
    "        ----------\n",
    "        X : 次の形のndarray, shape (n_samples, n_features)\n",
    "            訓練データの特徴量\n",
    "        y : 次の形のndarray, shape (n_samples, )\n",
    "            訓練データの正解値\n",
    "        X_val : 次の形のndarray, shape (n_samples, n_features)\n",
    "            検証データの特徴量\n",
    "        y_val : 次の形のndarray, shape (n_samples, )\n",
    "            検証データの正解値\n",
    "        \"\"\"\n",
    "        m,n = X.shape\n",
    "        \n",
    "        if self.no_bias==True:\n",
    "            self.theta = np.zeros(n) \n",
    "            self.theta = self.theta.reshape(-1,1)\n",
    "            X = X\n",
    "            self.y = y\n",
    "            \n",
    "        if self.no_bias==False:\n",
    "            theta = np.zeros(n+1) \n",
    "            self.theta = theta.reshape(-1,1)\n",
    "            ones = np.ones((m,1))\n",
    "            X = np.hstack([ones,X])\n",
    "            self.y = y\n",
    "            \n",
    "        for i in range(self.iter):\n",
    "            error = self._linear_hypothesis(X)-y\n",
    "            self.theta = self._gradient_descent(X,error)\n",
    "            j_theta = self._cost_function(self._linear_hypothesis(X), y)\n",
    "            self.loss[i] = j_theta\n",
    "            if self.verbose:\n",
    "                print(\"{}回目：{}\".format(i+1,j_theta) ) #verboseをTrueにした際は学習過程を出力 \n",
    "            else:\n",
    "                pass\n",
    "            if X_val is not None and y_val is not None:\n",
    "                pred = self.predict(X_val)\n",
    "                j_theta_val = self._cost_function(pred, y_val)\n",
    "                self.val_loss[i] = j_theta_val\n",
    "            \n",
    "    def predict(self, X):\n",
    "        \"\"\"\n",
    "        線形回帰を使い推定する。\n",
    "        _gradient_descent で求めた w を使い 仮定関数 h を求める。\n",
    "\n",
    "        Parameters\n",
    "        ----------\n",
    "        X : 次の形のndarray, shape (n_samples, n_features)\n",
    "            サンプル\n",
    "\n",
    "        Returns\n",
    "        -------\n",
    "            次の形のndarray, shape (n_samples, 1)\n",
    "            線形回帰による推定結果\n",
    "        \"\"\"\n",
    "        \n",
    "        m,n = X.shape\n",
    "        \n",
    "        # bias無しの場合はX_0を追加せずpass\n",
    "        if self.no_bias:\n",
    "            pass\n",
    "        # bias有りの場合はX_0 = 1をXにconcat\n",
    "        else:\n",
    "            bias = np.ones(m).reshape(-1, 1)\n",
    "            X = np.concatenate((bias, X), axis=1)        \n",
    "       \n",
    "        h = np.dot(X,self.theta) \n",
    "        return h\n",
    "    \n",
    "    def _linear_hypothesis(self, X):\n",
    "        \"\"\"\n",
    "        線形の仮定関数を計算する\n",
    "\n",
    "        Parameters\n",
    "        ----------\n",
    "        X : 次の形のndarray, shape (n_samples, n_features)\n",
    "          訓練データ\n",
    "\n",
    "        Returns\n",
    "        -------\n",
    "        次の形のndarray, shape (n_samples, 1)\n",
    "        線形の仮定関数による推定結果\n",
    "\n",
    "        \"\"\"\n",
    "        h = np.dot(X,self.theta)\n",
    "        return h\n",
    "\n",
    "    def _gradient_descent(self, X, error):\n",
    "        \"\"\"\n",
    "        各特徴量に相当するw（j）を計算する\n",
    "\n",
    "        \"\"\"\n",
    "        \n",
    "        m,n = X.shape \n",
    "   \n",
    "        sigma = np.zeros((m,1))\n",
    "        for j in range(n):\n",
    "            for i in range(m):\n",
    "                sigma[j] = sigma[j]+(self._linear_hypothesis(X)[i]-self.y[i])*X[i][j]\n",
    "            self.theta[j] = self.theta[j]-self.lr/m*sigma[j]\n",
    "        return self.theta\n",
    "\n",
    "    def _cost_function(self, pred, y):\n",
    "        \"\"\"\n",
    "        目的関数の計算\n",
    "\n",
    "        Parameters\n",
    "        ----------\n",
    "        pred : 次の形のndarray, shape (n_samples,)\n",
    "          推定した値\n",
    "        y : 次の形のndarray, shape (n_samples,)\n",
    "          正解値\n",
    "\n",
    "        Returns\n",
    "        ----------\n",
    "          numpy.float\n",
    "          平均二乗誤差\n",
    "        \"\"\"\n",
    "        return np.sum((pred - y)**2) / (2*len(y))    "
   ]
  },
  {
   "cell_type": "markdown",
   "metadata": {},
   "source": [
    "### 【問題1】仮定関数\n",
    "以下の数式で表される線形回帰の仮定関数を実装してください。メソッドの雛形を用意してあります。\n",
    "\n",
    "$$\n",
    "h_\\theta(x) =  \\theta_0 x_0 + \\theta_1 x_1 + ... + \\theta_j x_j + ... +\\theta_n x_n.   (x_0 = 1)\\\\\n",
    "$$\n",
    "\n",
    "ベクトル表記\n",
    "$$\n",
    "h_\\theta(x) = \\theta^T \\cdot x.\n",
    "$$"
   ]
  },
  {
   "cell_type": "markdown",
   "metadata": {},
   "source": [
    "雛形\n",
    "\n",
    "クラスの外から呼び出すことがないメソッドのため、Pythonの慣例としてアンダースコアを先頭にひとつつけています"
   ]
  },
  {
   "cell_type": "markdown",
   "metadata": {},
   "source": [
    "\n",
    "\n",
    "    def _linear_hypothesis(self, X):\n",
    "        \"\"\"\n",
    "        線形の仮定関数を計算する\n",
    "\n",
    "        Parameters\n",
    "        ----------\n",
    "        X : 次の形のndarray, shape (n_samples, n_features)\n",
    "          訓練データ\n",
    "\n",
    "        Returns\n",
    "        -------\n",
    "        次の形のndarray, shape (n_samples, 1)\n",
    "        線形の仮定関数による推定結果\n",
    "\n",
    "        \"\"\"\n",
    "  \n",
    "        \n",
    "\n",
    "        h = np.dot(X,self.theta)\n",
    "        return h\n",
    "        \n"
   ]
  },
  {
   "cell_type": "markdown",
   "metadata": {},
   "source": [
    "### 【問題2】最急降下法\n",
    "\n",
    "最急降下法により学習させる実装を行なってください。以下の式で表されるパラメータの更新式のメソッド_gradient_descentを追加し、fit\n",
    "メソッドから呼び出すようにしてください。\n",
    "\n",
    "$$\n",
    "\\theta_j := \\theta_j - \\alpha \\frac{1}{m} \\sum_{i=1}^{m}[(h_\\theta(x^{(i)}) - y^{(i)} )x_{j}^{(i)}]\n",
    "$$\n",
    "\n",
    "雛形\n",
    "\n",
    "ScratchLinearRegressionクラスへ以下のメソッドを追加してください。コメントアウト部分の説明も記述してください。\n"
   ]
  },
  {
   "cell_type": "markdown",
   "metadata": {},
   "source": [
    "    def _gradient_descent(self, X, error):\n",
    "        \"\"\"\n",
    "        各特徴量に相当するw（j）を計算する\n",
    "\n",
    "        \"\"\"\n",
    "        \n",
    "        m,n = X.shape \n",
    "   \n",
    "        sigma = np.zeros((m,1))\n",
    "        for j in range(n):\n",
    "            for i in range(m):\n",
    "                sigma[j] = sigma[j]+(self._linear_hypothesis(X)[i]-self.y[i])*X[i][j]\n",
    "            self.theta[j] = self.theta[j]-self.lr/m*sigma[j]\n",
    "        return self.theta\n",
    "        \n",
    "    "
   ]
  },
  {
   "cell_type": "markdown",
   "metadata": {},
   "source": [
    "### 【問題3】推定\n",
    "推定する仕組みを実装してください。ScratchLinearRegressionクラスの雛形に含まれるpredictメソッドに書き加えてください。\n",
    "\n",
    "\n",
    "仮定関数 hθ(x)　の出力が推定結果です。"
   ]
  },
  {
   "cell_type": "markdown",
   "metadata": {},
   "source": [
    "    def predict(self, X):\n",
    "        \"\"\"\n",
    "        線形回帰を使い推定する。\n",
    "        _gradient_descent で求めた w を使い 仮定関数 h を求める。\n",
    "\n",
    "        Parameters\n",
    "        ----------\n",
    "        X : 次の形のndarray, shape (n_samples, n_features)\n",
    "            サンプル\n",
    "\n",
    "        Returns\n",
    "        -------\n",
    "            次の形のndarray, shape (n_samples, 1)\n",
    "            線形回帰による推定結果\n",
    "        \"\"\"\n",
    "        m,n = X.shape\n",
    "        ones = np.ones((m,1))\n",
    "        X = np.hstack((ones,X))\n",
    "        h = np.dot(X,self.theta) "
   ]
  },
  {
   "cell_type": "markdown",
   "metadata": {},
   "source": [
    "### 【問題4】平均二乗誤差\n",
    "\n",
    "線形回帰の指標値として用いられる平均二乗誤差（mean square error, MSE）の関数を作成してください。\n",
    "\n",
    "\n",
    "平均二乗誤差関数は回帰問題全般で使える関数のため、ScratchLinearRegressionクラスのメソッドではなく、別の関数として作成してください。雛形を用意してあります。\n",
    "\n",
    "\n",
    "平均二乗誤差は以下の数式で表されます。\n",
    "\n",
    "$$\n",
    "L(\\theta)=  \\frac{1 }{ m}  \\sum_{i=1}^{m} (h_\\theta(x^{(i)})-y^{(i)})^2.\n",
    "$$"
   ]
  },
  {
   "cell_type": "code",
   "execution_count": 3,
   "metadata": {},
   "outputs": [],
   "source": [
    "def MSE(y_pred, y):\n",
    "    \"\"\"\n",
    "    平均二乗誤差の計算\n",
    "\n",
    "    Parameters\n",
    "    ----------\n",
    "    y_pred : 次の形のndarray, shape (n_samples,)\n",
    "      推定した値\n",
    "    y : 次の形のndarray, shape (n_samples,)\n",
    "      正解値\n",
    "\n",
    "    Returns\n",
    "    ----------\n",
    "    mse : numpy.float\n",
    "      平均二乗誤差\n",
    "    \"\"\"\n",
    "    return np.sum((y_pred - y)**2) / len(y)"
   ]
  },
  {
   "cell_type": "markdown",
   "metadata": {},
   "source": [
    "### 【問題5】目的関数\n",
    "\n",
    "以下の数式で表される線形回帰の 目的関数（損失関数） を実装してください。そして、これをself.loss, self.val_lossに記録するようにしてください。\n",
    "\n",
    "\n",
    "目的関数（損失関数） \n",
    "J\n",
    "(\n",
    "θ\n",
    ")\n",
    " は次の式です。\n",
    " \n",
    " $$\n",
    " J(\\theta)=  \\frac{1 }{ 2m}  \\sum_{i=1}^{m} (h_\\theta(x^{(i)})-y^{(i)})^2.\n",
    " $$"
   ]
  },
  {
   "cell_type": "markdown",
   "metadata": {},
   "source": [
    "    def _cost_function(self, pred, y):\n",
    "    \"\"\"\n",
    "    目的関数の計算\n",
    "\n",
    "    Parameters\n",
    "    ----------\n",
    "    pred : 次の形のndarray, shape (n_samples,)\n",
    "      推定した値\n",
    "    y : 次の形のndarray, shape (n_samples,)\n",
    "      正解値\n",
    "\n",
    "    Returns\n",
    "    ----------\n",
    "      numpy.float\n",
    "      平均二乗誤差\n",
    "    \"\"\"\n",
    "\n",
    "    return np.sum((pred - y)**2) / (2*len(y))  "
   ]
  },
  {
   "cell_type": "markdown",
   "metadata": {},
   "source": [
    "### 【問題6】学習と推定\n",
    "機械学習スクラッチ入門のSprintで用意したHouse Pricesコンペティションのデータに対してスクラッチ実装の学習と推定を行なってください。\n",
    "\n",
    "\n",
    "scikit-learnによる実装と比べ、正しく動いているかを確認してください。\n",
    "\n"
   ]
  },
  {
   "cell_type": "code",
   "execution_count": 4,
   "metadata": {},
   "outputs": [],
   "source": [
    "\n",
    "\n",
    "df = pd.read_csv('train.csv')\n",
    "X = df[['GrLivArea', 'YearBuilt']]\n",
    "y = df['SalePrice']\n",
    "X = np.array(X)\n",
    "y = np.log(y)\n",
    "y = np.array(y)\n",
    "\n",
    "X_train, X_test, y_train, y_test = train_test_split(X, y, train_size=0.8,random_state=1)\n",
    "\n",
    "ss_X = StandardScaler()\n",
    "ss_X.fit(X_train)\n",
    "\n",
    "X_train = ss_X.transform(X_train)\n",
    "X_test = ss_X.transform(X_test)"
   ]
  },
  {
   "cell_type": "code",
   "execution_count": 5,
   "metadata": {},
   "outputs": [],
   "source": [
    "Scrach = ScratchLinearRegression(num_iter=100, lr=0.1, no_bias=False, verbose=True)"
   ]
  },
  {
   "cell_type": "code",
   "execution_count": 6,
   "metadata": {},
   "outputs": [
    {
     "name": "stdout",
     "output_type": "stream",
     "text": [
      "1回目：68592.0209058474\n",
      "2回目：55579.141815784285\n",
      "3回目：45039.98224944585\n",
      "4回目：36504.35089823728\n",
      "5回目：29591.422295629436\n",
      "6回目：23992.752110068803\n",
      "7回目：19458.520526941487\n",
      "8回目：15786.390180623439\n",
      "9回目：12812.481712683031\n",
      "10回目：10404.064481279302\n",
      "11回目：8453.636443283936\n",
      "12回目：6874.1291871869735\n",
      "13回目：5595.02427523933\n",
      "14回目：4559.207695961465\n",
      "15回目：3720.422146017024\n",
      "16回目：3041.20352180969\n",
      "17回目：2491.209595201939\n",
      "18回目：2045.8663376221905\n",
      "19回目：1685.2715225936963\n",
      "20回目：1393.306710180608\n",
      "21回目：1156.9180097132912\n",
      "22回目：965.5335438728292\n",
      "23回目：810.5916334570616\n",
      "24回目：685.1586597904777\n",
      "25回目：583.6195609771935\n",
      "26回目：501.42715737766594\n",
      "27回目：434.89912526694366\n",
      "28回目：381.0535626014859\n",
      "29回目：337.4758119438809\n",
      "30回目：302.2105996209556\n",
      "31回目：273.67467928503396\n",
      "32回目：250.58608256015563\n",
      "33回目：231.90682016565478\n",
      "34回目：216.79647684901127\n",
      "35回目：204.57462938131908\n",
      "36回目：194.69041044073077\n",
      "37回目：186.697859982463\n",
      "38回目：180.2359638836018\n",
      "39回目：175.01248877064415\n",
      "40回目：170.79089131309823\n",
      "41回目：167.37971745074748\n",
      "42回目：164.62401813327682\n",
      "43回目：162.39839814398883\n",
      "44回目：160.6013874678119\n",
      "45回目：159.15088369846347\n",
      "46回目：157.9804617934241\n",
      "47回目：157.03638621088763\n",
      "48回目：156.27519182738007\n",
      "49回目：155.66172543728447\n",
      "50回目：155.16756020925223\n",
      "51回目：154.7697121371767\n",
      "52回目：154.44960101844362\n",
      "53回目：154.19220942163932\n",
      "54回目：153.9854019574298\n",
      "55回目：153.8193743349258\n",
      "56回目：153.68620749140328\n",
      "57回目：153.57950678487475\n",
      "58回目：153.49411004655548\n",
      "59回目：153.42585137370736\n",
      "60回目：153.37137004034923\n",
      "61回目：153.32795592537238\n",
      "62回目：153.29342449501036\n",
      "63回目：153.266015702523\n",
      "64回目：153.24431224158332\n",
      "65回目：153.22717345919597\n",
      "66回目：153.21368193786867\n",
      "67回目：153.20310032667464\n",
      "68回目：153.19483646226342\n",
      "69回目：153.18841519445428\n",
      "70回目：153.1834556334627\n",
      "71回目：153.17965278064975\n",
      "72回目：153.17676270285148\n",
      "73回目：153.17459057077588\n",
      "74回目：153.1729810117834\n",
      "75回目：153.1718103324583\n",
      "76回目：153.17098025141954\n",
      "77回目：153.17041285163364\n",
      "78回目：153.1700465171798\n",
      "79回目：153.16983266446493\n",
      "80回目：153.16973311433452\n",
      "81回目：153.16971798100283\n",
      "82回目：153.1697639775742\n",
      "83回目：153.16985305720007\n",
      "84回目：153.1699713245186\n",
      "85回目：153.17010816461513\n",
      "86回目：153.1702555469378\n",
      "87回目：153.17040746983088\n",
      "88回目：153.17055951800023\n",
      "89回目：153.1707085106003\n",
      "90回目：153.17085222196624\n",
      "91回目：153.17098916052453\n",
      "92回目：153.1711183942343\n",
      "93回目：153.17123941319895\n",
      "94回目：153.17135202192463\n",
      "95回目：153.17145625518333\n",
      "96回目：153.1715523126378\n",
      "97回目：153.17164050834157\n",
      "98回目：153.17172123201044\n",
      "99回目：153.17179491957424\n",
      "100回目：153.17186203103032\n"
     ]
    }
   ],
   "source": [
    "Scrach.fit(X_train,y_train,X_test,y_test)"
   ]
  },
  {
   "cell_type": "code",
   "execution_count": 7,
   "metadata": {},
   "outputs": [
    {
     "name": "stdout",
     "output_type": "stream",
     "text": [
      "スクラッチモデルのMSE：83.3\n"
     ]
    }
   ],
   "source": [
    "pred = Scrach.predict(X_test)\n",
    "print(\"スクラッチモデルのMSE：{:.3g}\".format(MSE(pred, y_test)))"
   ]
  },
  {
   "cell_type": "code",
   "execution_count": 8,
   "metadata": {},
   "outputs": [
    {
     "name": "stdout",
     "output_type": "stream",
     "text": [
      "sklearnモデルのMSE：0.0453\n"
     ]
    }
   ],
   "source": [
    "# sklearnモデルの学習と推定\n",
    "from sklearn.linear_model import LinearRegression\n",
    "from sklearn.metrics import mean_squared_error\n",
    "\n",
    "sklearn_model = LinearRegression()\n",
    "\n",
    "sklearn_model.fit(X_train, y_train)\n",
    "\n",
    "sklearn_pred = sklearn_model.predict(X_test)\n",
    "sklearn_mse = mean_squared_error(y_test, sklearn_pred)\n",
    "\n",
    "print(\"sklearnモデルのMSE：{:.3g}\".format(sklearn_mse))"
   ]
  },
  {
   "cell_type": "code",
   "execution_count": 9,
   "metadata": {},
   "outputs": [
    {
     "data": {
      "text/plain": [
       "Text(0.5, 1.0, 'pred of Scrach & sklearn')"
      ]
     },
     "execution_count": 9,
     "metadata": {},
     "output_type": "execute_result"
    },
    {
     "data": {
      "image/png": "[encoded data removed]",
      "text/plain": [
       "<Figure size 432x288 with 1 Axes>"
      ]
     },
     "metadata": {
      "needs_background": "light"
     },
     "output_type": "display_data"
    }
   ],
   "source": [
    "plt.scatter(pred,sklearn_pred)\n",
    "plt.xlabel(\"Scrach pred\")\n",
    "plt.ylabel(\"sklearn pred\")\n",
    "plt.title(\"pred of Scrach & sklearn\")"
   ]
  },
  {
   "cell_type": "markdown",
   "metadata": {},
   "source": [
    "**Scrach　と　sklearnでの予測値をそれぞれ上記の通りグラフ化するとy=x線上のため、同様の学習による予測をしていると考えられる。**"
   ]
  },
  {
   "cell_type": "markdown",
   "metadata": {},
   "source": [
    "### 【問題7】学習曲線のプロット\n",
    "学習曲線を表示する関数を作成し、実行してください。グラフを見て損失が適切に下がっているかどうか確認してください。\n",
    "\n",
    "線形回帰クラスの雛形ではself.loss, self.val_lossに損失を記録しておくようになっているため、入力にはこれを利用してください。"
   ]
  },
  {
   "cell_type": "code",
   "execution_count": 10,
   "metadata": {},
   "outputs": [
    {
     "data": {
      "image/png": "[encoded data removed]",
      "text/plain": [
       "<Figure size 432x288 with 1 Axes>"
      ]
     },
     "metadata": {
      "needs_background": "light"
     },
     "output_type": "display_data"
    }
   ],
   "source": [
    "plt.plot(Scrach.loss,label=\"train loss\")\n",
    "plt.plot(Scrach.val_loss,label=\"validation loss\")\n",
    "plt.title(\"loss of train and validation\")\n",
    "plt.xlabel(\"iter\")\n",
    "plt.ylabel(\"loss\")\n",
    "plt.legend()\n",
    "plt.show()"
   ]
  },
  {
   "cell_type": "markdown",
   "metadata": {},
   "source": [
    "### 【問題8】（アドバンス課題）バイアス項の除去\n",
    "バイアス項 θ0\n",
    " を抜くと学習がどう変化するか検証してください。また、線形回帰モデルにおけるバイアス項の役割の考察・調査を行ってください。"
   ]
  },
  {
   "cell_type": "code",
   "execution_count": 11,
   "metadata": {},
   "outputs": [],
   "source": [
    "Scrach = ScratchLinearRegression(num_iter=100, lr=0.001, no_bias=True, verbose=True)"
   ]
  },
  {
   "cell_type": "code",
   "execution_count": 12,
   "metadata": {},
   "outputs": [
    {
     "name": "stdout",
     "output_type": "stream",
     "text": [
      "1回目：84659.14707692135\n",
      "2回目：84659.14733990982\n",
      "3回目：84659.14777746073\n",
      "4回目：84659.14838895129\n",
      "5回目：84659.14917376073\n",
      "6回目：84659.15013126995\n",
      "7回目：84659.1512608614\n",
      "8回目：84659.15256191959\n",
      "9回目：84659.15403383027\n",
      "10回目：84659.15567598135\n",
      "11回目：84659.15748776206\n",
      "12回目：84659.1594685637\n",
      "13回目：84659.16161777891\n",
      "14回目：84659.16393480217\n",
      "15回目：84659.16641902975\n",
      "16回目：84659.16906985943\n",
      "17回目：84659.17188669075\n",
      "18回目：84659.17486892478\n",
      "19回目：84659.17801596454\n",
      "20回目：84659.18132721451\n",
      "21回目：84659.18480208072\n",
      "22回目：84659.1884399711\n",
      "23回目：84659.19224029516\n",
      "24回目：84659.19620246404\n",
      "25回目：84659.20032589034\n",
      "26回目：84659.20460998853\n",
      "27回目：84659.20905417467\n",
      "28回目：84659.21365786642\n",
      "29回目：84659.21842048292\n",
      "30回目：84659.22334144531\n",
      "31回目：84659.22842017592\n",
      "32回目：84659.23365609888\n",
      "33回目：84659.23904864004\n",
      "34回目：84659.24459722659\n",
      "35回目：84659.25030128763\n",
      "36回目：84659.25616025348\n",
      "37回目：84659.26217355636\n",
      "38回目：84659.26834063002\n",
      "39回目：84659.27466090977\n",
      "40回目：84659.2811338324\n",
      "41回目：84659.28775883635\n",
      "42回目：84659.29453536165\n",
      "43回目：84659.30146284988\n",
      "44回目：84659.30854074424\n",
      "45回目：84659.31576848932\n",
      "46回目：84659.32314553144\n",
      "47回目：84659.33067131844\n",
      "48回目：84659.33834529966\n",
      "49回目：84659.34616692594\n",
      "50回目：84659.35413564963\n",
      "51回目：84659.36225092491\n",
      "52回目：84659.37051220723\n",
      "53回目：84659.37891895352\n",
      "54回目：84659.38747062246\n",
      "55回目：84659.39616667392\n",
      "56回目：84659.40500656972\n",
      "57回目：84659.41398977273\n",
      "58回目：84659.42311574773\n",
      "59回目：84659.43238396084\n",
      "60回目：84659.44179387955\n",
      "61回目：84659.45134497299\n",
      "62回目：84659.46103671176\n",
      "63回目：84659.47086856795\n",
      "64回目：84659.4808400152\n",
      "65回目：84659.49095052852\n",
      "66回目：84659.50119958438\n",
      "67回目：84659.51158666084\n",
      "68回目：84659.52211123727\n",
      "69回目：84659.53277279483\n",
      "70回目：84659.54357081563\n",
      "71回目：84659.55450478377\n",
      "72回目：84659.56557418444\n",
      "73回目：84659.57677850444\n",
      "74回目：84659.5881172319\n",
      "75回目：84659.59958985659\n",
      "76回目：84659.61119586951\n",
      "77回目：84659.62293476323\n",
      "78回目：84659.63480603173\n",
      "79回目：84659.64680917031\n",
      "80回目：84659.65894367591\n",
      "81回目：84659.67120904665\n",
      "82回目：84659.68360478219\n",
      "83回目：84659.69613038369\n",
      "84回目：84659.70878535355\n",
      "85回目：84659.72156919567\n",
      "86回目：84659.7344814153\n",
      "87回目：84659.7475215192\n",
      "88回目：84659.76068901544\n",
      "89回目：84659.77398341337\n",
      "90回目：84659.78740422401\n",
      "91回目：84659.80095095957\n",
      "92回目：84659.81462313367\n",
      "93回目：84659.8284202612\n",
      "94回目：84659.84234185872\n",
      "95回目：84659.8563874438\n",
      "96回目：84659.87055653577\n",
      "97回目：84659.88484865495\n",
      "98回目：84659.89926332324\n",
      "99回目：84659.91380006385\n",
      "100回目：84659.92845840141\n"
     ]
    }
   ],
   "source": [
    "Scrach.fit(X_train,y_train,X_test,y_test)"
   ]
  },
  {
   "cell_type": "code",
   "execution_count": 13,
   "metadata": {},
   "outputs": [
    {
     "data": {
      "image/png": "[encoded data removed]",
      "text/plain": [
       "<Figure size 432x288 with 1 Axes>"
      ]
     },
     "metadata": {
      "needs_background": "light"
     },
     "output_type": "display_data"
    }
   ],
   "source": [
    "plt.plot(Scrach.loss,label=\"train loss\")\n",
    "plt.plot(Scrach.val_loss,label=\"validation loss\")\n",
    "plt.title(\"no_bias loss of train and validation\")\n",
    "plt.xlabel(\"iter\")\n",
    "plt.ylabel(\"loss\")\n",
    "plt.legend()\n",
    "plt.show()"
   ]
  },
  {
   "cell_type": "markdown",
   "metadata": {},
   "source": [
    "バイアス項がないと目的関数は減少しづらい。これは、バイアス項がないと常にグラフの原点を通るため、目的変数を予測する適用能力が低いためと考えられる。また、適用した場合でも、過度に訓練データにフィットする過学習になる可能性もある。"
   ]
  },
  {
   "cell_type": "markdown",
   "metadata": {},
   "source": [
    "### 【問題9】（アドバンス課題）特徴量の多次元化\n",
    "特徴量の二乗や三乗を入力に利用すると学習結果がどう変化するか検証してください。"
   ]
  },
  {
   "cell_type": "code",
   "execution_count": 21,
   "metadata": {},
   "outputs": [],
   "source": [
    "X2_train = X_train**2\n",
    "X2_test = X_test**2\n",
    "\n",
    "X3_train = X_train**3\n",
    "X3_test = X_test**3\n",
    "\n",
    "Scrach = ScratchLinearRegression(num_iter=100, lr=0.1, no_bias=False, verbose=False)\n",
    "Scrach2 = ScratchLinearRegression(num_iter=100, lr=0.1, no_bias=False, verbose=False)\n",
    "Scrach3 = ScratchLinearRegression(num_iter=100, lr=0.1, no_bias=False, verbose=False)\n",
    "\n",
    "Scrach.fit(X_train,y_train,X_test,y_test)\n",
    "Scrach2.fit(X2_train,y_train,X2_test,y_test)\n",
    "Scrach3.fit(X3_train,y_train,X3_test,y_test)"
   ]
  },
  {
   "cell_type": "code",
   "execution_count": 22,
   "metadata": {},
   "outputs": [
    {
     "data": {
      "text/plain": [
       "<matplotlib.legend.Legend at 0x1a201f3890>"
      ]
     },
     "execution_count": 22,
     "metadata": {},
     "output_type": "execute_result"
    },
    {
     "data": {
      "image/png": "[encoded data removed]",
      "text/plain": [
       "<Figure size 864x288 with 2 Axes>"
      ]
     },
     "metadata": {
      "needs_background": "light"
     },
     "output_type": "display_data"
    }
   ],
   "source": [
    "\n",
    "fig, ax = plt.subplots(1,2,figsize=(12,4))\n",
    "\n",
    "ax[0].plot(Scrach.loss,label=\"normal_train loss\")\n",
    "ax[0].plot(Scrach2.loss,label=\"square_train loss\")\n",
    "ax[0].plot(Scrach3.loss,label=\"cube_train loss\")\n",
    "\n",
    "ax[1].plot(Scrach.val_loss,label=\"normal_train val_loss\")\n",
    "ax[1].plot(Scrach2.val_loss,label=\"square_train loss\")\n",
    "ax[1].plot(Scrach3.val_loss,label=\"cube_train loss\")\n",
    "\n",
    "ax[0].legend()\n",
    "ax[1].legend()"
   ]
  },
  {
   "cell_type": "markdown",
   "metadata": {},
   "source": [
    "1乗や２乗は　num_iter=100, lr=0.1　の条件で目的関数は減少していることを確認できたが、3乗は発散してしまった。\n",
    "そのため、条件の学習率を変更しnum_iter=100、lr=0.001で実施する。"
   ]
  },
  {
   "cell_type": "code",
   "execution_count": 24,
   "metadata": {},
   "outputs": [],
   "source": [
    "X2_train = X_train**2\n",
    "X2_test = X_test**2\n",
    "\n",
    "X3_train = X_train**3\n",
    "X3_test = X_test**3\n",
    "\n",
    "Scrach2 = ScratchLinearRegression(num_iter=100, lr=0.001, no_bias=False, verbose=False)\n",
    "Scrach3 = ScratchLinearRegression(num_iter=100, lr=0.001, no_bias=False, verbose=False)\n",
    "\n",
    "Scrach2.fit(X2_train,y_train,X2_test,y_test)\n",
    "Scrach3.fit(X3_train,y_train,X3_test,y_test)"
   ]
  },
  {
   "cell_type": "code",
   "execution_count": 25,
   "metadata": {},
   "outputs": [
    {
     "data": {
      "text/plain": [
       "<matplotlib.legend.Legend at 0x1a20589510>"
      ]
     },
     "execution_count": 25,
     "metadata": {},
     "output_type": "execute_result"
    },
    {
     "data": {
      "image/png": "[encoded data removed]",
      "text/plain": [
       "<Figure size 864x288 with 2 Axes>"
      ]
     },
     "metadata": {
      "needs_background": "light"
     },
     "output_type": "display_data"
    }
   ],
   "source": [
    "\n",
    "fig, ax = plt.subplots(1,2,figsize=(12,4))\n",
    "\n",
    "ax[0].plot(Scrach.loss,label=\"normal_train loss\")\n",
    "ax[0].plot(Scrach2.loss,label=\"square_train loss\")\n",
    "ax[0].plot(Scrach3.loss,label=\"cube_train loss\")\n",
    "\n",
    "ax[1].plot(Scrach.val_loss,label=\"normal_train val_loss\")\n",
    "ax[1].plot(Scrach2.val_loss,label=\"square_train loss\")\n",
    "ax[1].plot(Scrach3.val_loss,label=\"cube_train loss\")\n",
    "\n",
    "ax[0].legend()\n",
    "ax[1].legend()"
   ]
  },
  {
   "cell_type": "markdown",
   "metadata": {},
   "source": [
    "num_iter=100、lr=0.001のように学習率を小さくしたものであると発散せずに現象していくことが確認できた。\n",
    "結果、特徴量が2乗、３乗と分散が大きくなる場合、学習率を小さくする必要がある。\n",
    "また、目的関数が収束するためのイテレーション数も大きくする必要がある）\n",
    "（以下は参考としてイテレーション数を増やしnum_iter=1000、lr=0.001 で実施した。）"
   ]
  },
  {
   "cell_type": "code",
   "execution_count": 27,
   "metadata": {},
   "outputs": [],
   "source": [
    "Scrach2 = ScratchLinearRegression(num_iter=1000, lr=0.001, no_bias=False, verbose=False)\n",
    "Scrach3 = ScratchLinearRegression(num_iter=1000, lr=0.001, no_bias=False, verbose=False)\n",
    "\n",
    "Scrach2.fit(X2_train,y_train,X2_test,y_test)\n",
    "Scrach3.fit(X3_train,y_train,X3_test,y_test)"
   ]
  },
  {
   "cell_type": "code",
   "execution_count": 28,
   "metadata": {},
   "outputs": [
    {
     "data": {
      "text/plain": [
       "<matplotlib.legend.Legend at 0x1a208e0590>"
      ]
     },
     "execution_count": 28,
     "metadata": {},
     "output_type": "execute_result"
    },
    {
     "data": {
      "image/png": "[encoded data removed]",
      "text/plain": [
       "<Figure size 864x288 with 2 Axes>"
      ]
     },
     "metadata": {
      "needs_background": "light"
     },
     "output_type": "display_data"
    }
   ],
   "source": [
    "\n",
    "fig, ax = plt.subplots(1,2,figsize=(12,4))\n",
    "\n",
    "ax[0].plot(Scrach.loss,label=\"normal_train loss\")\n",
    "ax[0].plot(Scrach2.loss,label=\"square_train loss\")\n",
    "ax[0].plot(Scrach3.loss,label=\"cube_train loss\")\n",
    "\n",
    "ax[1].plot(Scrach.val_loss,label=\"normal_train val_loss\")\n",
    "ax[1].plot(Scrach2.val_loss,label=\"square_train loss\")\n",
    "ax[1].plot(Scrach3.val_loss,label=\"cube_train loss\")\n",
    "\n",
    "ax[0].legend()\n",
    "ax[1].legend()"
   ]
  },
  {
   "cell_type": "markdown",
   "metadata": {},
   "source": [
    "イテレーション数を増やしnum_iter=1000、lr=0.001 では、ある程度目的関数が減少していることが確認できた。\n",
    "（傾向が理解できたため、これ以上のイテレーション増加はPCスペックのため省略）"
   ]
  },
  {
   "cell_type": "markdown",
   "metadata": {},
   "source": [
    "### 【問題10】（アドバンス課題）更新式の導出\n",
    "最急降下法の更新式は以下でした。この式が導出される過程を説明してください。"
   ]
  },
  {
   "cell_type": "markdown",
   "metadata": {},
   "source": [
    "$$\n",
    "J(\\theta)=  \\frac{1 }{ 2m}  \\sum_{i=1}^{m} (h_\\theta(x^{(i)})-y^{(i)})^2.\n",
    "$$\n",
    "\n",
    "$$\n",
    "h_\\theta(x) =  \\theta_0 x_0 + \\theta_1 x_1 + ... + \\theta_j x_j + ... +\\theta_n x_n.   (x_0 = 1)\\\\\n",
    "$$\n",
    "\n",
    "\n",
    "偏微分では、その関数を各々指定された　$${\\partial \\theta_j} $$ で微分する。\n",
    "その際に各々の \\theta との係数である $${x^{(i)}}$$ が外に出るため以下となる。\n",
    "\n",
    "\n",
    "$$\n",
    "\\frac{\\partial}{\\partial \\theta_j}J(\\theta) = \\frac{1 }{ 2m} 2  \\sum_{i=1}^{m} (h_\\theta(x^{(i)})-y^{(i)}) x^{(i)}.\n",
    "$$\n",
    "\n",
    "$$\n",
    "\\frac{\\partial}{\\partial \\theta_j}J(\\theta) = \\frac{1 }{ m}   \\sum_{i=1}^{m} (h_\\theta(x^{(i)})-y^{(i)}) x^{(i)}.\n",
    "$$\n",
    "\n",
    "上記を以下に代入することで式が得られる。\n",
    "\n",
    "$$\n",
    "\\theta_j := \\theta_j - \\frac{\\partial}{\\partial \\theta_j}J(\\theta) \\\\\n",
    "$$\n",
    "\n",
    "$$\n",
    "\\theta_j := \\theta_j - \\alpha \\frac{1}{m} \\sum_{i=1}^{m}[(h_\\theta(x^{(i)}) - y^{(i)} )x_{j}^{(i)}]\n",
    "$$"
   ]
  },
  {
   "cell_type": "markdown",
   "metadata": {},
   "source": [
    "### 【問題11】（アドバンス課題）局所最適解の問題\n",
    "最急降下法には一般的に局所最適解の問題があります。しかし、線形回帰では学習を続ければ必ず最適解を求めることができます。それはなぜか数式やグラフを用いて説明してください。"
   ]
  },
  {
   "cell_type": "markdown",
   "metadata": {},
   "source": [
    "線形回帰では目的関数に平均二乗誤差を用いるため、原則として最適解は一つである。平均二乗誤差は凸関数の曲線を描いており（下記参照）、各特徴量$\\theta$において最小値は一つのみ観測される。"
   ]
  },
  {
   "cell_type": "code",
   "execution_count": 29,
   "metadata": {},
   "outputs": [
    {
     "data": {
      "image/png": "[encoded data removed]",
      "text/plain": [
       "<Figure size 432x288 with 1 Axes>"
      ]
     },
     "metadata": {
      "needs_background": "light"
     },
     "output_type": "display_data"
    }
   ],
   "source": [
    "# 平均二乗誤差のグラフ化\n",
    "theta = np.arange(0,2,0.01)\n",
    "J_theta = (1-theta)**2   # xとyに適当な数値を代入\n",
    "plt.plot(theta, J_theta) \n",
    "plt.title(\"Cost Function\")\n",
    "plt.xlabel(\"$\\\\theta$\")\n",
    "plt.ylabel(\"$J(\\\\theta)$\")\n",
    "plt.show()"
   ]
  }
 ],
 "metadata": {
  "kernelspec": {
   "display_name": "Python 3",
   "language": "python",
   "name": "python3"
  },
  "language_info": {
   "codemirror_mode": {
    "name": "ipython",
    "version": 3
   },
   "file_extension": ".py",
   "mimetype": "text/x-python",
   "name": "python",
   "nbconvert_exporter": "python",
   "pygments_lexer": "ipython3",
   "version": "3.7.4"
  }
 },
 "nbformat": 4,
 "nbformat_minor": 2
}
