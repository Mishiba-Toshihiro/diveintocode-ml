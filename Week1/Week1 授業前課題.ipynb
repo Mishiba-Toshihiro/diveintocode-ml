{
 "cells": [
  {
   "cell_type": "markdown",
   "metadata": {},
   "source": [
    "# Week1 授業前課題\n",
    "テキストの目的\n",
    "- 基礎的なプログラミング力を確認する\n",
    "- プログラミングを何らかしらの問題に対して適用してみる\n",
    "- 随時調査しながら進められるようにする"
   ]
  },
  {
   "cell_type": "markdown",
   "metadata": {},
   "source": [
    "【問題1】べき乗の算術演算子を使用して作成"
   ]
  },
  {
   "cell_type": "code",
   "execution_count": 30,
   "metadata": {},
   "outputs": [
    {
     "name": "stdout",
     "output_type": "stream",
     "text": [
      "厚さ： 703687441.77664メートル\n"
     ]
    }
   ],
   "source": [
    "\"\"\"\n",
    "紙を43回折った時の厚さを計算するコード\n",
    "\"\"\"\n",
    "THICKNESS = 0.00008\n",
    "n_folded = 43                        # 何回折るかは変数に入れる\n",
    "folded_thickness = THICKNESS\n",
    "folded_thickness = folded_thickness*(2**n_folded)\n",
    "print(\"厚さ： {}メートル\".format(folded_thickness))"
   ]
  },
  {
   "cell_type": "markdown",
   "metadata": {},
   "source": [
    "【問題2】単位の変換"
   ]
  },
  {
   "cell_type": "code",
   "execution_count": 3,
   "metadata": {},
   "outputs": [
    {
     "name": "stdout",
     "output_type": "stream",
     "text": [
      "厚さ： 70.37万キロメートル\n"
     ]
    }
   ],
   "source": [
    "\"\"\"\n",
    "○○万キロメートルの表記に変換\n",
    "\"\"\"\n",
    "print(\"厚さ： {:.2f}万キロメートル\".format(folded_thickness/10000000))"
   ]
  },
  {
   "cell_type": "markdown",
   "metadata": {},
   "source": [
    "月までの距離は38万キロメートルのため43回折ると月を超えることがわかる。"
   ]
  },
  {
   "cell_type": "markdown",
   "metadata": {},
   "source": [
    "【問題3】for文を使用して作成"
   ]
  },
  {
   "cell_type": "code",
   "execution_count": 3,
   "metadata": {},
   "outputs": [
    {
     "name": "stdout",
     "output_type": "stream",
     "text": [
      "厚さ： 70.37万キロメートル\n"
     ]
    }
   ],
   "source": [
    "\"\"\"\n",
    "for文を使用して作成\n",
    "\"\"\"\n",
    "THICKNESS = 0.00008\n",
    "\n",
    "n_folded = 43\n",
    "\n",
    "folded_thickness = THICKNESS\n",
    "for i in range(n_folded):\n",
    "    folded_thickness *= 2\n",
    "print(\"厚さ： {:.2f}万キロメートル\".format(folded_thickness/10000000))"
   ]
  },
  {
   "cell_type": "markdown",
   "metadata": {},
   "source": [
    "注意点：\n",
    "\n",
    "THICKNESSは定数として扱いたいので、THICKNESSを書き換えるコードは望ましくない。Pythonでは全て大文字で表した変数は、変更されることのない定数を表す慣例があり、そう人間が扱っているだけで機能的には普通の変数と同じため、変更してしまうことも可能ですが、そういったコードは分かりにくくなるため避ける。"
   ]
  },
  {
   "cell_type": "markdown",
   "metadata": {},
   "source": [
    "【問題4】計算時間の比較"
   ]
  },
  {
   "cell_type": "code",
   "execution_count": 10,
   "metadata": {},
   "outputs": [
    {
     "name": "stdout",
     "output_type": "stream",
     "text": [
      "time1 : 0.08392333984375[ms]\n"
     ]
    }
   ],
   "source": [
    "import time\n",
    "\n",
    "THICKNESS = 0.00008\n",
    "\n",
    "n_folded = 43\n",
    "\n",
    "start = time.time()\n",
    "\n",
    "folded_thickness = THICKNESS*(2**n_folded)\n",
    "\n",
    "elapsed_time1 = time.time() - start\n",
    "print(\"time1 : {}[ms]\".format(elapsed_time1*1000))"
   ]
  },
  {
   "cell_type": "code",
   "execution_count": 13,
   "metadata": {},
   "outputs": [
    {
     "name": "stdout",
     "output_type": "stream",
     "text": [
      "time2 : 0.10085105895996094[ms]\n"
     ]
    }
   ],
   "source": [
    "THICKNESS = 0.00008\n",
    "\n",
    "n_folded = 43\n",
    "\n",
    "folded_thickness = THICKNESS\n",
    "\n",
    "start = time.time()\n",
    "\n",
    "for i in range(n_folded):\n",
    "    folded_thickness *= 2\n",
    "\n",
    "elapsed_time2 = time.time() - start\n",
    "print(\"time2 : {}[ms]\".format(elapsed_time2*1000))"
   ]
  },
  {
   "cell_type": "code",
   "execution_count": 15,
   "metadata": {},
   "outputs": [
    {
     "name": "stdout",
     "output_type": "stream",
     "text": [
      "time1はtime2より 0.016927719116210938[ms] 処理が早い \n",
      "(繰り返し数43の場合)\n"
     ]
    }
   ],
   "source": [
    "difference_time1_2 = elapsed_time2 - elapsed_time1\n",
    "print(\"time1はtime2より {}[ms] 処理が早い \\n(繰り返し数43の場合)\".format(difference_time1_2*1000))"
   ]
  },
  {
   "cell_type": "markdown",
   "metadata": {},
   "source": [
    "《発展：繰り返し回数を増やす》　繰り返し数：100 に変更"
   ]
  },
  {
   "cell_type": "code",
   "execution_count": 18,
   "metadata": {},
   "outputs": [
    {
     "name": "stdout",
     "output_type": "stream",
     "text": [
      "time3 : 0.08511543273925781[ms]\n"
     ]
    }
   ],
   "source": [
    "THICKNESS = 0.00008\n",
    "\n",
    "n_folded = 100\n",
    "\n",
    "start = time.time()\n",
    "\n",
    "folded_thickness = THICKNESS*(2**n_folded)\n",
    "\n",
    "elapsed_time3 = time.time() - start\n",
    "print(\"time3 : {}[ms]\".format(elapsed_time3*1000))"
   ]
  },
  {
   "cell_type": "code",
   "execution_count": 19,
   "metadata": {},
   "outputs": [
    {
     "name": "stdout",
     "output_type": "stream",
     "text": [
      "time4 : 0.10514259338378906[ms]\n"
     ]
    }
   ],
   "source": [
    "THICKNESS = 0.00008\n",
    "\n",
    "n_folded = 100\n",
    "\n",
    "folded_thickness = THICKNESS\n",
    "\n",
    "start = time.time()\n",
    "\n",
    "for i in range(n_folded):\n",
    "    folded_thickness *= 2\n",
    "\n",
    "elapsed_time4 = time.time() - start\n",
    "print(\"time4 : {}[ms]\".format(elapsed_time4*1000))"
   ]
  },
  {
   "cell_type": "code",
   "execution_count": 20,
   "metadata": {},
   "outputs": [
    {
     "name": "stdout",
     "output_type": "stream",
     "text": [
      "time3はtime4より 0.02002716064453125[ms] 処理が早い \n",
      "(繰り返し数100の場合)\n"
     ]
    }
   ],
   "source": [
    "difference_time3_4 = elapsed_time4 - elapsed_time3\n",
    "print(\"time3はtime4より {}[ms] 処理が早い \\n(繰り返し数100の場合)\".format(difference_time3_4*1000))"
   ]
  },
  {
   "cell_type": "markdown",
   "metadata": {},
   "source": [
    "《発展：マジックコマンドを使う》"
   ]
  },
  {
   "cell_type": "markdown",
   "metadata": {},
   "source": [
    "`%%timeit`と書くことでセル内のコードを複数回実行し、平均の時間を計測する機能が備わっている。\n",
    "\n",
    "べき乗はforより早い結果であることが分かる。"
   ]
  },
  {
   "cell_type": "code",
   "execution_count": 21,
   "metadata": {},
   "outputs": [
    {
     "name": "stdout",
     "output_type": "stream",
     "text": [
      "321 ns ± 0.425 ns per loop (mean ± std. dev. of 7 runs, 1000000 loops each)\n"
     ]
    }
   ],
   "source": [
    "%%timeit\n",
    "THICKNESS = 0.00008\n",
    "n_folded = 43\n",
    "folded_thickness = THICKNESS*2**(n_folded)"
   ]
  },
  {
   "cell_type": "code",
   "execution_count": 22,
   "metadata": {
    "scrolled": true
   },
   "outputs": [
    {
     "name": "stdout",
     "output_type": "stream",
     "text": [
      "1.82 µs ± 5.14 ns per loop (mean ± std. dev. of 7 runs, 1000000 loops each)\n"
     ]
    }
   ],
   "source": [
    "%%timeit\n",
    "THICKNESS = 0.00008\n",
    "n_folded = 43\n",
    "folded_thickness = THICKNESS\n",
    "for i in range(n_folded):\n",
    "    folded_thickness *= 2"
   ]
  },
  {
   "cell_type": "markdown",
   "metadata": {},
   "source": [
    "【問題5】リストへの保存"
   ]
  },
  {
   "cell_type": "markdown",
   "metadata": {},
   "source": [
    "43回折った後の最後の値だけを使用していましたが、グラフで可視化するためには過程の値も必要です。for文を使用したコードに、過程の値合計44個を記録するコードを加えてください。"
   ]
  },
  {
   "cell_type": "code",
   "execution_count": 24,
   "metadata": {},
   "outputs": [
    {
     "name": "stdout",
     "output_type": "stream",
     "text": [
      "要素数\n",
      "44\n",
      "リスト\n",
      "[8e-05, 0.00016, 0.00032, 0.00064, 0.00128, 0.00256, 0.00512, 0.01024, 0.02048, 0.04096, 0.08192, 0.16384, 0.32768, 0.65536, 1.31072, 2.62144, 5.24288, 10.48576, 20.97152, 41.94304, 83.88608, 167.77216, 335.54432, 671.08864, 1342.17728, 2684.35456, 5368.70912, 10737.41824, 21474.83648, 42949.67296, 85899.34592, 171798.69184, 343597.38368, 687194.76736, 1374389.53472, 2748779.06944, 5497558.13888, 10995116.27776, 21990232.55552, 43980465.11104, 87960930.22208, 175921860.44416, 351843720.88832, 703687441.77664]\n"
     ]
    }
   ],
   "source": [
    "t0 = 0.00008\n",
    "t=[]\n",
    "for i in range(44):\n",
    "    ti = t0 * 2 **i\n",
    "    t.append(ti)\n",
    "print(\"要素数\")\n",
    "print(len(t))\n",
    "print(\"リスト\")\n",
    "print(t)"
   ]
  },
  {
   "cell_type": "markdown",
   "metadata": {},
   "source": [
    "【問題6】折れ線グラフの表示"
   ]
  },
  {
   "cell_type": "code",
   "execution_count": 60,
   "metadata": {},
   "outputs": [
    {
     "data": {
      "image/png": "[encoded data removed]",
      "text/plain": [
       "<Figure size 432x288 with 1 Axes>"
      ]
     },
     "metadata": {
      "needs_background": "light"
     },
     "output_type": "display_data"
    }
   ],
   "source": [
    "\"\"\"\n",
    "グラフを表示する。タイトルと軸ラベル名付き。\n",
    "\"\"\"\n",
    "import matplotlib.pyplot as plt\n",
    "%matplotlib inline\n",
    "plt.title(\"thickness of folded paper\")\n",
    "plt.xlabel(\"number of folds\")\n",
    "plt.ylabel(\"thickness[m]\")\n",
    "plt.plot(t) \n",
    "plt.show()"
   ]
  },
  {
   "cell_type": "markdown",
   "metadata": {},
   "source": [
    "【問題7】グラフのカスタマイズ"
   ]
  },
  {
   "cell_type": "code",
   "execution_count": 61,
   "metadata": {},
   "outputs": [
    {
     "data": {
      "image/png": "[encoded data removed]",
      "text/plain": [
       "<Figure size 432x288 with 1 Axes>"
      ]
     },
     "metadata": {
      "needs_background": "light"
     },
     "output_type": "display_data"
    }
   ],
   "source": [
    "\"\"\"\n",
    "赤い折れ線グラフを表示する。\n",
    "\"\"\"\n",
    "plt.title(\"thickness of folded paper\")\n",
    "plt.xlabel(\"number of folds\")\n",
    "plt.ylabel(\"thickness[m]\")\n",
    "plt.plot(t, color='red')\n",
    "plt.show()"
   ]
  },
  {
   "cell_type": "code",
   "execution_count": 66,
   "metadata": {
    "scrolled": true
   },
   "outputs": [
    {
     "data": {
      "image/png": "[encoded data removed]",
      "text/plain": [
       "<Figure size 432x288 with 1 Axes>"
      ]
     },
     "metadata": {
      "needs_background": "light"
     },
     "output_type": "display_data"
    }
   ],
   "source": [
    "\"\"\"\n",
    "赤い折れ線グラフを表示する。\n",
    "\"\"\"\n",
    "plt.title(\"thickness of folded paper\",{\"fontsize\":20})\n",
    "plt.xlabel(\"number of folds\")\n",
    "plt.ylabel(\"thickness[m]\")\n",
    "plt.tick_params(labelsize=20)\n",
    "plt.plot(t, color='red',linestyle=\"solid\",linewidth=5)\n",
    "plt.show()"
   ]
  },
  {
   "cell_type": "code",
   "execution_count": 70,
   "metadata": {},
   "outputs": [
    {
     "data": {
      "image/png": "[encoded data removed]",
      "text/plain": [
       "<Figure size 432x288 with 1 Axes>"
      ]
     },
     "metadata": {
      "needs_background": "light"
     },
     "output_type": "display_data"
    }
   ],
   "source": [
    "\"\"\"\n",
    "赤い折れ線グラフを表示する。\n",
    "\"\"\"\n",
    "plt.title(\"thickness of folded paper\",{\"fontsize\":20})\n",
    "plt.xlabel(\"number of folds\")\n",
    "plt.ylabel(\"thickness[m]\")\n",
    "plt.tick_params(labelsize=20)\n",
    "plt.plot(t, color='red',linestyle=\"dashed\")\n",
    "plt.show()"
   ]
  },
  {
   "cell_type": "code",
   "execution_count": null,
   "metadata": {},
   "outputs": [],
   "source": []
  }
 ],
 "metadata": {
  "kernelspec": {
   "display_name": "Python 3",
   "language": "python",
   "name": "python3"
  },
  "language_info": {
   "codemirror_mode": {
    "name": "ipython",
    "version": 3
   },
   "file_extension": ".py",
   "mimetype": "text/x-python",
   "name": "python",
   "nbconvert_exporter": "python",
   "pygments_lexer": "ipython3",
   "version": "3.7.4"
  }
 },
 "nbformat": 4,
 "nbformat_minor": 2
}
