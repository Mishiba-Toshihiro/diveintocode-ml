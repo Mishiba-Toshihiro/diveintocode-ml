{
 "cells": [
  {
   "cell_type": "markdown",
   "metadata": {},
   "source": [
    "### 「Pythonを使ってみよう」の問題で扱った紙を折ると月に届く話に似たものとして、曽呂利新左衛門の逸話があります。これを題材にプログラミングを進めます。\n",
    "\n",
    "秀吉から褒美を下される際、何を希望するか尋ねられた新左衛門は、今日は米1粒、翌日には倍の2粒、その翌日には更に倍の4粒と、日ごとに倍の量の米を100日間もらう事を希望した。米粒なら大した事はないと思った秀吉は簡単に承諾したが、日ごとに倍ずつ増やして行くと100日後には膨大な量になる事に途中で気づき、他の褒美に変えてもらった。"
   ]
  },
  {
   "cell_type": "markdown",
   "metadata": {},
   "source": [
    "## 【問題1】100日目の米粒の数\n",
    "100日目には合計で米粒をいくつもらっているのかを計算するコードを作成し、答えを出力してください。また、1日目から100日目までの「その日にもらう米の数」と「その日までに累計で貰う米の数」の推移を折れ線グラフで表現してください。（縦軸が米の数、横軸が日数）"
   ]
  },
  {
   "cell_type": "code",
   "execution_count": 1,
   "metadata": {},
   "outputs": [
    {
     "data": {
      "image/png": "[encoded data removed]",
      "text/plain": [
       "<Figure size 432x288 with 1 Axes>"
      ]
     },
     "metadata": {
      "needs_background": "light"
     },
     "output_type": "display_data"
    }
   ],
   "source": [
    "import matplotlib.pyplot as plt\n",
    "%matplotlib inline\n",
    "\n",
    "rice = 1\n",
    "rice_count_list = [1]\n",
    "rice_accumulation_list = [1]\n",
    "for i in range(100):\n",
    "    rice *= 2\n",
    "    rice_count_list.append(rice)\n",
    "    rice_accumulation = sum(rice_count_list)\n",
    "    rice_accumulation_list.append(rice_accumulation)\n",
    "\n",
    "plt.title(\"rice_graph\")\n",
    "plt.xlabel(\"day\")\n",
    "plt.ylabel(\"rice_quantity\")\n",
    "plt.plot(rice_count_list, label='rice_count')\n",
    "plt.plot(rice_accumulation_list, label='rice_accumulation')\n",
    "plt.legend()\n",
    "plt.show()"
   ]
  },
  {
   "cell_type": "markdown",
   "metadata": {},
   "source": [
    "### 【問題2】100日目以外の米粒の数\n",
    "この逸話は30日だったり81日だったりと日数が曖昧です。どの話にも対応できるように日数を引数とした 関数 を作成しましょう。関数を作成した上で、コースを受講する日数の間でいくつ米粒をもらえるかを答えてください。前の問題同様に折れ線グラフも出力してください。"
   ]
  },
  {
   "cell_type": "code",
   "execution_count": 2,
   "metadata": {},
   "outputs": [],
   "source": [
    "def compute_sorori_shinzaemon(day=100):\n",
    "    \"\"\"\n",
    "    曽呂利新左衛門の米の逸話を検証する関数。日にちごとの米の粒の数を計算する。\n",
    "\n",
    "    Parameteres\n",
    "    --------------\n",
    "    day: int\n",
    "        米を貰う日数 (default : 100)\n",
    "\n",
    "    Returns\n",
    "    --------------\n",
    "    list_n_grains : list\n",
    "        ある日に貰う米の数のリスト（リストの長さはdayに等しくなる）\n",
    "    list_total_grains : list\n",
    "        ある日までに累計で貰う米の数のリスト（リストの長さはdayに等しくなる）\n",
    "    \"\"\"\n",
    "    list_n_grains = [1]\n",
    "    list_total_grains = [1]\n",
    "    rice = 1\n",
    "    for i in range(day):\n",
    "        rice *= 2\n",
    "        list_n_grains.append(rice)\n",
    "        sum_grains = sum(list_n_grains)\n",
    "        list_total_grains.append(sum_grains)\n",
    "    \n",
    "    return list_n_grains, list_total_grains\n",
    "list_n_grains, list_total_grains = compute_sorori_shinzaemon(day=10)"
   ]
  },
  {
   "cell_type": "code",
   "execution_count": 3,
   "metadata": {},
   "outputs": [
    {
     "name": "stdout",
     "output_type": "stream",
     "text": [
      "合計の米粒：2658455991569831745807614120560689151\n"
     ]
    }
   ],
   "source": [
    "##コース受講は120日\n",
    "list_n_grains, list_total_grains = compute_sorori_shinzaemon(day=120)\n",
    "print(\"合計の米粒：{}\".format(list_total_grains[-1]))"
   ]
  },
  {
   "cell_type": "code",
   "execution_count": 4,
   "metadata": {},
   "outputs": [
    {
     "data": {
      "image/png": "[encoded data removed]",
      "text/plain": [
       "<Figure size 432x288 with 1 Axes>"
      ]
     },
     "metadata": {
      "needs_background": "light"
     },
     "output_type": "display_data"
    }
   ],
   "source": [
    "plt.title(\"rice_graph\")\n",
    "plt.xlabel(\"day\")\n",
    "plt.ylabel(\"rice_quantity\")\n",
    "plt.plot(list_n_grains, label='rice_count')\n",
    "plt.plot(list_total_grains, label='rice_accumulation')\n",
    "plt.legend()\n",
    "plt.show()"
   ]
  },
  {
   "cell_type": "markdown",
   "metadata": {},
   "source": [
    "### 【問題3】何人が何日生活できる米か\n",
    "この米があれば何人が何日生活できるか計算する関数を作成してください。コースを受講する期間に貰える米粒で、このクラスにいる人数であれば、何日間生活できるかを出力してみましょう。\n",
    "\n",
    "関数の最低限の入力は 米粒の数(int) と 人数(int) 、出力は 生活できる日数(int) です。関数名やコメントなどは分かりやすく考えて作成してください。"
   ]
  },
  {
   "cell_type": "code",
   "execution_count": 8,
   "metadata": {},
   "outputs": [
    {
     "data": {
      "text/plain": [
       "4"
      ]
     },
     "execution_count": 8,
     "metadata": {},
     "output_type": "execute_result"
    }
   ],
   "source": [
    "# 人数13人、一食分の米粒（茶碗1杯分）4000粒、一人一日3食とする。\n",
    "a = 9//2\n",
    "a"
   ]
  },
  {
   "cell_type": "code",
   "execution_count": 15,
   "metadata": {},
   "outputs": [],
   "source": [
    "def compute_sorori_shinzaemon1(chawan,ninzu):\n",
    "    ichinichi = chawan*ninzu*3\n",
    "    list_n_grains, list_total_grains = compute_sorori_shinzaemon(120)\n",
    "    nissu = list_total_grains[-1]//ichinichi\n",
    "    return nissu"
   ]
  },
  {
   "cell_type": "code",
   "execution_count": 18,
   "metadata": {},
   "outputs": [
    {
     "name": "stdout",
     "output_type": "stream",
     "text": [
      "生活できる日数:1.7e+31日\n"
     ]
    }
   ],
   "source": [
    "nissu = compute_sorori_shinzaemon1(chawan=4000,ninzu=13)\n",
    "print(\"生活できる日数:{:.1e}日\".format(nissu))"
   ]
  }
 ],
 "metadata": {
  "kernelspec": {
   "display_name": "Python 3",
   "language": "python",
   "name": "python3"
  },
  "language_info": {
   "codemirror_mode": {
    "name": "ipython",
    "version": 3
   },
   "file_extension": ".py",
   "mimetype": "text/x-python",
   "name": "python",
   "nbconvert_exporter": "python",
   "pygments_lexer": "ipython3",
   "version": "3.7.4"
  }
 },
 "nbformat": 4,
 "nbformat_minor": 2
}
