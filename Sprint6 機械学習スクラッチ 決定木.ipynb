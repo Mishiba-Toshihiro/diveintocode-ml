{
 "cells": [
  {
   "cell_type": "markdown",
   "metadata": {},
   "source": [
    "### 決定木学習とは\n",
    "\n",
    "決定木学習は 決定木 と呼ばれる 木構造のグラフ を作る機械学習手法です。機械学習の分野では学習手法も単に「決定木」と呼ばれます。\n",
    "\n",
    "\n",
    "分類にも回帰にも使え、分類の場合3クラス以上の多値分類が可能です。ここでは基本となる分類のみを扱います。\n",
    "\n",
    "\n",
    "決定木とは\n",
    "決定木は、属性 と 値 の組｛属性1：値1，属性2：値2, 属性3：値3,…，属性n：値n｝によって表現されたデータを、条件分岐を繰り返すことであるクラスに割り当てることができる木構造のグラフです。\n",
    "\n",
    "\n",
    "以下の例は会場の気温という属性の値によって、開催と中止のクラスに割り当てるグラフです。「会場の気温という属性の値は35以上かどうか」という条件分岐1回による決定木による分類が行えます。例えば36度がこの決定木にインプットされれば、中止というアウトプット（判断）ができます。\n",
    "\n",
    "#### どう決定木を作るか\n",
    "決定木の学習には様々なやり方が存在しますが、その中のある方法についてスクラッチを行いながら見ていきます。\n",
    "\n",
    "\n",
    "学習方法やハイパーパラメータ、訓練データ次第で作られる決定木は異なってきます。\n",
    "\n",
    "#### 決定木スクラッチ\n",
    "\n",
    "分類のための決定木のクラスをスクラッチで作成していきます。NumPyなど最低限のライブラリのみを使いアルゴリズムを実装していきます。\n",
    "\n",
    "\n",
    "決定木の学習には何回まで条件分岐を繰り返すかを表す （最大の）深さ というハイパーパラメータが登場しますが、深さ1の実装を必須課題とします。深さが2以上のものはアドバンス課題とします。\n",
    "\n",
    "\n",
    "学習の仕方には様々な方法がありますが、ここではscikit-learnでも使用されている CART法 をベースとした実装を行います。この方法では学習の複雑さを減らすために、 分岐は2つに分かれるのみ になります。\n",
    "\n",
    "\n",
    "以下に雛形を用意してあります。このScratchDecesionTreeClassifierDepth1クラスにコードを書き加えていってください。"
   ]
  },
  {
   "cell_type": "code",
   "execution_count": 68,
   "metadata": {},
   "outputs": [],
   "source": [
    "import numpy as np\n",
    "import pandas as pd\n",
    "import matplotlib.pyplot as plt\n",
    "%matplotlib inline\n",
    "from sklearn.model_selection import train_test_split\n",
    "from sklearn.preprocessing import StandardScaler\n",
    "import math\n",
    "from sklearn.metrics import accuracy_score\n",
    "from sklearn.metrics import precision_score\n",
    "from sklearn.metrics import recall_score\n",
    "from sklearn.metrics import f1_score\n",
    "from sklearn.metrics import confusion_matrix\n",
    "import statistics\n",
    "from scipy import stats\n",
    "import collections"
   ]
  },
  {
   "cell_type": "code",
   "execution_count": 69,
   "metadata": {},
   "outputs": [],
   "source": [
    "class ScratchDecesionTreeClassifierDepth1():\n",
    "    \"\"\"\n",
    "    深さ1の決定木分類器のスクラッチ実装\n",
    "\n",
    "    Parameters\n",
    "    ----------\n",
    "    verbose : bool\n",
    "      学習過程を出力する場合はTrue\n",
    "    \"\"\"\n",
    "    def __init__(self, verbose=False):\n",
    "        # ハイパーパラメータを属性として記録\n",
    "        self.verbose = verbose\n",
    "        \n",
    "        \n",
    "    def fit(self, X, y):\n",
    "        \"\"\"\n",
    "        決定木分類器を学習する\n",
    "        Parameters\n",
    "        ----------\n",
    "        X : 次の形のndarray, shape (n_samples, n_features)\n",
    "            訓練データの特徴量\n",
    "        y : 次の形のndarray, shape (n_samples, )\n",
    "            訓練データの正解値\n",
    "        \"\"\"\n",
    "        y_ = y.reshape(-1,1)\n",
    "        X = np.hstack([X,y_])\n",
    "       \n",
    "        ritoku_matrix = np.zeros((X.shape[0],X.shape[1]-1))\n",
    "        for k in range(X.shape[1]-1):\n",
    "            for i in range(X.shape[0]):\n",
    "                #if X[i][k]==np.unique(X[:,k])[0] or X[i][k]==np.unique(X[:,k])[1] or X[i][k]==np.unique(X[:,k])[-1]:\n",
    "                    #continue\n",
    "                X_left = X[X[:,k] >= X[i][k]]    # 閾値以上のデータは左ノードにする\n",
    "                X_right = X[X[:,k] < X[i][k]]    # 閾値未満のノードは右ノードにする\n",
    "                ritoku_matrix[i][k] = self.information_ritoku(X,X_left,X_right)  #各特徴量でのデータ分の閾値を変えて、利得を算出。ritoku_matrixに格納する。\n",
    "        \n",
    "        max_ritoku = np.max(ritoku_matrix)  # 情報利得の最大値を取得\n",
    "        self.best_data_index = np.unravel_index(np.argmax(ritoku_matrix),ritoku_matrix.shape)[0]     # 情報利得の最大値となるindexを取得\n",
    "        self.best_feature_column = np.unravel_index(np.argmax(ritoku_matrix),ritoku_matrix.shape)[1] # 情報利得の最大値となるcolumnを取得\n",
    "        self.best_value = X[self.best_data_index][self.best_feature_column]                          # 情報利得の最大となる閾値\n",
    "        \n",
    "        X_left = np.where(X[:,self.best_feature_column] >= self.best_value)   #左ノードのデータのインデックス取得\n",
    "        self.X_left_lavel = statistics.mode(y[X_left])     #左ノードのデータのラベルの最頻値を取得\n",
    "        X_right = np.where(X[:,self.best_feature_column] < self.best_value)    #右ノードのデータを取得\n",
    "        self.X_right_lavel = statistics.mode(y[X_right])         #右ノードのデータのラベルの最頻値を取得\n",
    "        \n",
    "        \n",
    "        if self.verbose: #verboseをTrueにした際は学習過程を出力\n",
    "            print(\"最大情報利得：{}\".format(max_ritoku))\n",
    "            print(\"最大情報利得を与える条件：特徴量の列数{}, その特徴量の閾値{}\".format(self.best_feature_column,self.best_value))\n",
    "            print(\"左ノードの推定ラベル：{}\".format(self.X_left_lavel))\n",
    "            print(\"右ノードの推定ラベル：{}\".format(self.X_right_lavel))\n",
    "            \n",
    "    \n",
    "    def gini_impurity(self,X):\n",
    "        \n",
    "        N_t_all = len(X)\n",
    "        K = np.unique(X[:,-1]).size\n",
    "        N_t = np.zeros(K)\n",
    "        sigma = 0\n",
    "        for i in range(K):\n",
    "            N_t[i] = len(X[X[:,-1]==i])\n",
    "            sigma += (N_t[i] / N_t_all)**2\n",
    "        I = 1 - sigma\n",
    "        \n",
    "        return I\n",
    "    \n",
    "    \n",
    "    def information_ritoku(self,X,X_left,X_right):\n",
    "        p_gini = self.gini_impurity(X) \n",
    "        left_gini = self.gini_impurity(X_left)\n",
    "        right_gini = self.gini_impurity(X_right)\n",
    "        \n",
    "        return p_gini - (len(X_left)/len(X)*left_gini + len(X_right)/len(X)*right_gini)\n",
    "    \n",
    "    \n",
    "    def predict(self, X):\n",
    "        \"\"\"\n",
    "        決定木分類器を使いラベルを推定する\n",
    "        \"\"\"\n",
    "        pred = np.zeros(len(X))        \n",
    "        \n",
    "        X_left = np.where(X[:,self.best_feature_column] >= self.best_value)   #左ノードの条件に該当するインデックスを取得\n",
    "        pred[X_left] = self.X_left_lavel    #左ノードに該当するy_predのインデックスに推定ラベルを代入\n",
    "        X_right = np.where(X[:,self.best_feature_column] < self.best_value)  #右ノードの条件に該当するインデックスを取得\n",
    "        pred[X_right] = self.X_right_lavel  #右ノードに該当するy_predのインデックスに推定ラベルを代入\n",
    "        \n",
    "        return pred"
   ]
  },
  {
   "cell_type": "markdown",
   "metadata": {},
   "source": [
    "### 【問題1】不純度を求める関数\n",
    "ノード の ジニ不純度 を計算する関数を作成してください。ノード $t$ に対するジニ不純度 $I(t)$ は以下の数式で求まります。クラスが混じり合っているほどジニ不純度は高くなります。"
   ]
  },
  {
   "cell_type": "markdown",
   "metadata": {},
   "source": [
    "```python\n",
    "def gini_impurity(self,X):\n",
    "        \n",
    "        N_t_all = len(X)\n",
    "        K = np.unique(X[:,-1]).size\n",
    "        N_t = np.zeros(K)\n",
    "        sigma = 0\n",
    "        for i in range(K):\n",
    "            N_t[i] = len(X[X[:,-1]==i])\n",
    "            sigma += (N_t[i] / N_t_all)**2\n",
    "        I = 1 - sigma\n",
    "        \n",
    "        return I\n",
    "```"
   ]
  },
  {
   "cell_type": "markdown",
   "metadata": {},
   "source": [
    "### 【問題2】情報利得を求める関数\n",
    "次に、ノード間の 情報利得 を計算する関数を作成してください。問題1で作成したジニ不純度 $I(t)$ を計算する関数を呼び出して使います。情報利得$IG$は以下の数式で求まります。うまく分けられている時ほど情報利得は大きくなります。\n",
    "\n",
    "ここで分岐は2つのみであるため、分岐先を「左側のノード・右側のノード」と呼びます。"
   ]
  },
  {
   "cell_type": "markdown",
   "metadata": {},
   "source": [
    "```python\n",
    "def gini_impurity(self,X):\n",
    "        \n",
    "        N_t_all = len(X)\n",
    "        K = np.unique(X[:,-1]).size\n",
    "        N_t = np.zeros(K)\n",
    "        sigma = 0\n",
    "        for i in range(K):\n",
    "            N_t[i] = len(X[X[:,-1]==i])\n",
    "            sigma += (N_t[i] / N_t_all)**2\n",
    "        I = 1 - sigma\n",
    "        \n",
    "        return I\n",
    "    \n",
    "\n",
    "def information_ritoku(self,X,X_left,X_right):\n",
    "        p_gini = self.gini_impurity(X) \n",
    "        left_gini = self.gini_impurity(X_left)\n",
    "        right_gini = self.gini_impurity(X_right)\n",
    "        \n",
    "        return p_gini - (len(X_left)/len(X)*left_gini + len(X_right)/len(X)*right_gini)\n",
    "```"
   ]
  },
  {
   "cell_type": "markdown",
   "metadata": {},
   "source": [
    "### 【問題3】学習\n",
    "空間の分割を行い、決定木のグラフを生成するコードを作成してください。今は深さ1の決定木なので、分割を1回だけ行います。ここでグラフを生成するとは、1回の分割の際の条件としてどの特徴量がいくつ以上の時とするかを求めるということです。\n",
    "\n",
    "\n",
    "訓練データに対して全ての組み合わせの分割を行い、その中でノード間の情報利得が最大となる分割をそのノードの分割基準として記録します。\n",
    "\n",
    "\n",
    "クラスが混ざらない不純度が0のノード、または指定された深さのノードが 葉ノード となります。葉ノードにはクラスを記録しておき、これを推定時に分類するクラスとします。クラスが混ざらない場合はそのままのクラスを記録し、混ざっている場合は多数決により決めます。\n",
    "\n",
    "《組み合わせの取り方》\n",
    "\n",
    "\n",
    "全ての組み合わせの取り方は、最も単純には各特徴量の値自体をしきい値にして分割を行う方法があります。片側の端は今回のスクラッチはこの方法で行なってください。\n",
    "\n",
    "\n",
    "他には中間の値をしきい値にする方法もあり、scikit-learnではこの方法が用いられています。\n",
    "\n",
    "《補足》\n",
    "\n",
    "問題2の情報利得を計算する関数はこの問題3で利用する上では、親ノードの不純度 $I(p)$ は固定されるため、左右のノードの不純度の合計を計算するだけでも同じ結果が得られることになります。しかし、ここでは親ノードを考慮した情報利得を計算する実装を行なってください。"
   ]
  },
  {
   "cell_type": "markdown",
   "metadata": {},
   "source": [
    "```python\n",
    "def fit(self, X, y):\n",
    "        \"\"\"\n",
    "        決定木分類器を学習する\n",
    "        Parameters\n",
    "        ----------\n",
    "        X : 次の形のndarray, shape (n_samples, n_features)\n",
    "            訓練データの特徴量\n",
    "        y : 次の形のndarray, shape (n_samples, )\n",
    "            訓練データの正解値\n",
    "        \"\"\"\n",
    "        y_ = y.reshape(-1,1)\n",
    "        X = np.hstack([X,y_])\n",
    "       \n",
    "        ritoku_matrix = np.zeros((X.shape[0],X.shape[1]-1))\n",
    "        for k in range(X.shape[1]-1):\n",
    "            for i in range(X.shape[0]):\n",
    "                #if X[i][k]==np.unique(X[:,k])[0] or X[i][k]==np.unique(X[:,k])[1] or X[i][k]==np.unique(X[:,k])[-1]:\n",
    "                    #continue\n",
    "                X_left = X[X[:,k] >= X[i][k]]    # 閾値以上のデータは左ノードにする\n",
    "                X_right = X[X[:,k] < X[i][k]]    # 閾値未満のノードは右ノードにする\n",
    "                ritoku_matrix[i][k] = self.information_ritoku(X,X_left,X_right)  #各特徴量でのデータ分の閾値を変えて、利得を算出。ritoku_matrixに格納する。\n",
    "        \n",
    "        max_ritoku = np.max(ritoku_matrix)  # 情報利得の最大値を取得\n",
    "        self.best_data_index = np.unravel_index(np.argmax(ritoku_matrix),ritoku_matrix.shape)[0]     # 情報利得の最大値となるindexを取得\n",
    "        self.best_feature_column = np.unravel_index(np.argmax(ritoku_matrix),ritoku_matrix.shape)[1] # 情報利得の最大値となるcolumnを取得\n",
    "        self.best_value = X[self.best_data_index][self.best_feature_column]                          # 情報利得の最大となる閾値\n",
    "        \n",
    "        X_left = np.where(X[:,self.best_feature_column] >= self.best_value)   #左ノードのデータのインデックス取得\n",
    "        self.X_left_lavel = statistics.mode(y[X_left])     #左ノードのデータのラベルの最頻値を取得\n",
    "        X_right = np.where(X[:,self.best_feature_column] < self.best_value)    #右ノードのデータを取得\n",
    "        self.X_right_lavel = statistics.mode(y[X_right])         #右ノードのデータのラベルの最頻値を取得\n",
    "        \n",
    "        \n",
    "        if self.verbose: #verboseをTrueにした際は学習過程を出力\n",
    "            print(\"最大情報利得：{}\".format(max_ritoku))\n",
    "            print(\"最大情報利得を与える条件：特徴量の列数{}, その特徴量の閾値{}\".format(self.best_feature_column,self.best_value))\n",
    "            print(\"左ノードの推定ラベル：{}\".format(self.X_left_lavel))\n",
    "            print(\"右ノードの推定ラベル：{}\".format(self.X_right_lavel))\n",
    "```"
   ]
  },
  {
   "cell_type": "markdown",
   "metadata": {},
   "source": [
    "### 【問題4】推定\n",
    "推定する仕組みを実装してください。ScratchDecesionTreeClassifierDepth1クラスの雛形に含まれるpredictメソッドに書き加えてください。\n",
    "\n",
    "\n",
    "入力されたデータの値を学習した条件で判定していき、どの葉ノードに到達するかを見ます。葉ノードにはクラスが記録されているので、これが推定値となります。"
   ]
  },
  {
   "cell_type": "markdown",
   "metadata": {},
   "source": [
    "```python\n",
    "def predict(self, X):\n",
    "        \"\"\"\n",
    "        決定木分類器を使いラベルを推定する\n",
    "        \"\"\"\n",
    "        pred = np.zeros(len(X))        \n",
    "        \n",
    "        X_left = np.where(X[:,self.best_feature_column] >= self.best_value)   #左ノードの条件に該当するインデックスを取得\n",
    "        pred[X_left] = self.X_left_lavel    #左ノードに該当するy_predのインデックスに推定ラベルを代入\n",
    "        X_right = np.where(X[:,self.best_feature_column] < self.best_value)  #右ノードの条件に該当するインデックスを取得\n",
    "        pred[X_right] = self.X_right_lavel  #右ノードに該当するy_predのインデックスに推定ラベルを代入\n",
    "        \n",
    "        return pred\n",
    "```"
   ]
  },
  {
   "cell_type": "markdown",
   "metadata": {},
   "source": [
    "### 【問題5】学習と推定\n",
    "機械学習スクラッチ入門のSprintで用意したシンプルデータセット2の2値分類に対してスクラッチ実装の学習と推定を行なってください。\n",
    "\n",
    "\n",
    "scikit-learnによる実装と比べ、正しく動いているかを確認してください。\n",
    "\n",
    "\n",
    "AccuracyやPrecision、Recallなどの指標値はscikit-learnを使用してください。"
   ]
  },
  {
   "cell_type": "code",
   "execution_count": 70,
   "metadata": {},
   "outputs": [],
   "source": [
    "# シンプルデータセット2\n",
    "\n",
    "X = np.array([[-0.44699 , -2.8073  ],[-1.4621  , -2.4586  ],\n",
    "       [ 0.10645 ,  1.9242  ],[-3.5944  , -4.0112  ],\n",
    "       [-0.9888  ,  4.5718  ],[-3.1625  , -3.9606  ],\n",
    "       [ 0.56421 ,  0.72888 ],[-0.60216 ,  8.4636  ],\n",
    "       [-0.61251 , -0.75345 ],[-0.73535 , -2.2718  ],\n",
    "       [-0.80647 , -2.2135  ],[ 0.86291 ,  2.3946  ],\n",
    "       [-3.1108  ,  0.15394 ],[-2.9362  ,  2.5462  ],\n",
    "       [-0.57242 , -2.9915  ],[ 1.4771  ,  3.4896  ],\n",
    "       [ 0.58619 ,  0.37158 ],[ 0.6017  ,  4.3439  ],\n",
    "       [-2.1086  ,  8.3428  ],[-4.1013  , -4.353   ],\n",
    "       [-1.9948  , -1.3927  ],[ 0.35084 , -0.031994],\n",
    "       [ 0.96765 ,  7.8929  ],[-1.281   , 15.6824  ],\n",
    "       [ 0.96765 , 10.083   ],[ 1.3763  ,  1.3347  ],\n",
    "       [-2.234   , -2.5323  ],[-2.9452  , -1.8219  ],\n",
    "       [ 0.14654 , -0.28733 ],[ 0.5461  ,  5.8245  ],\n",
    "       [-0.65259 ,  9.3444  ],[ 0.59912 ,  5.3524  ],\n",
    "       [ 0.50214 , -0.31818 ],[-3.0603  , -3.6461  ],\n",
    "       [-6.6797  ,  0.67661 ],[-2.353   , -0.72261 ],\n",
    "       [ 1.1319  ,  2.4023  ],[-0.12243 ,  9.0162  ],\n",
    "       [-2.5677  , 13.1779  ],[ 0.057313,  5.4681  ]])\n",
    "y = np.array([0, 0, 0, 0, 0, 0, 0, 0, 0, 0, 0, 0, 0, 0, 0, 0, 0, 0, 0, 0, 1, 1,\n",
    "       1, 1, 1, 1, 1, 1, 1, 1, 1, 1, 1, 1, 1, 1, 1, 1, 1, 1])\n",
    "\n",
    "X_train, X_test, y_train, y_test = train_test_split(X, y, random_state=10)"
   ]
  },
  {
   "cell_type": "code",
   "execution_count": 71,
   "metadata": {},
   "outputs": [],
   "source": [
    "# シンプルデータセット1\n",
    "import numpy as np\n",
    "np.random.seed(seed=0)\n",
    "n_samples = 500\n",
    "f0 = [-1, 2]\n",
    "f1 = [2, -1]\n",
    "cov = [[1.0,0.8], [0.8, 1.0]]\n",
    "f0 = np.random.multivariate_normal(f0, cov, int(n_samples/2))\n",
    "f1 = np.random.multivariate_normal(f1, cov, int(n_samples/2))\n",
    "X = np.concatenate((f0, f1))\n",
    "y = np.concatenate((np.ones((int(n_samples/2))), np.zeros((int(n_samples/2))))).astype(np.int)\n",
    "random_index = np.random.permutation(np.arange(n_samples))\n",
    "X = X[random_index]\n",
    "y = y[random_index]\n",
    "\n",
    "X_train, X_test, y_train, y_test = train_test_split(X, y, random_state=1)\n"
   ]
  },
  {
   "cell_type": "code",
   "execution_count": 72,
   "metadata": {},
   "outputs": [
    {
     "name": "stdout",
     "output_type": "stream",
     "text": [
      "最大情報利得：0.4232671803278688\n",
      "最大情報利得を与える条件：特徴量の列数0, その特徴量の閾値0.6683196434757619\n",
      "左ノードの推定ラベル：0\n",
      "右ノードの推定ラベル：1\n"
     ]
    }
   ],
   "source": [
    "Scrach_model = ScratchDecesionTreeClassifierDepth1(verbose=True)\n",
    "Scrach_model.fit(X_train,y_train)"
   ]
  },
  {
   "cell_type": "code",
   "execution_count": 73,
   "metadata": {},
   "outputs": [
    {
     "name": "stdout",
     "output_type": "stream",
     "text": [
      "accuracy_score:0.936\n",
      "precision_score:0.9206349206349206\n",
      "recall_score:0.9508196721311475\n",
      "f1_score:0.9354838709677418\n",
      "confusion_matrix:\n",
      "[[59  5]\n",
      " [ 3 58]]\n"
     ]
    }
   ],
   "source": [
    "y_pred = Scrach_model.predict(X_test)\n",
    "print(\"accuracy_score:{}\".format(accuracy_score(y_test,y_pred)))\n",
    "print(\"precision_score:{}\".format(precision_score(y_test,y_pred)))\n",
    "print(\"recall_score:{}\".format(recall_score(y_test,y_pred)))\n",
    "print(\"f1_score:{}\".format(f1_score(y_test,y_pred)))\n",
    "print(\"confusion_matrix:\\n{}\".format(confusion_matrix(y_test,y_pred)))"
   ]
  },
  {
   "cell_type": "code",
   "execution_count": 74,
   "metadata": {},
   "outputs": [],
   "source": [
    "from sklearn.tree import DecisionTreeClassifier\n",
    "sklearn_model = DecisionTreeClassifier(max_depth=1)\n",
    "sklearn_model.fit(X_train,y_train)\n",
    "sklearn_y_pred = sklearn_model.predict(X_test)"
   ]
  },
  {
   "cell_type": "code",
   "execution_count": 75,
   "metadata": {},
   "outputs": [
    {
     "name": "stdout",
     "output_type": "stream",
     "text": [
      "accuracy_score:0.944\n",
      "precision_score:0.9354838709677419\n",
      "recall_score:0.9508196721311475\n",
      "f1_score:0.943089430894309\n",
      "confusion_matrix:\n",
      "[[60  4]\n",
      " [ 3 58]]\n"
     ]
    }
   ],
   "source": [
    "print(\"accuracy_score:{}\".format(accuracy_score(y_test,sklearn_y_pred)))\n",
    "print(\"precision_score:{}\".format(precision_score(y_test,sklearn_y_pred)))\n",
    "print(\"recall_score:{}\".format(recall_score(y_test,sklearn_y_pred)))\n",
    "print(\"f1_score:{}\".format(f1_score(y_test,sklearn_y_pred)))\n",
    "print(\"confusion_matrix:\\n{}\".format(confusion_matrix(y_test,sklearn_y_pred)))"
   ]
  },
  {
   "cell_type": "markdown",
   "metadata": {},
   "source": [
    "### 【問題6】決定領域の可視化\n",
    "決定領域を可視化してください。"
   ]
  },
  {
   "cell_type": "code",
   "execution_count": 76,
   "metadata": {},
   "outputs": [],
   "source": [
    "from matplotlib.colors import ListedColormap\n",
    "import matplotlib.patches as mpatches\n",
    "\n",
    "def decision_region(X, y, model, step=0.01, title='decision region', xlabel='xlabel', ylabel='ylabel', target_names=['versicolor', 'virginica']):\n",
    "    \"\"\"\n",
    "    2値分類を2次元の特徴量で学習したモデルの決定領域を描く。\n",
    "    背景の色が学習したモデルによる推定値から描画される。\n",
    "    散布図の点は訓練データまたは検証データである。\n",
    "\n",
    "    Parameters\n",
    "    ----------------\n",
    "    X : ndarray, shape(n_samples, 2)\n",
    "        特徴量\n",
    "    y : ndarray, shape(n_samples,)\n",
    "        ラベル\n",
    "    model : object\n",
    "        学習したモデルのインスンタスを入れる\n",
    "    step : float, (default : 0.1)\n",
    "        推定値を計算する間隔を設定する\n",
    "    title : str\n",
    "        グラフのタイトルの文章を与える\n",
    "    xlabel, ylabel : str\n",
    "        軸ラベルの文章を与える\n",
    "    target_names= : list of str\n",
    "        凡例の一覧を与える\n",
    "    \"\"\"\n",
    "    # setting\n",
    "    scatter_color = ['red', 'blue']\n",
    "    contourf_color = ['pink', 'skyblue']\n",
    "    n_class = 2\n",
    "\n",
    "    # pred\n",
    "    mesh_f0, mesh_f1  = np.meshgrid(np.arange(np.min(X[:,0])-0.5, np.max(X[:,0])+0.5, step), np.arange(np.min(X[:,1])-0.5, np.max(X[:,1])+0.5, step))\n",
    "    mesh = np.c_[np.ravel(mesh_f0),np.ravel(mesh_f1)]\n",
    "    y_pred = model.predict(mesh).reshape(mesh_f0.shape)\n",
    "\n",
    "    # plot\n",
    "    plt.title(title)\n",
    "    plt.xlabel(xlabel)\n",
    "    plt.ylabel(ylabel)\n",
    "    plt.contourf(mesh_f0, mesh_f1, y_pred, n_class-1, cmap=ListedColormap(contourf_color))\n",
    "    plt.contour(mesh_f0, mesh_f1, y_pred, n_class-1, colors='y', linewidths=3, alpha=0.5)\n",
    "    for i, target in enumerate(set(y)):\n",
    "        plt.scatter(X[y==target][:, 0], X[y==target][:, 1], s=80, color=scatter_color[i], label=target_names[i], marker='o')\n",
    "    patches = [mpatches.Patch(color=scatter_color[i], label=target_names[i]) for i in range(n_class)]\n",
    "    plt.legend(handles=patches)\n",
    "    plt.legend()\n",
    "    plt.show()"
   ]
  },
  {
   "cell_type": "code",
   "execution_count": 77,
   "metadata": {},
   "outputs": [
    {
     "name": "stdout",
     "output_type": "stream",
     "text": [
      "Train Data\n"
     ]
    },
    {
     "data": {
      "image/png": "[encoded data removed]",
      "text/plain": [
       "<Figure size 432x288 with 1 Axes>"
      ]
     },
     "metadata": {
      "needs_background": "light"
     },
     "output_type": "display_data"
    },
    {
     "data": {
      "image/png": "[encoded data removed]",
      "text/plain": [
       "<Figure size 432x288 with 1 Axes>"
      ]
     },
     "metadata": {
      "needs_background": "light"
     },
     "output_type": "display_data"
    },
    {
     "name": "stdout",
     "output_type": "stream",
     "text": [
      "------------------------------------------------\n",
      "Test Data\n"
     ]
    },
    {
     "data": {
      "image/png": "[encoded data removed]",
      "text/plain": [
       "<Figure size 432x288 with 1 Axes>"
      ]
     },
     "metadata": {
      "needs_background": "light"
     },
     "output_type": "display_data"
    },
    {
     "data": {
      "image/png": "[encoded data removed]",
      "text/plain": [
       "<Figure size 432x288 with 1 Axes>"
      ]
     },
     "metadata": {
      "needs_background": "light"
     },
     "output_type": "display_data"
    }
   ],
   "source": [
    "# 学習したそれぞれをtrain data及びtest dataで分けて比較\n",
    "print(\"Train Data\")\n",
    "decision_region(X_train, y_train, Scrach_model, step=0.01, title='Scrach Dicision_tree', xlabel='setal length', ylabel='setal width', target_names=['0', '1'])\n",
    "decision_region(X_train, y_train, sklearn_model, step=0.01, title='Sklearn Dicision_tree', xlabel='setal length', ylabel='setal width', target_names=['0', '1'])\n",
    "print(\"------------------------------------------------\")\n",
    "print(\"Test Data\")\n",
    "decision_region(X_test, y_test, Scrach_model, step=0.01, title='Scrach Dicision_tree', xlabel='setal length', ylabel='setal width', target_names=['0', '1'])\n",
    "decision_region(X_test, y_test, sklearn_model, step=0.01, title='Sklearn Dicision_tree', xlabel='setal length', ylabel='setal width', target_names=['0', '1'])"
   ]
  },
  {
   "cell_type": "markdown",
   "metadata": {},
   "source": [
    "**グラフよりほぼ同等の分割ができている事が確認できた。**"
   ]
  },
  {
   "cell_type": "markdown",
   "metadata": {},
   "source": [
    "### 【問題7】（アドバンス課題）深さ2の決定木分類器クラスの作成\n",
    "深さが2の決定木分類器のクラスScratchDecesionTreeClassifierDepth2を作成してください。\n",
    "\n",
    "深さ2とは空間の分割を2回行うことを指します。\n",
    "\n",
    "《ヒント》\n",
    "各ノードをインスタンスとして扱うと、任意の深さへの拡張が行いやすくなります。"
   ]
  },
  {
   "cell_type": "code",
   "execution_count": 78,
   "metadata": {},
   "outputs": [],
   "source": [
    "def calc_impurity(data, labels):\n",
    "   feature_num = data.shape[1]\n",
    "   threshold = None\n",
    "   feature = None\n",
    "   impurity = 1\n",
    "   for index in range(feature_num):\n",
    "       for value in data[:, index]:\n",
    "           sum_impurity = 0\n",
    "           # ここではゲインを求める必要がないので不純度と重みの積の和まで求めます\n",
    "           condition = data[:, index] >= value\n",
    "           all_samples_num = len(labels)\n",
    "           for column in [condition, np.logical_not(condition)]:\n",
    "               I = 1\n",
    "               partial_samples = labels[column]\n",
    "               partial_samples_num = len(partial_samples)\n",
    "               w = partial_samples_num/all_samples_num\n",
    "               for _class in np.unique(partial_samples):\n",
    "                   p = np.sum(partial_samples==_class)/partial_samples_num\n",
    "                   I -= p**2\n",
    "               sum_impurity += w*I\n",
    "           # 最小の不純度となるものを記憶します\n",
    "           if impurity > sum_impurity:\n",
    "               impurity = sum_impurity\n",
    "               threshold = value\n",
    "               feature = index\n",
    "   return impurity, threshold, feature\n",
    "\n",
    "# 各ノードで計算は行われるのでノードをクラス化しました\n",
    "class Node():\n",
    "\n",
    "   def __init__(self, data, labels, max_depth):\n",
    "       self.data = data\n",
    "       self.labels = labels\n",
    "       self.max_depth = max_depth\n",
    "       self.children = []\n",
    "       self.threshold = None\n",
    "       self.feature = None\n",
    "       self.depth = None\n",
    "       self.impurity = None\n",
    "       self.label = np.argmax(np.bincount(labels))\n",
    "        \n",
    "        # CART アルゴリズムの実行部分です\n",
    "   def cart(self, depth=0):\n",
    "       self.depth = depth\n",
    "       self.impurity, self.threshold, self.feature = calc_impurity(self.data, self.labels)\n",
    "       if self.impurity == 0 or self.depth == self.max_depth:\n",
    "           return\n",
    "       condition = self.data[:, self.feature] >= self.threshold\n",
    "       for column in [condition, np.logical_not(condition)]:\n",
    "           next_node = Node(self.data[column],  self.labels[column], self.max_depth)\n",
    "           self.children.append(next_node)\n",
    "           next_node.cart(self.depth + 1)\n",
    "\n",
    "   # 予測します、自分が木の端点となるノードなら自分のクラス、子のノードがいるならそのノードの予測結果に委ねます\n",
    "   def predict(self, data):\n",
    "       if self.impurity == 0 or self.depth == self.max_depth:\n",
    "           return self.label\n",
    "       child_node_index = int(not data[self.feature] >= self.threshold)\n",
    "       next_node = self.children[child_node_index]\n",
    "       return next_node.predict(data)\n",
    "\n",
    "\n",
    "# 決定木クラスです\n",
    "class DecisionTree():\n",
    "\n",
    "   # インスタンスを作る際に「最大の深さ」を指定します\n",
    "   def __init__(self, max_depth):\n",
    "       self.max_depth = max_depth\n",
    "       self.tree = None\n",
    "\n",
    "   # fit(データ, ラベル)とすることでノードクラスを呼び出し、学習します\n",
    "   def fit(self, data, labels):\n",
    "       self.tree = Node(data, labels, self.max_depth)\n",
    "       self.tree.cart()\n",
    "\n",
    "   # predict(テストデータ)とすることで予測を行います\n",
    "   def predict(self, data):\n",
    "       return np.array([self.tree.predict(sample) for sample in data])\n"
   ]
  },
  {
   "cell_type": "code",
   "execution_count": 79,
   "metadata": {},
   "outputs": [],
   "source": [
    "# シンプルデータセット2\n",
    "\n",
    "X = np.array([[-0.44699 , -2.8073  ],[-1.4621  , -2.4586  ],\n",
    "       [ 0.10645 ,  1.9242  ],[-3.5944  , -4.0112  ],\n",
    "       [-0.9888  ,  4.5718  ],[-3.1625  , -3.9606  ],\n",
    "       [ 0.56421 ,  0.72888 ],[-0.60216 ,  8.4636  ],\n",
    "       [-0.61251 , -0.75345 ],[-0.73535 , -2.2718  ],\n",
    "       [-0.80647 , -2.2135  ],[ 0.86291 ,  2.3946  ],\n",
    "       [-3.1108  ,  0.15394 ],[-2.9362  ,  2.5462  ],\n",
    "       [-0.57242 , -2.9915  ],[ 1.4771  ,  3.4896  ],\n",
    "       [ 0.58619 ,  0.37158 ],[ 0.6017  ,  4.3439  ],\n",
    "       [-2.1086  ,  8.3428  ],[-4.1013  , -4.353   ],\n",
    "       [-1.9948  , -1.3927  ],[ 0.35084 , -0.031994],\n",
    "       [ 0.96765 ,  7.8929  ],[-1.281   , 15.6824  ],\n",
    "       [ 0.96765 , 10.083   ],[ 1.3763  ,  1.3347  ],\n",
    "       [-2.234   , -2.5323  ],[-2.9452  , -1.8219  ],\n",
    "       [ 0.14654 , -0.28733 ],[ 0.5461  ,  5.8245  ],\n",
    "       [-0.65259 ,  9.3444  ],[ 0.59912 ,  5.3524  ],\n",
    "       [ 0.50214 , -0.31818 ],[-3.0603  , -3.6461  ],\n",
    "       [-6.6797  ,  0.67661 ],[-2.353   , -0.72261 ],\n",
    "       [ 1.1319  ,  2.4023  ],[-0.12243 ,  9.0162  ],\n",
    "       [-2.5677  , 13.1779  ],[ 0.057313,  5.4681  ]])\n",
    "y = np.array([0, 0, 0, 0, 0, 0, 0, 0, 0, 0, 0, 0, 0, 0, 0, 0, 0, 0, 0, 0, 1, 1,\n",
    "       1, 1, 1, 1, 1, 1, 1, 1, 1, 1, 1, 1, 1, 1, 1, 1, 1, 1])\n",
    "\n",
    "X_train, X_test, y_train, y_test = train_test_split(X, y, random_state=10)"
   ]
  },
  {
   "cell_type": "code",
   "execution_count": 80,
   "metadata": {},
   "outputs": [],
   "source": [
    "Scrach_model_2 = DecisionTree(max_depth=2)\n",
    "Scrach_model_2.fit(X_train,y_train)"
   ]
  },
  {
   "cell_type": "code",
   "execution_count": 81,
   "metadata": {},
   "outputs": [
    {
     "name": "stdout",
     "output_type": "stream",
     "text": [
      "accuracy_score:0.6\n",
      "precision_score:0.6666666666666666\n",
      "recall_score:0.4\n",
      "f1_score:0.5\n",
      "confusion_matrix:\n",
      "[[4 1]\n",
      " [3 2]]\n"
     ]
    }
   ],
   "source": [
    "y_pred_2 = Scrach_model_2.predict(X_test)\n",
    "print(\"accuracy_score:{}\".format(accuracy_score(y_test,y_pred_2)))\n",
    "print(\"precision_score:{}\".format(precision_score(y_test,y_pred_2)))\n",
    "print(\"recall_score:{}\".format(recall_score(y_test,y_pred_2)))\n",
    "print(\"f1_score:{}\".format(f1_score(y_test,y_pred_2)))\n",
    "print(\"confusion_matrix:\\n{}\".format(confusion_matrix(y_test,y_pred_2)))"
   ]
  },
  {
   "cell_type": "code",
   "execution_count": 82,
   "metadata": {},
   "outputs": [
    {
     "name": "stdout",
     "output_type": "stream",
     "text": [
      "accuracy_score:0.7\n",
      "precision_score:0.75\n",
      "recall_score:0.6\n",
      "f1_score:0.6666666666666665\n",
      "confusion_matrix:\n",
      "[[4 1]\n",
      " [2 3]]\n"
     ]
    }
   ],
   "source": [
    "from sklearn.tree import DecisionTreeClassifier\n",
    "sklearn_model_2 = DecisionTreeClassifier(max_depth=2)\n",
    "sklearn_model_2.fit(X_train,y_train)\n",
    "sklearn_y_pred_2 = sklearn_model_2.predict(X_test)\n",
    "print(\"accuracy_score:{}\".format(accuracy_score(y_test,sklearn_y_pred_2)))\n",
    "print(\"precision_score:{}\".format(precision_score(y_test,sklearn_y_pred_2)))\n",
    "print(\"recall_score:{}\".format(recall_score(y_test,sklearn_y_pred_2)))\n",
    "print(\"f1_score:{}\".format(f1_score(y_test,sklearn_y_pred_2)))\n",
    "print(\"confusion_matrix:\\n{}\".format(confusion_matrix(y_test,sklearn_y_pred_2)))"
   ]
  },
  {
   "cell_type": "code",
   "execution_count": 83,
   "metadata": {},
   "outputs": [
    {
     "name": "stdout",
     "output_type": "stream",
     "text": [
      "Train Data\n"
     ]
    },
    {
     "data": {
      "image/png": "[encoded data removed]",
      "text/plain": [
       "<Figure size 432x288 with 1 Axes>"
      ]
     },
     "metadata": {
      "needs_background": "light"
     },
     "output_type": "display_data"
    },
    {
     "data": {
      "image/png": "[encoded data removed]",
      "text/plain": [
       "<Figure size 432x288 with 1 Axes>"
      ]
     },
     "metadata": {
      "needs_background": "light"
     },
     "output_type": "display_data"
    },
    {
     "name": "stdout",
     "output_type": "stream",
     "text": [
      "------------------------------------------------\n",
      "Test Data\n"
     ]
    },
    {
     "data": {
      "image/png": "[encoded data removed]",
      "text/plain": [
       "<Figure size 432x288 with 1 Axes>"
      ]
     },
     "metadata": {
      "needs_background": "light"
     },
     "output_type": "display_data"
    },
    {
     "data": {
      "image/png": "[encoded data removed]",
      "text/plain": [
       "<Figure size 432x288 with 1 Axes>"
      ]
     },
     "metadata": {
      "needs_background": "light"
     },
     "output_type": "display_data"
    }
   ],
   "source": [
    "# 学習したそれぞれをtrain data及びtest dataで分けて比較\n",
    "print(\"Train Data\")\n",
    "decision_region(X_train, y_train, Scrach_model_2, step=0.01, title='Scrach Dicision_tree', xlabel='setal length', ylabel='setal width', target_names=['0', '1'])\n",
    "decision_region(X_train, y_train, sklearn_model_2, step=0.01, title='Sklearn Dicision_tree', xlabel='setal length', ylabel='setal width', target_names=['0', '1'])\n",
    "print(\"------------------------------------------------\")\n",
    "print(\"Test Data\")\n",
    "decision_region(X_test, y_test, Scrach_model_2, step=0.01, title='Scrach Dicision_tree', xlabel='setal length', ylabel='setal width', target_names=['0', '1'])\n",
    "decision_region(X_test, y_test, sklearn_model_2, step=0.01, title='Sklearn Dicision_tree', xlabel='setal length', ylabel='setal width', target_names=['0', '1'])"
   ]
  },
  {
   "cell_type": "markdown",
   "metadata": {},
   "source": [
    "**深さ２の場合でスクラッチとsklearnでほぼ同等の評価ができている事がわかった。**"
   ]
  },
  {
   "cell_type": "markdown",
   "metadata": {},
   "source": [
    "### 【問題8】（アドバンス課題）深さに制限のない決定木分類器クラスの作成\n",
    "深さに制限のない決定木分類器のクラスScratchDecesionTreeClassifierDepthInfを作成してください。\n",
    "\n",
    "\n",
    "任意の深さを指定できるようにするとともに、指定しない場合は全ての葉ノードがジニ不純度0となるまで続けられるようにもしてください。\n",
    "\n",
    "目次\n",
    "Sprint 機械学習スクラッチ 決定木\n",
    "\n",
    "1.このSprintについて\n",
    "2.決定木学習とは\n",
    "3.決定木スクラッチ\n",
    "4.検証\n",
    "5.より深い決定木\n"
   ]
  },
  {
   "cell_type": "code",
   "execution_count": 84,
   "metadata": {},
   "outputs": [],
   "source": [
    "# 深さ３での確認\n",
    "Scrach_model_3 = DecisionTree(max_depth=3)\n",
    "Scrach_model_3.fit(X_train,y_train)"
   ]
  },
  {
   "cell_type": "code",
   "execution_count": 85,
   "metadata": {},
   "outputs": [
    {
     "name": "stdout",
     "output_type": "stream",
     "text": [
      "accuracy_score:0.6\n",
      "precision_score:0.5714285714285714\n",
      "recall_score:0.8\n",
      "f1_score:0.6666666666666666\n",
      "confusion_matrix:\n",
      "[[2 3]\n",
      " [1 4]]\n"
     ]
    }
   ],
   "source": [
    "# スクラッチでの評価\n",
    "y_pred_3 = Scrach_model_3.predict(X_test)\n",
    "print(\"accuracy_score:{}\".format(accuracy_score(y_test,y_pred_3)))\n",
    "print(\"precision_score:{}\".format(precision_score(y_test,y_pred_3)))\n",
    "print(\"recall_score:{}\".format(recall_score(y_test,y_pred_3)))\n",
    "print(\"f1_score:{}\".format(f1_score(y_test,y_pred_3)))\n",
    "print(\"confusion_matrix:\\n{}\".format(confusion_matrix(y_test,y_pred_3)))"
   ]
  },
  {
   "cell_type": "code",
   "execution_count": 86,
   "metadata": {},
   "outputs": [
    {
     "name": "stdout",
     "output_type": "stream",
     "text": [
      "accuracy_score:0.7\n",
      "precision_score:0.625\n",
      "recall_score:1.0\n",
      "f1_score:0.7692307692307693\n",
      "confusion_matrix:\n",
      "[[2 3]\n",
      " [0 5]]\n"
     ]
    }
   ],
   "source": [
    "# sklearnでの評価\n",
    "from sklearn.tree import DecisionTreeClassifier\n",
    "sklearn_model_3 = DecisionTreeClassifier(max_depth=3)\n",
    "sklearn_model_3.fit(X_train,y_train)\n",
    "sklearn_y_pred_3 = sklearn_model_3.predict(X_test)\n",
    "print(\"accuracy_score:{}\".format(accuracy_score(y_test,sklearn_y_pred_3)))\n",
    "print(\"precision_score:{}\".format(precision_score(y_test,sklearn_y_pred_3)))\n",
    "print(\"recall_score:{}\".format(recall_score(y_test,sklearn_y_pred_3)))\n",
    "print(\"f1_score:{}\".format(f1_score(y_test,sklearn_y_pred_3)))\n",
    "print(\"confusion_matrix:\\n{}\".format(confusion_matrix(y_test,sklearn_y_pred_3)))"
   ]
  },
  {
   "cell_type": "code",
   "execution_count": 87,
   "metadata": {},
   "outputs": [
    {
     "name": "stdout",
     "output_type": "stream",
     "text": [
      "Train Data\n"
     ]
    },
    {
     "data": {
      "image/png": "[encoded data removed]",
      "text/plain": [
       "<Figure size 432x288 with 1 Axes>"
      ]
     },
     "metadata": {
      "needs_background": "light"
     },
     "output_type": "display_data"
    },
    {
     "data": {
      "image/png": "[encoded data removed]",
      "text/plain": [
       "<Figure size 432x288 with 1 Axes>"
      ]
     },
     "metadata": {
      "needs_background": "light"
     },
     "output_type": "display_data"
    },
    {
     "name": "stdout",
     "output_type": "stream",
     "text": [
      "------------------------------------------------\n",
      "Test Data\n"
     ]
    },
    {
     "data": {
      "image/png": "[encoded data removed]",
      "text/plain": [
       "<Figure size 432x288 with 1 Axes>"
      ]
     },
     "metadata": {
      "needs_background": "light"
     },
     "output_type": "display_data"
    },
    {
     "data": {
      "image/png": "[encoded data removed]",
      "text/plain": [
       "<Figure size 432x288 with 1 Axes>"
      ]
     },
     "metadata": {
      "needs_background": "light"
     },
     "output_type": "display_data"
    }
   ],
   "source": [
    "# 学習したそれぞれをtrain data及びtest dataで分けて比較\n",
    "print(\"Train Data\")\n",
    "decision_region(X_train, y_train, Scrach_model_3, step=0.01, title='Scrach Dicision_tree', xlabel='setal length', ylabel='setal width', target_names=['0', '1'])\n",
    "decision_region(X_train, y_train, sklearn_model_3, step=0.01, title='Sklearn Dicision_tree', xlabel='setal length', ylabel='setal width', target_names=['0', '1'])\n",
    "print(\"------------------------------------------------\")\n",
    "print(\"Test Data\")\n",
    "decision_region(X_test, y_test, Scrach_model_3, step=0.01, title='Scrach Dicision_tree', xlabel='setal length', ylabel='setal width', target_names=['0', '1'])\n",
    "decision_region(X_test, y_test, sklearn_model_3, step=0.01, title='Sklearn Dicision_tree', xlabel='setal length', ylabel='setal width', target_names=['0', '1'])"
   ]
  },
  {
   "cell_type": "markdown",
   "metadata": {},
   "source": [
    "**深さ３でのスクラッチ評価もsklearnとほぼ同等の評価をできている事がわかった。**"
   ]
  },
  {
   "cell_type": "markdown",
   "metadata": {},
   "source": [
    "# 参考\n",
    "```python\n",
    "class ScratchDecesionTreeClassifierDepth2():\n",
    "    \"\"\"\n",
    "    深さ1の決定木分類器のスクラッチ実装\n",
    "\n",
    "    Parameters\n",
    "    ----------\n",
    "    verbose : bool\n",
    "      学習過程を出力する場合はTrue\n",
    "    \"\"\"\n",
    "    def __init__(self, max_depth, verbose=False):\n",
    "        # ハイパーパラメータを属性として記録\n",
    "        self.verbose = verbose\n",
    "        self.max_depth = max_depth\n",
    "        \n",
    "    def fit(self, X, y):\n",
    "        \"\"\"\n",
    "        決定木分類器を学習する\n",
    "        Parameters\n",
    "        ----------\n",
    "        X : 次の形のndarray, shape (n_samples, n_features)\n",
    "            訓練データの特徴量\n",
    "        y : 次の形のndarray, shape (n_samples, )\n",
    "            訓練データの正解値\n",
    "        \"\"\"\n",
    "        \n",
    "        \n",
    "        y_ = y.reshape(-1,1)\n",
    "        X = np.hstack([X,y_])\n",
    "        self.depth = 0\n",
    "        \n",
    "        node_1 = Node(depth=0)\n",
    "        self.node_1_feature_column, self.node_1_condition, self.node_2_lavel, self.node_3_lavel, node_2_X, node_3_X ,node_2_y, node_3_y = node_1.split(X,y)\n",
    "        \n",
    "        self.depth += 1\n",
    "        \n",
    "        if self.depth != self.max_depth:\n",
    "            if len(node_2_X)>2:\n",
    "                node_2 = Node(depth=1)\n",
    "                self.node_2_feature_column, self.node_2_condition, self.node_4_lavel, self.node_5_lavel , node_4_X, node_5_X, node_4_y, node_5_y= node_2.split(node_2_X, node_2_y)\n",
    "    \n",
    "            if len(node_3_X)>2:\n",
    "                node_3 = Node(depth=1)\n",
    "                self.node_3_feature_column, self.node_3_condition, self.node_6_lavel, self.node_7_lavel, node_6_X, node_7_X, node_6_y, node_7_y= node_3.split(node_3_X, node_3_y)\n",
    "        \n",
    "        self.depth += 1\n",
    "        \n",
    "    def predict(self, X):\n",
    "    \n",
    "        pred = np.zeros(len(X))        \n",
    "        \n",
    "        \n",
    "        node_4_index = np.where((X[:,self.node_2_feature_column] >= self.node_2_condition) & (X[:,self.node_1_feature_column] >= self.node_1_condition))   \n",
    "        pred[node_4_index] = self.node_4_lavel\n",
    "        \n",
    "        node_5_index = np.where((X[:,self.node_2_feature_column] < self.node_2_condition) & (X[:,self.node_1_feature_column] >= self.node_1_condition))   \n",
    "        pred[node_5_index] = self.node_5_lavel\n",
    "        \n",
    "        node_6_index = np.where((X[:,self.node_3_feature_column] >= self.node_3_condition) & (X[:,self.node_1_feature_column] < self.node_1_condition))  \n",
    "        pred[node_6_index] = self.node_6_lavel\n",
    "        \n",
    "        node_7_index = np.where((X[:,self.node_3_feature_column] < self.node_3_condition) & (X[:,self.node_1_feature_column] < self.node_1_condition))   \n",
    "        pred[node_7_index] = self.node_7_lavel\n",
    "        \n",
    "        return pred\n",
    "    \n",
    "    \n",
    "    \n",
    "class Node():\n",
    "    \"\"\"\n",
    "    深さ1の決定木分類器のスクラッチ実装\n",
    "\n",
    "    Parameters\n",
    "    ----------\n",
    "    verbose : bool\n",
    "      学習過程を出力する場合はTrue\n",
    "    \"\"\"\n",
    "    def __init__(self,depth):\n",
    "        # ハイパーパラメータを属性として記録\n",
    "        self.depth = depth\n",
    "        \n",
    "        \n",
    "    def split(self, X, y):\n",
    "        \"\"\"\n",
    "        決定木分類器を学習する\n",
    "        Parameters\n",
    "        ----------\n",
    "        X : 次の形のndarray, shape (n_samples, n_features)\n",
    "            訓練データの特徴量\n",
    "        y : 次の形のndarray, shape (n_samples, )\n",
    "            訓練データの正解値\n",
    "        \"\"\"\n",
    "        ritoku_matrix = np.zeros((X.shape[0],X.shape[1]-1))\n",
    "        for k in range(X.shape[1]-1):\n",
    "            for i in range(X.shape[0]):\n",
    "                if X[i][k]==np.unique(X[:,k])[0] or X[i][k]==np.unique(X[:,k])[1] or X[i][k]==np.unique(X[:,k])[-1]:\n",
    "                    continue\n",
    "                X_left = X[X[:,k] >= X[i][k]]    # 閾値以上のデータは左ノードにする\n",
    "                X_right = X[X[:,k] < X[i][k]]    # 閾値未満のノードは右ノードにする\n",
    "                ritoku_matrix[i][k] = self.information_ritoku(X,X_left,X_right)  #各特徴量でのデータ分の閾値を変えて、利得を算出。ritoku_matrixに格納する。\n",
    "        \n",
    "        \n",
    "        max_ritoku = np.max(ritoku_matrix)  # 情報利得の最大値を取得\n",
    "        self.best_data_index = np.unravel_index(np.argmax(ritoku_matrix),ritoku_matrix.shape)[0]     # 情報利得の最大値となるindexを取得\n",
    "        self.best_feature_column = np.unravel_index(np.argmax(ritoku_matrix),ritoku_matrix.shape)[1] # 情報利得の最大値となるcolumnを取得\n",
    "        self.best_value = X[self.best_data_index][self.best_feature_column]                          # 情報利得の最大となる閾値\n",
    "        \n",
    "        #X_left = X[X[:,self.best_feature_column] >= self.best_value] \n",
    "        self.X_left = np.where(X[:,self.best_feature_column] >= self.best_value)   #左ノードのデータのインデックス取得\n",
    "        self.y_left = y[self.X_left]\n",
    "        self.X_left_lavel = statistics.mode(self.y_left)      #左ノードのデータのラベルの最頻値を取得\n",
    "        self.X_left = X[X[:,k] >= self.best_value]                            #左ノードのデータを取得\n",
    "        \n",
    "        #X_right = X[X[:,self.best_feature_column] < self.best_value]\n",
    "        self.X_right = np.where(X[:,self.best_feature_column] < self.best_value)   #右ノードのデータを取得\n",
    "        self.y_right = y[self.X_right]\n",
    "        self.X_right_lavel = statistics.mode(self.y_right)             #右ノードのデータのラベルの最頻値を取得\n",
    "        self.X_right = X[X[:,k] < self.best_value]                            #右ノードのデータを取得\n",
    "        \n",
    "        #X_left = np.where(X[:,self.best_feature_column] >= self.best_value)   #左ノードのデータのインデックス取得\n",
    "        #self.X_left_lavel = statistics.mode(y[X_left])     #左ノードのデータのラベルの最頻値を取得\n",
    "        #X_right = np.where(X[:,self.best_feature_column] < self.best_value)    #右ノードのデータを取得\n",
    "        #self.X_right_lavel = statistics.mode(y[X_right])         #右ノードのデータのラベルの最頻値を取得\n",
    "        \n",
    "        return self.best_feature_column, self.best_value, self.X_left_lavel, self.X_right_lavel, self.X_left, self.X_right, self.y_left, self.y_right\n",
    "        \n",
    "        #if self.verbose: #verboseをTrueにした際は学習過程を出力\n",
    "            #print(\"最大情報利得：{}\".format(max_ritoku))\n",
    "            #print(\"最大情報利得を与える条件：特徴量の列数{}, その特徴量の閾値{}\".format(self.best_feature_column,self.best_value))\n",
    "            #print(\"左ノードの推定ラベル：{}\".format(self.X_left_lavel))\n",
    "            #print(\"右ノードの推定ラベル：{}\".format(self.X_right_lavel))\n",
    "            \n",
    "    \n",
    "    def gini_impurity(self,X):\n",
    "        \n",
    "        N_t_all = len(X)\n",
    "        K = np.unique(X[:,-1]).size\n",
    "        N_t = np.zeros(K)\n",
    "        sigma = 0\n",
    "        for i in range(K):\n",
    "            N_t[i] = len(X[X[:,-1]==i])\n",
    "            sigma += (N_t[i] / N_t_all)**2\n",
    "        I = 1 - sigma\n",
    "        \n",
    "        return I\n",
    "    \n",
    "    def information_ritoku(self,X,X_left,X_right):\n",
    "        p_gini = self.gini_impurity(X) \n",
    "        left_gini = self.gini_impurity(X_left)\n",
    "        right_gini = self.gini_impurity(X_right)\n",
    "        \n",
    "        return p_gini - (len(X_left)/len(X)*left_gini + len(X_right)/len(X)*right_gini)\n",
    "```"
   ]
  }
 ],
 "metadata": {
  "kernelspec": {
   "display_name": "Python 3",
   "language": "python",
   "name": "python3"
  },
  "language_info": {
   "codemirror_mode": {
    "name": "ipython",
    "version": 3
   },
   "file_extension": ".py",
   "mimetype": "text/x-python",
   "name": "python",
   "nbconvert_exporter": "python",
   "pygments_lexer": "ipython3",
   "version": "3.7.4"
  }
 },
 "nbformat": 4,
 "nbformat_minor": 4
}
