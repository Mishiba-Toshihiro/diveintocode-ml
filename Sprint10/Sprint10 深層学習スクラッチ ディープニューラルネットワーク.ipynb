{
 "cells": [
  {
   "cell_type": "markdown",
   "metadata": {},
   "source": [
    "### Sprint10 深層学習スクラッチ ディープニューラルネットワーク"
   ]
  },
  {
   "cell_type": "markdown",
   "metadata": {},
   "source": [
    "前回は3層のニューラルネットワークを作成しましたが、今回はこれを任意の層数に拡張しやすいものに書き換えていきます。その上で、活性化関数や初期値、最適化手法について発展的なものを扱えるようにしていきます。\n",
    "\n",
    "\n",
    "このようなスクラッチを行うことで、今後各種フレームワークを利用していくにあたり、内部の動きが想像できることを目指します。\n",
    "\n",
    "\n",
    "名前は新しくScratchDeepNeuralNetrowkClassifierクラスとしてください。\n",
    "\n",
    "#### 層などのクラス化\n",
    "クラスにまとめて行くことで、構成を変更しやすい実装にしていきます。\n",
    "\n",
    "\n",
    "手を加える箇所\n",
    "\n",
    "\n",
    "層の数\n",
    "層の種類（今後畳み込み層など他のタイプの層が登場する）\n",
    "活性化関数の種類\n",
    "重みやバイアスの初期化方法\n",
    "最適化手法\n",
    "\n",
    "そのために、全結合層、各種活性化関数、重みやバイアスの初期化、最適化手法それぞれのクラスを作成します。\n",
    "\n",
    "\n",
    "実装方法は自由ですが、簡単な例を紹介します。サンプルコード1のように全結合層と活性化関数のインスタンスを作成し、サンプルコード2,3のようにして使用します。それぞれのクラスについてはこのあと解説します。"
   ]
  },
  {
   "cell_type": "code",
   "execution_count": 119,
   "metadata": {},
   "outputs": [],
   "source": [
    "import numpy as np\n",
    "import pandas as pd\n",
    "import matplotlib.pyplot as plt\n",
    "%matplotlib inline\n",
    "from sklearn.model_selection import train_test_split\n",
    "from sklearn.preprocessing import StandardScaler\n",
    "import math\n",
    "from sklearn.metrics import accuracy_score\n",
    "from sklearn.metrics import precision_score\n",
    "from sklearn.metrics import recall_score\n",
    "from sklearn.metrics import f1_score\n",
    "from sklearn.metrics import confusion_matrix\n",
    "import statistics\n",
    "from scipy import stats\n",
    "import collections\n",
    "import random\n",
    "from sklearn.linear_model import LinearRegression\n",
    "from sklearn.metrics import mean_squared_error\n",
    "from sklearn.tree import DecisionTreeRegressor\n",
    "from sklearn.model_selection import KFold\n",
    "from tqdm import tqdm"
   ]
  },
  {
   "cell_type": "code",
   "execution_count": 56,
   "metadata": {},
   "outputs": [
    {
     "name": "stderr",
     "output_type": "stream",
     "text": [
      "Using TensorFlow backend.\n"
     ]
    },
    {
     "name": "stdout",
     "output_type": "stream",
     "text": [
      "(60000,)\n",
      "(60000, 10)\n",
      "float64\n",
      "(48000, 784)\n",
      "(12000, 784)\n"
     ]
    }
   ],
   "source": [
    "import keras\n",
    "from keras.datasets import mnist\n",
    "(X_train, y_train), (X_test, y_test) = mnist.load_data()\n",
    "\n",
    "# データを平滑化する。\n",
    "X_train = X_train.reshape(-1, 784)\n",
    "X_test = X_test.reshape(-1, 784)\n",
    "\n",
    "#前処理\n",
    "X_train = X_train.astype(np.float)\n",
    "X_test = X_test.astype(np.float)\n",
    "X_train /= 255\n",
    "X_test /= 255\n",
    "\n",
    "# one hot encoding\n",
    "from sklearn.preprocessing import OneHotEncoder\n",
    "enc = OneHotEncoder(handle_unknown='ignore', sparse=False)\n",
    "y_train_one_hot = enc.fit_transform(y_train[:, np.newaxis])\n",
    "y_test_one_hot = enc.transform(y_test[:, np.newaxis])\n",
    "print(y_train.shape) # (60000,)\n",
    "print(y_train_one_hot.shape) # (60000, 10)\n",
    "print(y_train_one_hot.dtype) # float64\n",
    "\n",
    "#訓練データ6万枚の内2割を検証データとして分割\n",
    "X_train, X_val, y_train, y_val = train_test_split(X_train, y_train_one_hot, test_size=0.2)\n",
    "print(X_train.shape) # (48000, 784)\n",
    "print(X_val.shape) # (12000, 784)"
   ]
  },
  {
   "cell_type": "code",
   "execution_count": 73,
   "metadata": {},
   "outputs": [],
   "source": [
    "class GetMiniBatch:\n",
    "    \"\"\"\n",
    "    ミニバッチを取得するイテレータ\n",
    "\n",
    "    Parameters\n",
    "    ----------\n",
    "    X : 次の形のndarray, shape (n_samples, n_features)\n",
    "      訓練データ\n",
    "    y : 次の形のndarray, shape (n_samples, 1)\n",
    "      正解値\n",
    "    batch_size : int\n",
    "      バッチサイズ\n",
    "    seed : int\n",
    "      NumPyの乱数のシード\n",
    "    \"\"\"\n",
    "    def __init__(self, X, y, batch_size = 20, seed=0):\n",
    "        self.batch_size = batch_size\n",
    "        np.random.seed(seed)\n",
    "        shuffle_index = np.random.permutation(np.arange(X.shape[0]))\n",
    "        self._X = X[shuffle_index]\n",
    "        self._y = y[shuffle_index]\n",
    "        self._stop = np.ceil(X.shape[0]/self.batch_size).astype(np.int)\n",
    "    def __len__(self):\n",
    "        return self._stop\n",
    "    \n",
    "    def __getitem__(self,item):\n",
    "        p0 = item*self.batch_size\n",
    "        p1 = item*self.batch_size + self.batch_size\n",
    "        return self._X[p0:p1], self._y[p0:p1]        \n",
    "    def __iter__(self):\n",
    "        self._counter = 0\n",
    "        return self\n",
    "    def __next__(self):\n",
    "        if self._counter >= self._stop:\n",
    "            raise StopIteration()\n",
    "        p0 = self._counter*self.batch_size\n",
    "        p1 = self._counter*self.batch_size + self.batch_size\n",
    "        self._counter += 1\n",
    "        return self._X[p0:p1], self._y[p0:p1]"
   ]
  },
  {
   "cell_type": "markdown",
   "metadata": {},
   "source": [
    "### 【問題1】全結合層のクラス化\n",
    "全結合層のクラス化を行なってください。\n",
    "\n",
    "\n",
    "以下に雛形を載せました。コンストラクタで重みやバイアスの初期化をして、あとはフォワードとバックワードのメソッドを用意します。重みW、バイアスB、およびフォワード時の入力Xをインスタンス変数として保持しておくことで、煩雑な入出力は不要になります。\n",
    "\n",
    "\n",
    "なお、インスタンスも引数として渡すことができます。そのため、初期化方法のインスタンスinitializerをコンストラクタで受け取れば、それにより初期化が行われます。渡すインスタンスを変えれば、初期化方法が変えられます。\n",
    "\n",
    "\n",
    "また、引数として自身のインスタンスselfを渡すこともできます。これを利用してself.optimizer.update(self)という風に層の重みの更新が可能です。更新に必要な値は複数ありますが、全て全結合層が持つインスタンス変数にすることができます。\n",
    "\n",
    "\n",
    "初期化方法と最適化手法のクラスについては後述します。"
   ]
  },
  {
   "cell_type": "code",
   "execution_count": 110,
   "metadata": {},
   "outputs": [],
   "source": [
    "class FC:\n",
    "    \"\"\"\n",
    "    ノード数n_nodes1からn_nodes2への全結合層\n",
    "    Parameters\n",
    "    ----------\n",
    "    n_nodes1 : int\n",
    "      前の層のノード数\n",
    "    n_nodes2 : int\n",
    "      後の層のノード数\n",
    "    initializer : 初期化方法のインスタンス\n",
    "    optimizer : 最適化手法のインスタンス\n",
    "    \"\"\"\n",
    "    def __init__(self, n_nodes1, n_nodes2, initializer, optimizer):\n",
    "        self.optimizer = optimizer\n",
    "        \n",
    "        self.initializer = initializer\n",
    "        self.W = self.initializer.W(n_nodes1, n_nodes2)\n",
    "        self.B = self.initializer.B(n_nodes2)\n",
    "        self.H_B = 0\n",
    "        self.H_W = 0\n",
    "        # 初期化\n",
    "        # initializerのメソッドを使い、self.Wとself.Bを初期化する\n",
    "        pass\n",
    "    def forward(self, Z):\n",
    "        \"\"\"\n",
    "        フォワード\n",
    "        Parameters\n",
    "        ----------\n",
    "        X : 次の形のndarray, shape (batch_size, n_nodes1)\n",
    "            入力\n",
    "        Returns\n",
    "        ----------\n",
    "        A : 次の形のndarray, shape (batch_size, n_nodes2)\n",
    "            出力\n",
    "        \"\"\"\n",
    "        \n",
    "        self.Z = Z\n",
    "        self.A = Z @ self.W + self.B\n",
    "        return self.A\n",
    "    \n",
    "    def backward(self, dA):\n",
    "        \"\"\"\n",
    "        バックワード\n",
    "        Parameters\n",
    "        ----------\n",
    "        dA : 次の形のndarray, shape (batch_size, n_nodes2)\n",
    "            後ろから流れてきた勾配\n",
    "        Returns\n",
    "        ----------\n",
    "        dZ : 次の形のndarray, shape (batch_size, n_nodes1)\n",
    "            前に流す勾配\n",
    "        \"\"\"\n",
    "        self.dB = np.sum(dA, axis=0)\n",
    "        self.dW = (self.Z).T @ dA\n",
    "        dZ = dA @ (self.W).T\n",
    "        self.size = self.Z.shape[0]\n",
    "        \n",
    "        # 更新\n",
    "        self = self.optimizer.update(self)\n",
    "        return dZ\n"
   ]
  },
  {
   "cell_type": "markdown",
   "metadata": {},
   "source": [
    "### 【問題2】初期化方法のクラス化\n",
    "初期化を行うコードをクラス化してください。\n",
    "\n",
    "\n",
    "前述のように、全結合層のコンストラクタに初期化方法のインスタンスを渡せるようにします。以下の雛形に必要なコードを書き加えていってください。標準偏差の値（sigma）はコンストラクタで受け取るようにすることで、全結合層のクラス内にこの値（sigma）を渡さなくてすむようになります。\n",
    "\n",
    "\n",
    "これまで扱ってきた初期化方法はSimpleInitializerクラスと名付けることにします。"
   ]
  },
  {
   "cell_type": "code",
   "execution_count": 43,
   "metadata": {},
   "outputs": [],
   "source": [
    "class SimpleInitializer:\n",
    "    \"\"\"\n",
    "    ガウス分布によるシンプルな初期化\n",
    "    Parameters\n",
    "    ----------\n",
    "    sigma : float\n",
    "      ガウス分布の標準偏差\n",
    "    \"\"\"\n",
    "    def __init__(self, sigma):\n",
    "        self.sigma = sigma\n",
    "    def W(self, n_nodes1, n_nodes2):\n",
    "        \"\"\"\n",
    "        重みの初期化\n",
    "        Parameters\n",
    "        ----------\n",
    "        n_nodes1 : int\n",
    "          前の層のノード数\n",
    "        n_nodes2 : int\n",
    "          後の層のノード数\n",
    "\n",
    "        Returns\n",
    "        ----------\n",
    "        W :\n",
    "        \"\"\"\n",
    "\n",
    "        W = self.sigma * np.random.randn(n_nodes1, n_nodes2) \n",
    "        return W\n",
    "    \n",
    "    def B(self, n_nodes2):\n",
    "        \"\"\"\n",
    "        バイアスの初期化\n",
    "        Parameters\n",
    "        ----------\n",
    "        n_nodes2 : int\n",
    "          後の層のノード数\n",
    "\n",
    "        Returns\n",
    "        ----------\n",
    "        B :\n",
    "        \"\"\"\n",
    "        B = self.sigma * np.random.randn(n_nodes2)\n",
    "        return B"
   ]
  },
  {
   "cell_type": "markdown",
   "metadata": {},
   "source": [
    "### 【問題3】最適化手法のクラス化\n",
    "最適化手法のクラス化を行なってください。\n",
    "\n",
    "\n",
    "最適化手法に関しても初期化方法同様に全結合層にインスタンスとして渡します。バックワードのときにself.optimizer.update(self)のように更新できるようにします。以下の雛形に必要なコードを書き加えていってください。\n",
    "\n",
    "\n",
    "これまで扱ってきた最適化手法はSGDクラス（Stochastic Gradient Descent、確率的勾配降下法）として作成します。"
   ]
  },
  {
   "cell_type": "code",
   "execution_count": 63,
   "metadata": {},
   "outputs": [],
   "source": [
    "class SGD:\n",
    "    \"\"\"\n",
    "    確率的勾配降下法\n",
    "    Parameters\n",
    "    ----------\n",
    "    lr : 学習率\n",
    "    \"\"\"\n",
    "    def __init__(self, lr):\n",
    "        self.lr = lr\n",
    "    def update(self, layer):\n",
    "        \"\"\"\n",
    "        ある層の重みやバイアスの更新\n",
    "        Parameters\n",
    "        ----------\n",
    "        layer : 更新前の層のインスタンス\n",
    "        \"\"\"\n",
    "        self.W -= self.lr * layer.dW\n",
    "        self.B -= self.lr * layer.dB\n"
   ]
  },
  {
   "cell_type": "markdown",
   "metadata": {},
   "source": [
    "### 【問題4】活性化関数のクラス化\n",
    "活性化関数のクラス化を行なってください。\n",
    "\n",
    "\n",
    "ソフトマックス関数のバックプロパゲーションには交差エントロピー誤差の計算も含む実装を行うことで計算が簡略化されます。"
   ]
  },
  {
   "cell_type": "code",
   "execution_count": 141,
   "metadata": {},
   "outputs": [],
   "source": [
    "class Sigmoid:\n",
    "    def __init__(self):\n",
    "        self.A = None\n",
    "    def forward(self, A):\n",
    "        self.A = A\n",
    "        return 1/(1+np.exp(-A))\n",
    "    def backward(self,dZ):\n",
    "        dA = dZ * (1-1/(1+np.exp(-self.A))) * (1/(1+np.exp(-self.A)))\n",
    "        return dA\n",
    "    \n",
    "    \n",
    "class Tanh:\n",
    "    def __init__(self):\n",
    "        self.A = None\n",
    "    def forward(self, A):\n",
    "        self.A = A\n",
    "        return np.tanh(A)\n",
    "    def backward(self, dZ):\n",
    "        dA = dZ * (1-(np.tanh(self.A))**2)\n",
    "        return dA\n",
    "    \n",
    "    \n",
    "class Softmax: \n",
    "    def __init__(self):\n",
    "        self.A = None\n",
    "    \n",
    "    def forward(self, A):\n",
    "        self.A = A\n",
    "        batch_size = len(self.A)\n",
    "        output = self.A.shape[1]\n",
    "        self.Z = np.zeros((batch_size,output))\n",
    "        for i in range(batch_size):\n",
    "            for k in range (output):\n",
    "                self.Z[i][k] = np.exp(self.A)[i][k]/np.sum(np.exp(self.A), axis=1)[i]\n",
    "        return self.Z\n",
    "    \n",
    "    def backward(self,y):\n",
    "        self.grad_A = self.Z - y\n",
    "        batch_size = len(self.Z)\n",
    "        self.L = -1/batch_size*np.sum(y*np.log(self.Z))\n",
    "        return self.grad_A, self.L\n",
    "    "
   ]
  },
  {
   "cell_type": "markdown",
   "metadata": {},
   "source": [
    "### 【問題5】ReLUクラスの作成\n",
    "現在一般的に使われている活性化関数であるReLU（Rectified Linear Unit）をReLUクラスとして実装してください。\n",
    "\n",
    "\n",
    "ReLUは以下の数式です。\n",
    "$$\n",
    "% <![CDATA[\n",
    "f(x) = ReLU(x) = \\begin{cases}\n",
    "x  & \\text{if $x>0$,}\\\\\n",
    "0 & \\text{if $x\\leqq0$.}\n",
    "\\end{cases} %]]>\n",
    "$$\n",
    "\n",
    "$x$ : ある特徴量。スカラー\n",
    "\n",
    "\n",
    "実装上はnp.maximumを使い配列に対してまとめて計算が可能です。\n",
    "一方、バックプロパゲーションのための $x$ に関する $f(x)$ の微分は以下のようになります。\n",
    "\n",
    "$$% <![CDATA[\n",
    "\\frac{\\partial f(x)}{\\partial x} = \\begin{cases}\n",
    "1  & \\text{if $x>0$,}\\\\\n",
    "0 & \\text{if $x\\leqq0$.}\n",
    "\\end{cases} %]]>\n",
    "$$\n",
    "\n",
    "数学的には微分可能ではないですが、 $x=0$ のとき $0$ とすることで対応しています。\n",
    "\n",
    "\n",
    "フォワード時の $x$ の正負により、勾配を逆伝播するかどうかが決まるということになります。\n",
    "\n"
   ]
  },
  {
   "cell_type": "code",
   "execution_count": 91,
   "metadata": {},
   "outputs": [],
   "source": [
    "class ReLU:\n",
    "    def __init__(self):\n",
    "        self.x = None\n",
    "    \n",
    "    def forward(self,x):\n",
    "        self.x = x\n",
    "        return np.maximum(0, x)\n",
    "        \n",
    "    \n",
    "    def backward(self,dZ):\n",
    "        dA = dZ*(np.where(self.x > 0,1,0))\n",
    "        return dA\n",
    "        "
   ]
  },
  {
   "cell_type": "markdown",
   "metadata": {},
   "source": [
    "### 【問題6】重みの初期値\n",
    "ここまでは重みやバイアスの初期値は単純にガウス分布で、標準偏差をハイパーパラメータとして扱ってきました。しかし、どのような値にすると良いかが知られています。シグモイド関数やハイパボリックタンジェント関数のときは Xavierの初期値 （またはGlorotの初期値）、ReLUのときは Heの初期値 が使われます。\n",
    "\n",
    "\n",
    "XavierInitializerクラスと、HeInitializerクラスを作成してください。"
   ]
  },
  {
   "cell_type": "markdown",
   "metadata": {},
   "source": [
    "●Xavierの初期値\n",
    "\n",
    "\n",
    "Xavierの初期値における標準偏差 𝜎 は次の式で求められます。\n",
    "\n",
    "$$\\sigma = \\frac{1}{\\sqrt{n}}$$\n",
    "\n",
    "𝑛 : 前の層のノード数"
   ]
  },
  {
   "cell_type": "markdown",
   "metadata": {},
   "source": [
    "●Heの初期値\n",
    "\n",
    "\n",
    "Heの初期値における標準偏差 𝜎 は次の式で求められます。\n",
    "$$\n",
    "\\sigma = \\sqrt{\\frac{2}{n}}\n",
    "$$\n",
    "\n",
    "𝑛 : 前の層のノード数"
   ]
  },
  {
   "cell_type": "code",
   "execution_count": 140,
   "metadata": {},
   "outputs": [],
   "source": [
    "class Xavier:\n",
    "    def __init__(self, pre_node):\n",
    "        self.sigma = np.sqrt(1/pre_node)\n",
    "    \n",
    "    def W(self, n_nodes1, n_nodes2):\n",
    "        \"\"\"\n",
    "        重みの初期化\n",
    "        Parameters\n",
    "        ----------\n",
    "        n_nodes1 : int\n",
    "          前の層のノード数\n",
    "        n_nodes2 : int\n",
    "          後の層のノード数\n",
    "\n",
    "        Returns\n",
    "        ----------\n",
    "        W :\n",
    "        \"\"\"\n",
    "\n",
    "        W = self.sigma * np.random.randn(n_nodes1, n_nodes2) \n",
    "        return W\n",
    "    \n",
    "    def B(self, n_nodes2):\n",
    "        \"\"\"\n",
    "        バイアスの初期化\n",
    "        Parameters\n",
    "        ----------\n",
    "        n_nodes2 : int\n",
    "          後の層のノード数\n",
    "\n",
    "        Returns\n",
    "        ----------\n",
    "        B :\n",
    "        \"\"\"\n",
    "        B = self.sigma * np.random.randn(n_nodes2)\n",
    "        return B"
   ]
  },
  {
   "cell_type": "code",
   "execution_count": 53,
   "metadata": {},
   "outputs": [],
   "source": [
    "class He:\n",
    "    def __init__(self, pre_node):\n",
    "        self.sigma = np.sqrt(2/pre_node)\n",
    "        \n",
    "    def W(self, n_nodes1, n_nodes2):\n",
    "        \"\"\"\n",
    "        重みの初期化\n",
    "        Parameters\n",
    "        ----------\n",
    "        n_nodes1 : int\n",
    "          前の層のノード数\n",
    "        n_nodes2 : int\n",
    "          後の層のノード数\n",
    "\n",
    "        Returns\n",
    "        ----------\n",
    "        W :\n",
    "        \"\"\"\n",
    "\n",
    "        W = self.sigma * np.random.randn(n_nodes1, n_nodes2) \n",
    "        return W\n",
    "    \n",
    "    def B(self, n_nodes2):\n",
    "        \"\"\"\n",
    "        バイアスの初期化\n",
    "        Parameters\n",
    "        ----------\n",
    "        n_nodes2 : int\n",
    "          後の層のノード数\n",
    "\n",
    "        Returns\n",
    "        ----------\n",
    "        B :\n",
    "        \"\"\"\n",
    "        B = self.sigma * np.random.randn(n_nodes2)\n",
    "        return B"
   ]
  },
  {
   "cell_type": "markdown",
   "metadata": {},
   "source": [
    "### 【問題7】最適化手法\n",
    "学習率は学習過程で変化させていく方法が一般的です。基本的な手法である AdaGrad のクラスを作成してください。\n",
    "\n",
    "\n",
    "まず、これまで使ってきたSGDを確認します。\n",
    "\n",
    "$$\n",
    "W_i^{\\prime} = W_i - \\alpha E(\\frac{\\partial L}{\\partial W_i}) \\\\\n",
    "B_i^{\\prime} = B_i - \\alpha E(\\frac{\\partial L}{\\partial B_i})\n",
    "$$\n",
    "\n",
    "$$\n",
    "𝛼 : 学習率（層ごとに変えることも可能だが、基本的には全て同じとする）\n",
    "∂𝐿∂𝑊𝑖 : 𝑊𝑖 に関する損失 𝐿 の勾配\n",
    "∂𝐿∂𝐵𝑖 : 𝐵𝑖 に関する損失 𝐿 の勾配\n",
    "𝐸() : ミニバッチ方向にベクトルの平均を計算\n",
    "続いて、AdaGradです。バイアスの数式は省略しますが、重みと同様のことをします。\n",
    "更新された分だけその重みに対する学習率を徐々に下げていきます。イテレーションごとの勾配の二乗和 𝐻 を保存しておき、その分だけ学習率を小さくします。\n",
    "学習率は重み一つひとつに対して異なることになります。\n",
    "$$\n",
    "\n",
    "$$\n",
    "H_i^{\\prime}  = H_i+E(\\frac{\\partial L}{\\partial W_i})×E(\\frac{\\partial L}{\\partial W_i})\\\\\n",
    "W_i^{\\prime} = W_i - \\alpha \\frac{1}{\\sqrt{H_i^{\\prime} }} E(\\frac{\\partial L}{\\partial W_i}) \\\\\n",
    "𝐻𝑖  : i層目に関して、前のイテレーションまでの勾配の二乗和（初期値は0）\n",
    "𝐻′𝑖 : 更新した 𝐻𝑖\n",
    "$$"
   ]
  },
  {
   "cell_type": "code",
   "execution_count": 111,
   "metadata": {},
   "outputs": [],
   "source": [
    "class AdaGrad:\n",
    "    def __init__(self,lr):\n",
    "        self.lr = lr\n",
    "        self.W = []\n",
    "        self.H_B = 0\n",
    "        self.H_W = 0\n",
    "        \n",
    "    \n",
    "    def update(self, layer):\n",
    "        layer.H_W += (layer.dW/layer.size)*(layer.dW/layer.size)\n",
    "        layer.W -= self.lr/np.sqrt(self.H_W+0.0001)*layer.dW/layer.size\n",
    "        layer.H_B += (layer.dB/layer.size)*(layer.dB/layer.size)\n",
    "        layer.B -= self.lr/np.sqrt(self.H_B+0.0001)*layer.dB/layer.size"
   ]
  },
  {
   "cell_type": "markdown",
   "metadata": {},
   "source": [
    "### 【問題8】クラスの完成\n",
    "任意の構成で学習と推定が行えるScratchDeepNeuralNetrowkClassifierクラスを完成させてください。"
   ]
  },
  {
   "cell_type": "code",
   "execution_count": 142,
   "metadata": {},
   "outputs": [],
   "source": [
    "class ScratchDeepNeuralNetrowkClassifier:\n",
    "    def __init__ (self, epoch=10, batch_size=80 , n_nodes=(400, 200), lr=0.01, activation=\"ReLU\", initializer=\"He\", optimizer=\"AdaGrad\", sigma=None,verbose=True):\n",
    "        self.epoch = epoch\n",
    "        self.batch_size = batch_size\n",
    "        self.n_nodes = n_nodes\n",
    "        self.num_layer = len(n_nodes)+1\n",
    "        self.lr = lr\n",
    "        self.activation = activation\n",
    "        self.initializer = initializer\n",
    "        self.optimizer = optimizer\n",
    "        self.sigma = sigma\n",
    "        self.verbose = verbose\n",
    "        self.L_log =[]\n",
    "        self.L_val_log =[]\n",
    "        \n",
    "        \n",
    "    def fit(self, X, y, X_val=None, y_val=None):\n",
    "        \n",
    "        n_features = X.shape[1]\n",
    "        n_output = y.shape[1]\n",
    "        iteration =  len(X)/self.batch_size    #訓練データ48000枚 / バッチサイズ80(20から変更)\n",
    "        \n",
    "        initializer_dict = []\n",
    "        self.activation_dict = []\n",
    "        if (self.activation == \"ReLU\") & (self.initializer==\"He\"):\n",
    "            initializer_dict.append(He(n_features))\n",
    "            for k in range(self.num_layer-1):\n",
    "                initializer_dict.append(He(self.n_nodes[k]))\n",
    "                self.activation_dict.append(ReLU())\n",
    "            self.activation_dict.append(Softmax())\n",
    "                \n",
    "        if (self.activation == \"Sigmoid\") & (self.initializer==\"Xavier\"):\n",
    "            initializer_dict.append(Xavier(n_features))\n",
    "            for k in range(self.num_layer-1):\n",
    "                initializer_dict.append(Xavier(self.n_nodes[k]))\n",
    "                self.activation_dict.append(Sigmoid())\n",
    "            self.activation_dict.append(Softmax())\n",
    "        \n",
    "        if (self.activation == \"Tanh\") & (self.initializer==\"Xavier\"):\n",
    "            initializer_dict.append(Xavier(n_features))\n",
    "            for k in range(self.num_layer-1):\n",
    "                initializer_dict.append(Xavier(self.n_nodes[k]))\n",
    "                self.activation_dict.append(Tanh())\n",
    "            self.activation_dict.append(Softmax())\n",
    "            \n",
    "        if self.optimizer==\"AdaGrad\":\n",
    "            optimizer = AdaGrad(self.lr) \n",
    "        if self.optimizer==\"SGD\":\n",
    "            optimizer = SGD(self.lr)\n",
    "            \n",
    "        self.FC_dict = []      \n",
    "        self.FC_dict.append(FC(n_features, self.n_nodes[0], initializer_dict[0], optimizer))\n",
    "        for k in range(self.num_layer-2):\n",
    "            self.FC_dict.append(FC(self.n_nodes[k], self.n_nodes[k+1], initializer_dict[k+1], optimizer))\n",
    "        self.FC_dict.append(FC(self.n_nodes[-1], n_output, initializer_dict[-1], optimizer))\n",
    "            \n",
    "            \n",
    "            \n",
    "        for i in tqdm(range(self.epoch)):\n",
    "            get_mini_batch = GetMiniBatch(X, y, batch_size=self.batch_size) # ミニバッチ生成関数のインスタンス生成\n",
    "            \n",
    "            K = 0\n",
    "            for self.X, self.y in get_mini_batch: # ミニバッチ単位でフォーワード、バックプロパの学習をイテレーション分繰り返す。\n",
    "                for k in range(self.num_layer):\n",
    "                    if k==0:\n",
    "                        A = self.FC_dict[k].forward(self.X)\n",
    "                        Z = self.activation_dict[k].forward(A)\n",
    "                    else:\n",
    "                        A = self.FC_dict[k].forward(Z)\n",
    "                        Z = self.activation_dict[k].forward(A)\n",
    "                \n",
    "                for k in range(self.num_layer):\n",
    "                    if k==0:\n",
    "                        dA = self.activation_dict[-(k+1)].backward(self.y)[0]\n",
    "                        dZ = self.FC_dict[-(k+1)].backward(dA)\n",
    "                        \n",
    "                    else:\n",
    "                        dA = self.activation_dict[-(k+1)].backward(dZ)\n",
    "                        dZ = self.FC_dict[-(k+1)].backward(dA)\n",
    "                \n",
    "                K += 1   \n",
    "                \n",
    "                if self.verbose:\n",
    "                    L = self.activation_dict[k].backward(self.y)[1] # トレインデータのエントロピー計算\n",
    "                    if K % 30 == 0:\n",
    "                        self.L_log.append(L)         # エントロピー結果を記録しておく\n",
    "                        print(\"(train) iter数 ： {} => cross entropy : {}\".format(K,L))\n",
    "                if X_val is not None:\n",
    "                    index = random.sample(range(len(X_val)), k=self.batch_size)\n",
    "                    pred_val = self.predict(X_val[index])[1]          # 学習結果元にvalデータの予測\n",
    "                    L_val = -1/self.batch_size*np.sum(y_val[index]*np.log(pred_val))\n",
    "                    if K % 30 == 0:\n",
    "                        self.L_val_log.append(L_val)        # エントロピー結果を記録しておく\n",
    "                        print(\"  (val) iter数 ： {} => cross entropy : {}\".format(K,L_val))\n",
    "                      \n",
    "        \n",
    "    def predict(self, X):   # これまで学習したW1〜3, B1〜3,を使いフォーワードで入力から出力（確率が最も高いラベル）を計算\n",
    "        \n",
    "        for k in range(self.num_layer):\n",
    "            if k==0:\n",
    "                A = self.FC_dict[k].forward(X)\n",
    "                Z = self.activation_dict[k].forward(A)\n",
    "            else:\n",
    "                A = self.FC_dict[k].forward(Z)\n",
    "                Z = self.activation_dict[k].forward(A)\n",
    "            \n",
    "        return np.argmax(Z, axis=1) , Z  \n",
    "        \n",
    "        "
   ]
  },
  {
   "cell_type": "code",
   "execution_count": 130,
   "metadata": {},
   "outputs": [
    {
     "name": "stdout",
     "output_type": "stream",
     "text": [
      "20.0\n"
     ]
    },
    {
     "data": {
      "text/plain": [
       "5.0"
      ]
     },
     "execution_count": 130,
     "metadata": {},
     "output_type": "execute_result"
    }
   ],
   "source": [
    "print(48000/80/30)\n",
    "12000/80/30"
   ]
  },
  {
   "cell_type": "markdown",
   "metadata": {},
   "source": [
    "【問題9】学習と推定\n",
    "層の数や活性化関数を変えたいくつかのネットワークを作成してください。そして、MNISTのデータを学習・推定し、Accuracyを計算してください。"
   ]
  },
  {
   "cell_type": "code",
   "execution_count": 126,
   "metadata": {},
   "outputs": [
    {
     "name": "stderr",
     "output_type": "stream",
     "text": [
      "  0%|          | 0/2 [00:00<?, ?it/s]"
     ]
    },
    {
     "name": "stdout",
     "output_type": "stream",
     "text": [
      "(train) iter数 ： 30 => cross entropy : 1.4882998107611087\n",
      "  (val) iter数 ： 30 => cross entropy : 2.1906241531358086\n",
      "(train) iter数 ： 60 => cross entropy : 1.9032718470478416\n",
      "  (val) iter数 ： 60 => cross entropy : 2.1429809531831405\n",
      "(train) iter数 ： 90 => cross entropy : 2.0671778751463408\n",
      "  (val) iter数 ： 90 => cross entropy : 1.7182166224020101\n",
      "(train) iter数 ： 120 => cross entropy : 1.073144084595371\n",
      "  (val) iter数 ： 120 => cross entropy : 1.207540054190173\n",
      "(train) iter数 ： 150 => cross entropy : 1.0586202913612317\n",
      "  (val) iter数 ： 150 => cross entropy : 1.2783557517762885\n",
      "(train) iter数 ： 180 => cross entropy : 0.539807726403155\n",
      "  (val) iter数 ： 180 => cross entropy : 1.1734214980520805\n",
      "(train) iter数 ： 210 => cross entropy : 1.0609843505892045\n",
      "  (val) iter数 ： 210 => cross entropy : 0.9881022786442801\n",
      "(train) iter数 ： 240 => cross entropy : 0.3243514791614899\n",
      "  (val) iter数 ： 240 => cross entropy : 0.7040955859748257\n",
      "(train) iter数 ： 270 => cross entropy : 0.4662809645339337\n",
      "  (val) iter数 ： 270 => cross entropy : 0.4215083966609874\n",
      "(train) iter数 ： 300 => cross entropy : 0.46539248455751747\n",
      "  (val) iter数 ： 300 => cross entropy : 0.4813433089816762\n",
      "(train) iter数 ： 330 => cross entropy : 0.3513067763075688\n",
      "  (val) iter数 ： 330 => cross entropy : 0.3992070147032851\n",
      "(train) iter数 ： 360 => cross entropy : 0.12897248150560067\n",
      "  (val) iter数 ： 360 => cross entropy : 0.3710726901310942\n",
      "(train) iter数 ： 390 => cross entropy : 0.2441259754188268\n",
      "  (val) iter数 ： 390 => cross entropy : 0.4294416852468609\n",
      "(train) iter数 ： 420 => cross entropy : 0.35433077345814135\n",
      "  (val) iter数 ： 420 => cross entropy : 0.2652011049193901\n",
      "(train) iter数 ： 450 => cross entropy : 0.20601862786945643\n",
      "  (val) iter数 ： 450 => cross entropy : 0.11486075101141019\n",
      "(train) iter数 ： 480 => cross entropy : 0.19249617181363357\n",
      "  (val) iter数 ： 480 => cross entropy : 0.19592301093115602\n",
      "(train) iter数 ： 510 => cross entropy : 0.16256147508146654\n",
      "  (val) iter数 ： 510 => cross entropy : 0.18000101577582972\n",
      "(train) iter数 ： 540 => cross entropy : 0.14715571408754827\n",
      "  (val) iter数 ： 540 => cross entropy : 0.2028713942708067\n",
      "(train) iter数 ： 570 => cross entropy : 0.3158834975315819\n",
      "  (val) iter数 ： 570 => cross entropy : 0.19576896447530776\n"
     ]
    },
    {
     "name": "stderr",
     "output_type": "stream",
     "text": [
      " 50%|█████     | 1/2 [00:22<00:22, 22.16s/it]"
     ]
    },
    {
     "name": "stdout",
     "output_type": "stream",
     "text": [
      "(train) iter数 ： 600 => cross entropy : 0.33088563555419054\n",
      "  (val) iter数 ： 600 => cross entropy : 0.2264354857553772\n",
      "(train) iter数 ： 30 => cross entropy : 0.18982835000457482\n",
      "  (val) iter数 ： 30 => cross entropy : 0.14410689970623233\n",
      "(train) iter数 ： 60 => cross entropy : 0.11815792217991011\n",
      "  (val) iter数 ： 60 => cross entropy : 0.14630832282896575\n",
      "(train) iter数 ： 90 => cross entropy : 0.3068612786548146\n",
      "  (val) iter数 ： 90 => cross entropy : 0.43580824337771085\n",
      "(train) iter数 ： 120 => cross entropy : 0.2621845251982456\n",
      "  (val) iter数 ： 120 => cross entropy : 0.1511236525439158\n",
      "(train) iter数 ： 150 => cross entropy : 0.15695986732287692\n",
      "  (val) iter数 ： 150 => cross entropy : 0.2761823746289331\n",
      "(train) iter数 ： 180 => cross entropy : 0.15354696707194534\n",
      "  (val) iter数 ： 180 => cross entropy : 0.12569273722490945\n",
      "(train) iter数 ： 210 => cross entropy : 0.16742499572640593\n",
      "  (val) iter数 ： 210 => cross entropy : 0.2666834383719582\n",
      "(train) iter数 ： 240 => cross entropy : 0.17564730246109753\n",
      "  (val) iter数 ： 240 => cross entropy : 0.23834791801851873\n",
      "(train) iter数 ： 270 => cross entropy : 0.17984832101808676\n",
      "  (val) iter数 ： 270 => cross entropy : 0.03098800164969874\n",
      "(train) iter数 ： 300 => cross entropy : 0.22120097235336736\n",
      "  (val) iter数 ： 300 => cross entropy : 0.214982893814248\n",
      "(train) iter数 ： 330 => cross entropy : 0.19369170545237557\n",
      "  (val) iter数 ： 330 => cross entropy : 0.13563925186145803\n",
      "(train) iter数 ： 360 => cross entropy : 0.06336998892463068\n",
      "  (val) iter数 ： 360 => cross entropy : 0.13790627689089965\n",
      "(train) iter数 ： 390 => cross entropy : 0.1516910943115682\n",
      "  (val) iter数 ： 390 => cross entropy : 0.21056484318214422\n",
      "(train) iter数 ： 420 => cross entropy : 0.19007472284602825\n",
      "  (val) iter数 ： 420 => cross entropy : 0.16024099240127615\n",
      "(train) iter数 ： 450 => cross entropy : 0.06797268428367377\n",
      "  (val) iter数 ： 450 => cross entropy : 0.26326366010144825\n",
      "(train) iter数 ： 480 => cross entropy : 0.08983057918968484\n",
      "  (val) iter数 ： 480 => cross entropy : 0.054328492581634094\n",
      "(train) iter数 ： 510 => cross entropy : 0.09262038636861468\n",
      "  (val) iter数 ： 510 => cross entropy : 0.1793607431803379\n",
      "(train) iter数 ： 540 => cross entropy : 0.03847603354998163\n",
      "  (val) iter数 ： 540 => cross entropy : 0.15735671548993257\n",
      "(train) iter数 ： 570 => cross entropy : 0.4164712869103584\n",
      "  (val) iter数 ： 570 => cross entropy : 0.2589668683936946\n"
     ]
    },
    {
     "name": "stderr",
     "output_type": "stream",
     "text": [
      "100%|██████████| 2/2 [00:45<00:00, 22.79s/it]"
     ]
    },
    {
     "name": "stdout",
     "output_type": "stream",
     "text": [
      "(train) iter数 ： 600 => cross entropy : 0.17653895266651942\n",
      "  (val) iter数 ： 600 => cross entropy : 0.16669513477471679\n"
     ]
    },
    {
     "name": "stderr",
     "output_type": "stream",
     "text": [
      "\n"
     ]
    }
   ],
   "source": [
    "model_1 = ScratchDeepNeuralNetrowkClassifier(epoch=2, batch_size=80 , n_nodes=(400, 200), lr=0.01, activation=\"ReLU\", initializer=\"He\", optimizer=\"AdaGrad\", sigma=None)\n",
    "model_1.fit(X_train, y_train, X_val, y_val)"
   ]
  },
  {
   "cell_type": "code",
   "execution_count": 127,
   "metadata": {},
   "outputs": [
    {
     "data": {
      "text/plain": [
       "0.9549166666666666"
      ]
     },
     "execution_count": 127,
     "metadata": {},
     "output_type": "execute_result"
    }
   ],
   "source": [
    "# 予測\n",
    "y_pred_1 = model_1.predict(X_val)[0]\n",
    "# onehot化していたのでラベルに直す\n",
    "y_val_1 = np.argmax(y_val, axis=1)\n",
    "# 正解率\n",
    "accuracy_score(y_val_1,y_pred_1)"
   ]
  },
  {
   "cell_type": "code",
   "execution_count": 132,
   "metadata": {},
   "outputs": [
    {
     "data": {
      "text/plain": [
       "<matplotlib.legend.Legend at 0x1a42b7ba10>"
      ]
     },
     "execution_count": 132,
     "metadata": {},
     "output_type": "execute_result"
    },
    {
     "data": {
      "image/png": "[encoded data removed]",
      "text/plain": [
       "<Figure size 432x288 with 1 Axes>"
      ]
     },
     "metadata": {
      "needs_background": "light"
     },
     "output_type": "display_data"
    }
   ],
   "source": [
    "plt.plot([i*30 for i in range(40)],model_1.L_log,label=\"train\")\n",
    "plt.plot([i*30 for i in range(40)],model_1.L_val_log,label=\"val\")\n",
    "plt.xlabel(\"iter\")\n",
    "plt.ylabel(\"cross entropy\")\n",
    "plt.legend()"
   ]
  },
  {
   "cell_type": "code",
   "execution_count": 156,
   "metadata": {},
   "outputs": [
    {
     "name": "stderr",
     "output_type": "stream",
     "text": [
      "\n",
      "\n",
      "  0%|          | 0/2 [00:00<?, ?it/s]\u001b[A\u001b[A"
     ]
    },
    {
     "name": "stdout",
     "output_type": "stream",
     "text": [
      "(train) iter数 ： 30 => cross entropy : 0.7777057786849774\n",
      "  (val) iter数 ： 30 => cross entropy : 0.658586373326162\n",
      "(train) iter数 ： 60 => cross entropy : 0.536837644163433\n",
      "  (val) iter数 ： 60 => cross entropy : 0.48220515480546355\n",
      "(train) iter数 ： 90 => cross entropy : 0.49372949357193274\n",
      "  (val) iter数 ： 90 => cross entropy : 0.34184100672265805\n",
      "(train) iter数 ： 120 => cross entropy : 0.33113550739772635\n",
      "  (val) iter数 ： 120 => cross entropy : 0.4432207881353456\n",
      "(train) iter数 ： 150 => cross entropy : 0.4143083927564541\n",
      "  (val) iter数 ： 150 => cross entropy : 0.4610547984097048\n",
      "(train) iter数 ： 180 => cross entropy : 0.3556561632195884\n",
      "  (val) iter数 ： 180 => cross entropy : 0.3075489860170093\n",
      "(train) iter数 ： 210 => cross entropy : 0.33572819464348486\n",
      "  (val) iter数 ： 210 => cross entropy : 0.43294708082692734\n",
      "(train) iter数 ： 240 => cross entropy : 0.3344950091383292\n",
      "  (val) iter数 ： 240 => cross entropy : 0.5343679994348083\n",
      "(train) iter数 ： 270 => cross entropy : 0.4013071753806138\n",
      "  (val) iter数 ： 270 => cross entropy : 0.29828323631633175\n",
      "(train) iter数 ： 300 => cross entropy : 0.3896207593042018\n",
      "  (val) iter数 ： 300 => cross entropy : 0.2273699220621783\n",
      "(train) iter数 ： 330 => cross entropy : 0.42438734905371245\n",
      "  (val) iter数 ： 330 => cross entropy : 0.3964319658982044\n",
      "(train) iter数 ： 360 => cross entropy : 0.2574856576976462\n",
      "  (val) iter数 ： 360 => cross entropy : 0.5177478629641039\n",
      "(train) iter数 ： 390 => cross entropy : 0.28495302561567337\n",
      "  (val) iter数 ： 390 => cross entropy : 0.5312417996070299\n",
      "(train) iter数 ： 420 => cross entropy : 0.2991851611911808\n",
      "  (val) iter数 ： 420 => cross entropy : 0.45380661685885926\n",
      "(train) iter数 ： 450 => cross entropy : 0.21631355327224489\n",
      "  (val) iter数 ： 450 => cross entropy : 0.4045569146627026\n",
      "(train) iter数 ： 480 => cross entropy : 0.2829484589363402\n",
      "  (val) iter数 ： 480 => cross entropy : 0.34351834834870637\n",
      "(train) iter数 ： 510 => cross entropy : 0.13779162651343177\n",
      "  (val) iter数 ： 510 => cross entropy : 0.2796415388902134\n",
      "(train) iter数 ： 540 => cross entropy : 0.1950356375297166\n",
      "  (val) iter数 ： 540 => cross entropy : 0.24444343608720223\n",
      "(train) iter数 ： 570 => cross entropy : 0.40919667857155295\n",
      "  (val) iter数 ： 570 => cross entropy : 0.2729638884851892\n"
     ]
    },
    {
     "name": "stderr",
     "output_type": "stream",
     "text": [
      "\n",
      "\n",
      " 50%|█████     | 1/2 [00:23<00:23, 23.48s/it]\u001b[A\u001b[A"
     ]
    },
    {
     "name": "stdout",
     "output_type": "stream",
     "text": [
      "(train) iter数 ： 600 => cross entropy : 0.4874632869104918\n",
      "  (val) iter数 ： 600 => cross entropy : 0.26281851701787023\n",
      "(train) iter数 ： 30 => cross entropy : 0.2623828972470227\n",
      "  (val) iter数 ： 30 => cross entropy : 0.3395116845343661\n",
      "(train) iter数 ： 60 => cross entropy : 0.2523764325549638\n",
      "  (val) iter数 ： 60 => cross entropy : 0.21659934547531234\n",
      "(train) iter数 ： 90 => cross entropy : 0.29559861071276056\n",
      "  (val) iter数 ： 90 => cross entropy : 0.16253758495545034\n",
      "(train) iter数 ： 120 => cross entropy : 0.19910818642066175\n",
      "  (val) iter数 ： 120 => cross entropy : 0.17671588713148592\n",
      "(train) iter数 ： 150 => cross entropy : 0.24074398653611065\n",
      "  (val) iter数 ： 150 => cross entropy : 0.36725367167293616\n",
      "(train) iter数 ： 180 => cross entropy : 0.23286514039979223\n",
      "  (val) iter数 ： 180 => cross entropy : 0.19226727092216733\n",
      "(train) iter数 ： 210 => cross entropy : 0.24553230627915879\n",
      "  (val) iter数 ： 210 => cross entropy : 0.23916979463832055\n",
      "(train) iter数 ： 240 => cross entropy : 0.2677368601175264\n",
      "  (val) iter数 ： 240 => cross entropy : 0.1639380749667695\n",
      "(train) iter数 ： 270 => cross entropy : 0.32585184427164937\n",
      "  (val) iter数 ： 270 => cross entropy : 0.12321757919838164\n",
      "(train) iter数 ： 300 => cross entropy : 0.3263725335814618\n",
      "  (val) iter数 ： 300 => cross entropy : 0.19336983655865905\n",
      "(train) iter数 ： 330 => cross entropy : 0.3415451634850296\n",
      "  (val) iter数 ： 330 => cross entropy : 0.2607848706941375\n",
      "(train) iter数 ： 360 => cross entropy : 0.1632251446221482\n",
      "  (val) iter数 ： 360 => cross entropy : 0.3318212850671187\n",
      "(train) iter数 ： 390 => cross entropy : 0.2205531011507616\n",
      "  (val) iter数 ： 390 => cross entropy : 0.2772384455934595\n",
      "(train) iter数 ： 420 => cross entropy : 0.22171366620681465\n",
      "  (val) iter数 ： 420 => cross entropy : 0.1611009342712161\n",
      "(train) iter数 ： 450 => cross entropy : 0.15907031988836257\n",
      "  (val) iter数 ： 450 => cross entropy : 0.2712751000301259\n",
      "(train) iter数 ： 480 => cross entropy : 0.2039228078830786\n",
      "  (val) iter数 ： 480 => cross entropy : 0.36172562902620875\n",
      "(train) iter数 ： 510 => cross entropy : 0.1017487513373284\n",
      "  (val) iter数 ： 510 => cross entropy : 0.33207587608794\n",
      "(train) iter数 ： 540 => cross entropy : 0.1436384252934805\n",
      "  (val) iter数 ： 540 => cross entropy : 0.30083604523628343\n",
      "(train) iter数 ： 570 => cross entropy : 0.34937941755471225\n",
      "  (val) iter数 ： 570 => cross entropy : 0.3462780747775709\n"
     ]
    },
    {
     "name": "stderr",
     "output_type": "stream",
     "text": [
      "\n",
      "\n",
      "100%|██████████| 2/2 [00:48<00:00, 24.03s/it]\u001b[A\u001b[A"
     ]
    },
    {
     "name": "stdout",
     "output_type": "stream",
     "text": [
      "(train) iter数 ： 600 => cross entropy : 0.4216033010401571\n",
      "  (val) iter数 ： 600 => cross entropy : 0.19974480774899406\n"
     ]
    },
    {
     "name": "stderr",
     "output_type": "stream",
     "text": [
      "\n"
     ]
    }
   ],
   "source": [
    "model_2 = ScratchDeepNeuralNetrowkClassifier(epoch=2, batch_size=80 , n_nodes=(400, 200), lr=0.001, activation=\"Tanh\", initializer=\"Xavier\", optimizer=\"AdaGrad\", sigma=None)\n",
    "model_2.fit(X_train, y_train, X_val, y_val)"
   ]
  },
  {
   "cell_type": "code",
   "execution_count": 157,
   "metadata": {},
   "outputs": [
    {
     "data": {
      "text/plain": [
       "0.9289166666666666"
      ]
     },
     "execution_count": 157,
     "metadata": {},
     "output_type": "execute_result"
    }
   ],
   "source": [
    "# 予測\n",
    "y_pred_2 = model_2.predict(X_val)[0]\n",
    "# onehot化していたのでラベルに直す\n",
    "y_val_2 = np.argmax(y_val, axis=1)\n",
    "# 正解率\n",
    "accuracy_score(y_val_2, y_pred_2)"
   ]
  },
  {
   "cell_type": "code",
   "execution_count": 158,
   "metadata": {},
   "outputs": [
    {
     "data": {
      "text/plain": [
       "<matplotlib.legend.Legend at 0x1a9c378190>"
      ]
     },
     "execution_count": 158,
     "metadata": {},
     "output_type": "execute_result"
    },
    {
     "data": {
      "image/png": "[encoded data removed]",
      "text/plain": [
       "<Figure size 432x288 with 1 Axes>"
      ]
     },
     "metadata": {
      "needs_background": "light"
     },
     "output_type": "display_data"
    }
   ],
   "source": [
    "plt.plot([i*30 for i in range(40)],model_2.L_log,label=\"train\")\n",
    "plt.plot([i*30 for i in range(40)],model_2.L_val_log,label=\"val\")\n",
    "plt.xlabel(\"iter\")\n",
    "plt.ylabel(\"cross entropy\")\n",
    "plt.legend()"
   ]
  },
  {
   "cell_type": "code",
   "execution_count": 144,
   "metadata": {
    "collapsed": true,
    "jupyter": {
     "outputs_hidden": true
    }
   },
   "outputs": [
    {
     "name": "stderr",
     "output_type": "stream",
     "text": [
      "  0%|          | 0/2 [00:00<?, ?it/s]"
     ]
    },
    {
     "name": "stdout",
     "output_type": "stream",
     "text": [
      "(train) iter数 ： 30 => cross entropy : 2.289651996141288\n",
      "  (val) iter数 ： 30 => cross entropy : 2.2818583996250106\n",
      "(train) iter数 ： 60 => cross entropy : 2.2264856666212096\n",
      "  (val) iter数 ： 60 => cross entropy : 2.1972418966188227\n",
      "(train) iter数 ： 90 => cross entropy : 1.8905587823931453\n",
      "  (val) iter数 ： 90 => cross entropy : 1.880414571702655\n",
      "(train) iter数 ： 120 => cross entropy : 1.4013735585531055\n",
      "  (val) iter数 ： 120 => cross entropy : 1.3925159005929193\n",
      "(train) iter数 ： 150 => cross entropy : 1.1023070720044856\n",
      "  (val) iter数 ： 150 => cross entropy : 1.041642223681998\n",
      "(train) iter数 ： 180 => cross entropy : 0.7160913394766756\n",
      "  (val) iter数 ： 180 => cross entropy : 0.7524119998000308\n",
      "(train) iter数 ： 210 => cross entropy : 0.5946295533138887\n",
      "  (val) iter数 ： 210 => cross entropy : 0.8070199889037867\n",
      "(train) iter数 ： 240 => cross entropy : 0.5579828098020251\n",
      "  (val) iter数 ： 240 => cross entropy : 0.587085266042983\n",
      "(train) iter数 ： 270 => cross entropy : 0.5239327941956312\n",
      "  (val) iter数 ： 270 => cross entropy : 0.45102880899998254\n",
      "(train) iter数 ： 300 => cross entropy : 0.5781487252848309\n",
      "  (val) iter数 ： 300 => cross entropy : 0.4675057947115542\n",
      "(train) iter数 ： 330 => cross entropy : 0.5920705495290027\n",
      "  (val) iter数 ： 330 => cross entropy : 0.7318855752556856\n",
      "(train) iter数 ： 360 => cross entropy : 0.40328661784956144\n",
      "  (val) iter数 ： 360 => cross entropy : 0.41363068793040747\n",
      "(train) iter数 ： 390 => cross entropy : 0.4456853145636166\n",
      "  (val) iter数 ： 390 => cross entropy : 0.46692486423127993\n",
      "(train) iter数 ： 420 => cross entropy : 0.3584814729965068\n",
      "  (val) iter数 ： 420 => cross entropy : 0.44720759525204673\n",
      "(train) iter数 ： 450 => cross entropy : 0.2436888505937767\n",
      "  (val) iter数 ： 450 => cross entropy : 0.30116736065832816\n",
      "(train) iter数 ： 480 => cross entropy : 0.3687949676474885\n",
      "  (val) iter数 ： 480 => cross entropy : 0.32074427240854214\n",
      "(train) iter数 ： 510 => cross entropy : 0.16486078606875\n",
      "  (val) iter数 ： 510 => cross entropy : 0.24582544166699596\n",
      "(train) iter数 ： 540 => cross entropy : 0.2545161744353059\n",
      "  (val) iter数 ： 540 => cross entropy : 0.419815490227393\n",
      "(train) iter数 ： 570 => cross entropy : 0.49167839687585463\n",
      "  (val) iter数 ： 570 => cross entropy : 0.2541153914530797\n"
     ]
    },
    {
     "name": "stderr",
     "output_type": "stream",
     "text": [
      " 50%|█████     | 1/2 [00:24<00:24, 24.86s/it]"
     ]
    },
    {
     "name": "stdout",
     "output_type": "stream",
     "text": [
      "(train) iter数 ： 600 => cross entropy : 0.5321903755625433\n",
      "  (val) iter数 ： 600 => cross entropy : 0.373734842376763\n",
      "(train) iter数 ： 30 => cross entropy : 0.2824099071361208\n",
      "  (val) iter数 ： 30 => cross entropy : 0.32260385748910814\n",
      "(train) iter数 ： 60 => cross entropy : 0.26670396066081825\n",
      "  (val) iter数 ： 60 => cross entropy : 0.37932541908841055\n",
      "(train) iter数 ： 90 => cross entropy : 0.37098954506416465\n",
      "  (val) iter数 ： 90 => cross entropy : 0.5829235392815086\n",
      "(train) iter数 ： 120 => cross entropy : 0.27045667907767984\n",
      "  (val) iter数 ： 120 => cross entropy : 0.4147348546756073\n",
      "(train) iter数 ： 150 => cross entropy : 0.24523518589310078\n",
      "  (val) iter数 ： 150 => cross entropy : 0.24356703269031615\n",
      "(train) iter数 ： 180 => cross entropy : 0.25592085995894215\n",
      "  (val) iter数 ： 180 => cross entropy : 0.23420503330034373\n",
      "(train) iter数 ： 210 => cross entropy : 0.2600858405779724\n",
      "  (val) iter数 ： 210 => cross entropy : 0.1572025851844861\n",
      "(train) iter数 ： 240 => cross entropy : 0.28408192818105754\n",
      "  (val) iter数 ： 240 => cross entropy : 0.1718358991935357\n",
      "(train) iter数 ： 270 => cross entropy : 0.3433452179331493\n",
      "  (val) iter数 ： 270 => cross entropy : 0.20738443915809826\n",
      "(train) iter数 ： 300 => cross entropy : 0.38209441454769527\n",
      "  (val) iter数 ： 300 => cross entropy : 0.3345097285826834\n",
      "(train) iter数 ： 330 => cross entropy : 0.3801437433819024\n",
      "  (val) iter数 ： 330 => cross entropy : 0.3750330183545986\n",
      "(train) iter数 ： 360 => cross entropy : 0.24004255288111961\n",
      "  (val) iter数 ： 360 => cross entropy : 0.18588065560851896\n",
      "(train) iter数 ： 390 => cross entropy : 0.2658399556873912\n",
      "  (val) iter数 ： 390 => cross entropy : 0.23753780855649792\n",
      "(train) iter数 ： 420 => cross entropy : 0.23553785458505067\n",
      "  (val) iter数 ： 420 => cross entropy : 0.30040456225157974\n",
      "(train) iter数 ： 450 => cross entropy : 0.1740570471294447\n",
      "  (val) iter数 ： 450 => cross entropy : 0.23577008355347584\n",
      "(train) iter数 ： 480 => cross entropy : 0.2614767645702287\n",
      "  (val) iter数 ： 480 => cross entropy : 0.25184924851099605\n",
      "(train) iter数 ： 510 => cross entropy : 0.09536900633323411\n",
      "  (val) iter数 ： 510 => cross entropy : 0.23914681927264225\n",
      "(train) iter数 ： 540 => cross entropy : 0.15395091913405556\n",
      "  (val) iter数 ： 540 => cross entropy : 0.1466686835159979\n",
      "(train) iter数 ： 570 => cross entropy : 0.3897120602284355\n",
      "  (val) iter数 ： 570 => cross entropy : 0.112165120130924\n"
     ]
    },
    {
     "name": "stderr",
     "output_type": "stream",
     "text": [
      "100%|██████████| 2/2 [00:50<00:00, 25.16s/it]"
     ]
    },
    {
     "name": "stdout",
     "output_type": "stream",
     "text": [
      "(train) iter数 ： 600 => cross entropy : 0.38090888157555014\n",
      "  (val) iter数 ： 600 => cross entropy : 0.48520645466905576\n"
     ]
    },
    {
     "name": "stderr",
     "output_type": "stream",
     "text": [
      "\n"
     ]
    }
   ],
   "source": [
    "model_3 = ScratchDeepNeuralNetrowkClassifier(epoch=2, batch_size=80 , n_nodes=(400, 200), lr=0.01, activation=\"Sigmoid\", initializer=\"Xavier\", optimizer=\"AdaGrad\", sigma=None)\n",
    "model_3.fit(X_train, y_train, X_val, y_val)"
   ]
  },
  {
   "cell_type": "code",
   "execution_count": 145,
   "metadata": {},
   "outputs": [
    {
     "data": {
      "text/plain": [
       "0.9111666666666667"
      ]
     },
     "execution_count": 145,
     "metadata": {},
     "output_type": "execute_result"
    }
   ],
   "source": [
    "# 予測\n",
    "y_pred_3 = model_3.predict(X_val)[0]\n",
    "# onehot化していたのでラベルに直す\n",
    "y_val_3 = np.argmax(y_val, axis=1)\n",
    "# 正解率\n",
    "accuracy_score(y_val_3, y_pred_3)"
   ]
  },
  {
   "cell_type": "code",
   "execution_count": 146,
   "metadata": {},
   "outputs": [
    {
     "data": {
      "text/plain": [
       "<matplotlib.legend.Legend at 0x1a98049a90>"
      ]
     },
     "execution_count": 146,
     "metadata": {},
     "output_type": "execute_result"
    },
    {
     "data": {
      "image/png": "[encoded data removed]",
      "text/plain": [
       "<Figure size 432x288 with 1 Axes>"
      ]
     },
     "metadata": {
      "needs_background": "light"
     },
     "output_type": "display_data"
    }
   ],
   "source": [
    "plt.plot([i*30 for i in range(40)],model_3.L_log,label=\"train\")\n",
    "plt.plot([i*30 for i in range(40)],model_3.L_val_log,label=\"val\")\n",
    "plt.xlabel(\"iter\")\n",
    "plt.ylabel(\"cross entropy\")\n",
    "plt.legend()"
   ]
  },
  {
   "cell_type": "code",
   "execution_count": 149,
   "metadata": {},
   "outputs": [
    {
     "name": "stderr",
     "output_type": "stream",
     "text": [
      "  0%|          | 0/2 [00:00<?, ?it/s]"
     ]
    },
    {
     "name": "stdout",
     "output_type": "stream",
     "text": [
      "(train) iter数 ： 30 => cross entropy : 1.5690854923028839\n",
      "  (val) iter数 ： 30 => cross entropy : 1.804130178794527\n",
      "(train) iter数 ： 60 => cross entropy : 2.0170308842703975\n",
      "  (val) iter数 ： 60 => cross entropy : 1.929366052349652\n",
      "(train) iter数 ： 90 => cross entropy : 1.2809910991680966\n",
      "  (val) iter数 ： 90 => cross entropy : 1.5650697548298425\n",
      "(train) iter数 ： 120 => cross entropy : 0.9577245475025716\n",
      "  (val) iter数 ： 120 => cross entropy : 1.1400602465624974\n",
      "(train) iter数 ： 150 => cross entropy : 0.7734254468937738\n",
      "  (val) iter数 ： 150 => cross entropy : 0.7975730870718887\n",
      "(train) iter数 ： 180 => cross entropy : 0.5712886728803855\n",
      "  (val) iter数 ： 180 => cross entropy : 0.7437539440954972\n",
      "(train) iter数 ： 210 => cross entropy : 0.6509067557302758\n",
      "  (val) iter数 ： 210 => cross entropy : 0.5934373896489501\n",
      "(train) iter数 ： 240 => cross entropy : 0.3325614692566723\n",
      "  (val) iter数 ： 240 => cross entropy : 0.16505582940948257\n",
      "(train) iter数 ： 270 => cross entropy : 0.47654096902454485\n",
      "  (val) iter数 ： 270 => cross entropy : 0.6666227617042422\n",
      "(train) iter数 ： 300 => cross entropy : 0.4841488910005358\n",
      "  (val) iter数 ： 300 => cross entropy : 0.4526845523596797\n",
      "(train) iter数 ： 330 => cross entropy : 0.3697990448688526\n",
      "  (val) iter数 ： 330 => cross entropy : 0.3240921930765494\n",
      "(train) iter数 ： 360 => cross entropy : 0.28616344647394043\n",
      "  (val) iter数 ： 360 => cross entropy : 0.9633412472267828\n",
      "(train) iter数 ： 390 => cross entropy : 0.1803440056248342\n",
      "  (val) iter数 ： 390 => cross entropy : 0.38533634557613616\n",
      "(train) iter数 ： 420 => cross entropy : 0.3150391759915388\n",
      "  (val) iter数 ： 420 => cross entropy : 0.2744236369599408\n",
      "(train) iter数 ： 450 => cross entropy : 0.139988700134087\n",
      "  (val) iter数 ： 450 => cross entropy : 0.3655340165946995\n",
      "(train) iter数 ： 480 => cross entropy : 0.15717635406942604\n",
      "  (val) iter数 ： 480 => cross entropy : 0.2086566803231368\n",
      "(train) iter数 ： 510 => cross entropy : 0.11223429938268654\n",
      "  (val) iter数 ： 510 => cross entropy : 0.251183936875629\n",
      "(train) iter数 ： 540 => cross entropy : 0.14012758480568197\n",
      "  (val) iter数 ： 540 => cross entropy : 0.3426430748358653\n",
      "(train) iter数 ： 570 => cross entropy : 0.31213498506726967\n",
      "  (val) iter数 ： 570 => cross entropy : 0.22163178602168046\n"
     ]
    },
    {
     "name": "stderr",
     "output_type": "stream",
     "text": [
      " 50%|█████     | 1/2 [00:22<00:22, 22.29s/it]"
     ]
    },
    {
     "name": "stdout",
     "output_type": "stream",
     "text": [
      "(train) iter数 ： 600 => cross entropy : 0.32764315325451293\n",
      "  (val) iter数 ： 600 => cross entropy : 0.30668926654966544\n",
      "(train) iter数 ： 30 => cross entropy : 0.27336247390359397\n",
      "  (val) iter数 ： 30 => cross entropy : 0.21215721218620642\n",
      "(train) iter数 ： 60 => cross entropy : 0.28990334027881354\n",
      "  (val) iter数 ： 60 => cross entropy : 0.36583454157284256\n",
      "(train) iter数 ： 90 => cross entropy : 0.1731442239502865\n",
      "  (val) iter数 ： 90 => cross entropy : 0.2427961594884777\n",
      "(train) iter数 ： 120 => cross entropy : 0.31854449526184103\n",
      "  (val) iter数 ： 120 => cross entropy : 0.13534871273317597\n",
      "(train) iter数 ： 150 => cross entropy : 0.10521767764690555\n",
      "  (val) iter数 ： 150 => cross entropy : 0.1702301702853447\n",
      "(train) iter数 ： 180 => cross entropy : 0.1498403601710556\n",
      "  (val) iter数 ： 180 => cross entropy : 0.1386952289689047\n",
      "(train) iter数 ： 210 => cross entropy : 0.16782908713705108\n",
      "  (val) iter数 ： 210 => cross entropy : 0.20370592842580965\n",
      "(train) iter数 ： 240 => cross entropy : 0.25348667529085395\n",
      "  (val) iter数 ： 240 => cross entropy : 0.11714105943607547\n",
      "(train) iter数 ： 270 => cross entropy : 0.29763038458196267\n",
      "  (val) iter数 ： 270 => cross entropy : 0.08495203078575964\n",
      "(train) iter数 ： 300 => cross entropy : 0.23202824586990714\n",
      "  (val) iter数 ： 300 => cross entropy : 0.21737231347070712\n",
      "(train) iter数 ： 330 => cross entropy : 0.195343189552736\n",
      "  (val) iter数 ： 330 => cross entropy : 0.12370302659509153\n",
      "(train) iter数 ： 360 => cross entropy : 0.049083593199706385\n",
      "  (val) iter数 ： 360 => cross entropy : 0.15362543447452118\n",
      "(train) iter数 ： 390 => cross entropy : 0.12611841380830682\n",
      "  (val) iter数 ： 390 => cross entropy : 0.21940915819898305\n",
      "(train) iter数 ： 420 => cross entropy : 0.23205519628073457\n",
      "  (val) iter数 ： 420 => cross entropy : 0.40266517953981196\n",
      "(train) iter数 ： 450 => cross entropy : 0.03966612502457017\n",
      "  (val) iter数 ： 450 => cross entropy : 0.19098472618792203\n",
      "(train) iter数 ： 480 => cross entropy : 0.07120710025599948\n",
      "  (val) iter数 ： 480 => cross entropy : 0.22457422014352624\n",
      "(train) iter数 ： 510 => cross entropy : 0.04564497352857211\n",
      "  (val) iter数 ： 510 => cross entropy : 0.2641380494439682\n",
      "(train) iter数 ： 540 => cross entropy : 0.09873976717884672\n",
      "  (val) iter数 ： 540 => cross entropy : 0.25894792965225094\n",
      "(train) iter数 ： 570 => cross entropy : 0.2354118288794922\n",
      "  (val) iter数 ： 570 => cross entropy : 0.1324701768477913\n"
     ]
    },
    {
     "name": "stderr",
     "output_type": "stream",
     "text": [
      "100%|██████████| 2/2 [00:45<00:00, 22.59s/it]"
     ]
    },
    {
     "name": "stdout",
     "output_type": "stream",
     "text": [
      "(train) iter数 ： 600 => cross entropy : 0.13668831933217396\n",
      "  (val) iter数 ： 600 => cross entropy : 0.049920676795933816\n"
     ]
    },
    {
     "name": "stderr",
     "output_type": "stream",
     "text": [
      "\n"
     ]
    }
   ],
   "source": [
    "model_4 = ScratchDeepNeuralNetrowkClassifier(epoch=2, batch_size=80 , n_nodes=(400, 200 ,100), lr=0.01, activation=\"ReLU\", initializer=\"He\", optimizer=\"AdaGrad\", sigma=None)\n",
    "model_4.fit(X_train, y_train, X_val, y_val)"
   ]
  },
  {
   "cell_type": "code",
   "execution_count": 150,
   "metadata": {},
   "outputs": [
    {
     "data": {
      "text/plain": [
       "0.9621666666666666"
      ]
     },
     "execution_count": 150,
     "metadata": {},
     "output_type": "execute_result"
    }
   ],
   "source": [
    "# 予測\n",
    "y_pred_4 = model_4.predict(X_val)[0]\n",
    "# onehot化していたのでラベルに直す\n",
    "y_val_4 = np.argmax(y_val, axis=1)\n",
    "# 正解率\n",
    "accuracy_score(y_val_4, y_pred_4)"
   ]
  },
  {
   "cell_type": "code",
   "execution_count": 151,
   "metadata": {},
   "outputs": [
    {
     "data": {
      "text/plain": [
       "<matplotlib.legend.Legend at 0x1aa073e510>"
      ]
     },
     "execution_count": 151,
     "metadata": {},
     "output_type": "execute_result"
    },
    {
     "data": {
      "image/png": "[encoded data removed]",
      "text/plain": [
       "<Figure size 432x288 with 1 Axes>"
      ]
     },
     "metadata": {
      "needs_background": "light"
     },
     "output_type": "display_data"
    }
   ],
   "source": [
    "plt.plot([i*30 for i in range(40)],model_4.L_log,label=\"train\")\n",
    "plt.plot([i*30 for i in range(40)],model_4.L_val_log,label=\"val\")\n",
    "plt.xlabel(\"iter\")\n",
    "plt.ylabel(\"cross entropy\")\n",
    "plt.legend()"
   ]
  },
  {
   "cell_type": "code",
   "execution_count": 154,
   "metadata": {},
   "outputs": [
    {
     "name": "stderr",
     "output_type": "stream",
     "text": [
      "\n",
      "\n",
      "  0%|          | 0/2 [00:00<?, ?it/s]\u001b[A\u001b[A"
     ]
    },
    {
     "name": "stdout",
     "output_type": "stream",
     "text": [
      "(train) iter数 ： 30 => cross entropy : 0.7291010957154471\n",
      "  (val) iter数 ： 30 => cross entropy : 0.6661516347491538\n",
      "(train) iter数 ： 60 => cross entropy : 0.4212777402746595\n",
      "  (val) iter数 ： 60 => cross entropy : 0.47497978595860446\n",
      "(train) iter数 ： 90 => cross entropy : 0.49420602773668226\n",
      "  (val) iter数 ： 90 => cross entropy : 0.3619348185314291\n",
      "(train) iter数 ： 120 => cross entropy : 0.2861223768418821\n",
      "  (val) iter数 ： 120 => cross entropy : 0.303762927715478\n",
      "(train) iter数 ： 150 => cross entropy : 0.2972640251789452\n",
      "  (val) iter数 ： 150 => cross entropy : 0.2794760036193636\n",
      "(train) iter数 ： 180 => cross entropy : 0.30273665979527586\n",
      "  (val) iter数 ： 180 => cross entropy : 0.11692176218899819\n",
      "(train) iter数 ： 210 => cross entropy : 0.22149800534172887\n",
      "  (val) iter数 ： 210 => cross entropy : 0.37431612621387444\n",
      "(train) iter数 ： 240 => cross entropy : 0.22570634759586025\n",
      "  (val) iter数 ： 240 => cross entropy : 0.10834312087753895\n",
      "(train) iter数 ： 270 => cross entropy : 0.2975601805361933\n",
      "  (val) iter数 ： 270 => cross entropy : 0.15371407423099923\n",
      "(train) iter数 ： 300 => cross entropy : 0.31477722404378894\n",
      "  (val) iter数 ： 300 => cross entropy : 0.22668323904331156\n",
      "(train) iter数 ： 330 => cross entropy : 0.30442608296257523\n",
      "  (val) iter数 ： 330 => cross entropy : 0.2941954095202945\n",
      "(train) iter数 ： 360 => cross entropy : 0.18461313932242643\n",
      "  (val) iter数 ： 360 => cross entropy : 0.15895859980810836\n",
      "(train) iter数 ： 390 => cross entropy : 0.18911235328253967\n",
      "  (val) iter数 ： 390 => cross entropy : 0.17979587768398902\n",
      "(train) iter数 ： 420 => cross entropy : 0.1934951779079345\n",
      "  (val) iter数 ： 420 => cross entropy : 0.3065552160367435\n",
      "(train) iter数 ： 450 => cross entropy : 0.0950136943159561\n",
      "  (val) iter数 ： 450 => cross entropy : 0.27210299337457666\n",
      "(train) iter数 ： 480 => cross entropy : 0.11165031096931699\n",
      "  (val) iter数 ： 480 => cross entropy : 0.09621430991511704\n",
      "(train) iter数 ： 510 => cross entropy : 0.06339315328907018\n",
      "  (val) iter数 ： 510 => cross entropy : 0.17120496907159694\n",
      "(train) iter数 ： 540 => cross entropy : 0.16858132573040818\n",
      "  (val) iter数 ： 540 => cross entropy : 0.4134974919878085\n",
      "(train) iter数 ： 570 => cross entropy : 0.28890987066114493\n",
      "  (val) iter数 ： 570 => cross entropy : 0.14342951806408394\n"
     ]
    },
    {
     "name": "stderr",
     "output_type": "stream",
     "text": [
      "\n",
      "\n",
      " 50%|█████     | 1/2 [00:22<00:22, 22.75s/it]\u001b[A\u001b[A"
     ]
    },
    {
     "name": "stdout",
     "output_type": "stream",
     "text": [
      "(train) iter数 ： 600 => cross entropy : 0.24777711520084233\n",
      "  (val) iter数 ： 600 => cross entropy : 0.1729769840351895\n",
      "(train) iter数 ： 30 => cross entropy : 0.14051190106168798\n",
      "  (val) iter数 ： 30 => cross entropy : 0.07803980673987782\n",
      "(train) iter数 ： 60 => cross entropy : 0.09709997901019177\n",
      "  (val) iter数 ： 60 => cross entropy : 0.30664382596190737\n",
      "(train) iter数 ： 90 => cross entropy : 0.15537720415552683\n",
      "  (val) iter数 ： 90 => cross entropy : 0.1336681830922414\n",
      "(train) iter数 ： 120 => cross entropy : 0.14329568708711599\n",
      "  (val) iter数 ： 120 => cross entropy : 0.14508106042269486\n",
      "(train) iter数 ： 150 => cross entropy : 0.06903782218286757\n",
      "  (val) iter数 ： 150 => cross entropy : 0.31930081892392015\n",
      "(train) iter数 ： 180 => cross entropy : 0.12394458508708227\n",
      "  (val) iter数 ： 180 => cross entropy : 0.11749129893714437\n",
      "(train) iter数 ： 210 => cross entropy : 0.12458581343139899\n",
      "  (val) iter数 ： 210 => cross entropy : 0.09456544126749036\n",
      "(train) iter数 ： 240 => cross entropy : 0.14954889683421155\n",
      "  (val) iter数 ： 240 => cross entropy : 0.2217504986782661\n",
      "(train) iter数 ： 270 => cross entropy : 0.20829990425999081\n",
      "  (val) iter数 ： 270 => cross entropy : 0.07457926919653161\n",
      "(train) iter数 ： 300 => cross entropy : 0.16492678593136023\n",
      "  (val) iter数 ： 300 => cross entropy : 0.17275776714449328\n",
      "(train) iter数 ： 330 => cross entropy : 0.25176624567246364\n",
      "  (val) iter数 ： 330 => cross entropy : 0.13035904418322483\n",
      "(train) iter数 ： 360 => cross entropy : 0.06886100402209303\n",
      "  (val) iter数 ： 360 => cross entropy : 0.27422395504293323\n",
      "(train) iter数 ： 390 => cross entropy : 0.11852755460275805\n",
      "  (val) iter数 ： 390 => cross entropy : 0.14531495884490755\n",
      "(train) iter数 ： 420 => cross entropy : 0.1544158153515773\n",
      "  (val) iter数 ： 420 => cross entropy : 0.06660128150061854\n",
      "(train) iter数 ： 450 => cross entropy : 0.049568093746994835\n",
      "  (val) iter数 ： 450 => cross entropy : 0.1801965116656568\n",
      "(train) iter数 ： 480 => cross entropy : 0.04745865563241741\n",
      "  (val) iter数 ： 480 => cross entropy : 0.13478194494834086\n",
      "(train) iter数 ： 510 => cross entropy : 0.030891108318297986\n",
      "  (val) iter数 ： 510 => cross entropy : 0.16846444080990686\n",
      "(train) iter数 ： 540 => cross entropy : 0.0770628644062398\n",
      "  (val) iter数 ： 540 => cross entropy : 0.15621734050276675\n",
      "(train) iter数 ： 570 => cross entropy : 0.20913228169800627\n",
      "  (val) iter数 ： 570 => cross entropy : 0.1628943195207928\n"
     ]
    },
    {
     "name": "stderr",
     "output_type": "stream",
     "text": [
      "\n",
      "\n",
      "100%|██████████| 2/2 [00:46<00:00, 23.37s/it]\u001b[A\u001b[A"
     ]
    },
    {
     "name": "stdout",
     "output_type": "stream",
     "text": [
      "(train) iter数 ： 600 => cross entropy : 0.10355477276500424\n",
      "  (val) iter数 ： 600 => cross entropy : 0.11842621256597137\n"
     ]
    },
    {
     "name": "stderr",
     "output_type": "stream",
     "text": [
      "\n"
     ]
    }
   ],
   "source": [
    "model_5 = ScratchDeepNeuralNetrowkClassifier(epoch=2, batch_size=80 , n_nodes=(400, 200 ,200,100), lr=0.001, activation=\"ReLU\", initializer=\"He\", optimizer=\"AdaGrad\", sigma=None)\n",
    "model_5.fit(X_train, y_train, X_val, y_val)"
   ]
  },
  {
   "cell_type": "code",
   "execution_count": 155,
   "metadata": {},
   "outputs": [
    {
     "data": {
      "text/plain": [
       "0.961"
      ]
     },
     "execution_count": 155,
     "metadata": {},
     "output_type": "execute_result"
    }
   ],
   "source": [
    "# 予測\n",
    "y_pred_5 = model_5.predict(X_val)[0]\n",
    "# onehot化していたのでラベルに直す\n",
    "y_val_5 = np.argmax(y_val, axis=1)\n",
    "# 正解率\n",
    "accuracy_score(y_val_5, y_pred_5)"
   ]
  }
 ],
 "metadata": {
  "kernelspec": {
   "display_name": "Python 3",
   "language": "python",
   "name": "python3"
  },
  "language_info": {
   "codemirror_mode": {
    "name": "ipython",
    "version": 3
   },
   "file_extension": ".py",
   "mimetype": "text/x-python",
   "name": "python",
   "nbconvert_exporter": "python",
   "pygments_lexer": "ipython3",
   "version": "3.7.4"
  }
 },
 "nbformat": 4,
 "nbformat_minor": 4
}
