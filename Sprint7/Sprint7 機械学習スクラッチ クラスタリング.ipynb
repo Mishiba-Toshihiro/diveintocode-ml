{
 "cells": [
  {
   "cell_type": "markdown",
   "metadata": {},
   "source": [
    "### K-meansスクラッチ\n",
    "\n",
    "K-meansのクラスをスクラッチで作成していきます。NumPyなど最低限のライブラリのみを使いアルゴリズムを実装していきます。\n",
    "\n",
    "\n",
    "以下に雛形を用意してあります。このScratchKMeansクラスにコードを書き加えていってください。"
   ]
  },
  {
   "cell_type": "code",
   "execution_count": 4,
   "metadata": {},
   "outputs": [],
   "source": [
    "import numpy as np\n",
    "import pandas as pd\n",
    "import matplotlib.pyplot as plt\n",
    "%matplotlib inline\n",
    "from sklearn.model_selection import train_test_split\n",
    "from sklearn.preprocessing import StandardScaler\n",
    "import math\n",
    "from sklearn.metrics import accuracy_score\n",
    "from sklearn.metrics import precision_score\n",
    "from sklearn.metrics import recall_score\n",
    "from sklearn.metrics import f1_score\n",
    "from sklearn.metrics import confusion_matrix\n",
    "import statistics\n",
    "from scipy import stats\n",
    "import collections\n",
    "import random"
   ]
  },
  {
   "cell_type": "code",
   "execution_count": 5,
   "metadata": {},
   "outputs": [],
   "source": [
    "class ScratchKMeans():\n",
    "    \"\"\"\n",
    "    K-meansのスクラッチ実装\n",
    "\n",
    "    Parameters\n",
    "    ----------\n",
    "    n_clusters : int\n",
    "      クラスタ数\n",
    "    n_init : int\n",
    "      中心点の初期値を何回変えて計算するか\n",
    "    max_iter : int\n",
    "      1回の計算で最大何イテレーションするか\n",
    "    tol : float\n",
    "      イテレーションを終了する基準となる中心点と重心の許容誤差\n",
    "    verbose : bool\n",
    "      学習過程を出力する場合はTrue\n",
    "    \"\"\"\n",
    "    def __init__(self, n_clusters, n_init, max_iter, tol, verbose=False):\n",
    "        # ハイパーパラメータを属性として記録\n",
    "        self.n_clusters = n_clusters\n",
    "        self.n_init = n_init\n",
    "        self.max_iter = max_iter\n",
    "        self.tol = tol\n",
    "        self.verbose = verbose\n",
    "        self.center_log = []\n",
    "        self.sse_log = []\n",
    "        \n",
    "    def fit(self, X):\n",
    "        \"\"\"\n",
    "        K-meansによるクラスタリングを計算\n",
    "        Parameters\n",
    "        ----------\n",
    "        X : 次の形のndarray, shape (n_samples, n_features)\n",
    "            訓練データの特徴量\n",
    "        \"\"\"\n",
    "        n_samples = len(X)\n",
    "        self.center_log = []\n",
    "        \n",
    "        for l in range(self.n_init):\n",
    "            idx = np.random.randint(0,n_samples,self.n_clusters)    #ランダムな行インデックスの生成\n",
    "            center_n = X[idx,:] # n個のクラスタ中心点の初期値を抽出\n",
    "            \n",
    "            for i in range(self.max_iter):\n",
    "                clusters = self.wariate(X,center_n) #クラスタの割当\n",
    "                next_center_n = self.center_move(X,center_n,clusters) # 新たな重心位置を中心とする\n",
    "                gosa = np.linalg.norm(next_center_n - center_n, axis=1)\n",
    "                center_n = next_center_n\n",
    "                if all(gosa<=self.tol):\n",
    "                    break\n",
    "\n",
    "                    \n",
    "            sse = self.sse(X, center_n, clusters) #最終的なsseを算出\n",
    "            self.sse_log.append(sse) #ある初期値での最終的なsse結果を記録しておく\n",
    "            self.center_log.append(center_n) #ある初期値での最終的な中心点の結果を記録しておく\n",
    "            \n",
    "        if self.verbose:# verboseをTrueにした際は学習過程を出力\n",
    "            print(\"SSE（各初期値ごと）: \\n{}\\n\".format(self.sse_log))\n",
    "            print(\"クラスタ中心点（各初期値ごと）:\\n {}\".format(self.center_log))\n",
    "\n",
    "        self.min_sse = np.min(self.sse_log)\n",
    "        self.min_center = self.center_log[np.argmin(self.sse_log)]\n",
    "        \n",
    "        \n",
    "    def predict(self, X):\n",
    "        \"\"\"\n",
    "        入力されたデータがどのクラスタに属するかを計算\n",
    "        \"\"\"\n",
    "        norm = np.ones((len(X),self.n_clusters))*100\n",
    "        \n",
    "        for k in range(self.n_clusters):\n",
    "            for i in range(len(X)):\n",
    "                norm[i][k] = np.linalg.norm(X[i]-self.min_center[k])\n",
    "\n",
    "        clusters_lavel = np.argmin(norm,axis=1)  # (n,)に各クラスタラベル（０〜k-1）が割り振られている\n",
    "        return clusters_lavel\n",
    "    \n",
    "    \n",
    "    def sse(self,X, center_n, clusters):\n",
    "        \n",
    "        sse = 0\n",
    "        for k in range(self.n_clusters):\n",
    "            index=np.where(clusters==k)  #各クラスタに該当するインデックスを取得\n",
    "            sse += sum((np.linalg.norm(X[index]-center_n[k],axis=1))**2)   #各クラスタでのsseを計算して最終的に全クラスタ分の和を求める\n",
    "        \n",
    "        return sse\n",
    "    \n",
    "    \n",
    "    \n",
    "    def wariate(self,X,center_n):\n",
    "    \n",
    "        norm = np.ones((len(X),self.n_clusters))*100\n",
    "        \n",
    "        for k in range(self.n_clusters):\n",
    "            for i in range(len(X)):\n",
    "                norm[i][k] = np.linalg.norm(X[i]-center_n[k])\n",
    "\n",
    "        \n",
    "        clusters = np.argmin(norm,axis=1)  # (n,)に各クラスタラベル（０〜k-1）が割り振られている\n",
    "        return clusters\n",
    "    \n",
    "    \n",
    "    def center_move(self, X, center_n, clusters): #新たに割り振られたクラスタの各重心を求める関数\n",
    "    \n",
    "        for k in range(self.n_clusters):\n",
    "            index = np.where(clusters == k)\n",
    "            center_n[k] = np.mean(X[index],axis=0)\n",
    "        \n",
    "        return center_n\n",
    "\n",
    "    \n",
    "    \n",
    "    def silhouette(self,X):\n",
    "        \n",
    "        norm = np.ones((len(X),self.n_clusters))*100\n",
    "        \n",
    "        for k in range(self.n_clusters):\n",
    "            for i in range(len(X)):\n",
    "                norm[i][k] = np.linalg.norm(X[i]-self.min_center[k])\n",
    "        clusters_lavel = np.argmin(norm,axis=1)  # (n,)に各クラスタラベル（０〜k-1）が割り振られている\n",
    "        \n",
    "        \n",
    "        a = np.zeros(len(X))\n",
    "        for i in range(len(X)):  # a(samples,) = 凝集度。同じクラスタ内の他のデータ点との距離の平均値。\n",
    "            self_lavel = np.argmin(np.linalg.norm(X[i]-self.min_center))\n",
    "            self_index = np.where(clusters_lavel==self_lavel)\n",
    "            a[i] = np.sum(np.linalg.norm(X[i]-X[self_index],axis=1))/(len(X[self_index])-1)\n",
    "        \n",
    "        b = np.zeros(len(X))\n",
    "        for i in range(len(X)):  # b(samples,) = 乖離度。最も近い他のクラスタ内の全てのデータ点との距離の平均値。\n",
    "            second_distance = np.linalg.norm(X[i]-self.min_center)\n",
    "            second_lavel = np.where(second_distance==np.sort(second_distance)[1])\n",
    "            second_index = np.where(clusters_lavel==second_lavel)\n",
    "            b[i] = np.sum(np.linalg.norm(X[i]-X[second_index],axis=1))/(len(X[second_index]))\n",
    "        \n",
    "        return b-a/(np.maximum(a,b))\n",
    "    \n",
    "class ScratchKMeans_erbor():\n",
    "    def __init__(self, X, n_clusters, n_init, max_iter, tol, verbose=False):\n",
    "        self.n_clusters = n_clusters\n",
    "        self.n_init = n_init\n",
    "        self.max_iter = max_iter\n",
    "        self.tol = tol\n",
    "        self.verbose = verbose\n",
    "        self.min_sse_clusters = []\n",
    "        \n",
    "        for i in range(1,self.n_clusters+1):\n",
    "            model = ScratchKMeans(n_clusters=i, n_init=self.n_init, max_iter=self.max_iter, tol=self.tol, verbose=False)\n",
    "            model.fit(X)\n",
    "            self.min_sse_clusters.append(model.min_sse)"
   ]
  },
  {
   "cell_type": "markdown",
   "metadata": {},
   "source": [
    "#### クラスタリングのための人工データセット\n",
    "クラスタリングを実験するための人工データセットを作成するコードを用意しています。\n",
    "\n",
    "\n",
    "このmake_blobs関数は正解ラベルも出力してますが、今回は使用しません。使用しないことを明示するために、 _（アンダースコア） で受け取っています。"
   ]
  },
  {
   "cell_type": "code",
   "execution_count": 6,
   "metadata": {},
   "outputs": [],
   "source": [
    "from sklearn.datasets import make_blobs\n",
    "X, _ = make_blobs(n_samples=100, n_features=2, centers=4, cluster_std=0.5, shuffle=True, random_state=0)"
   ]
  },
  {
   "cell_type": "markdown",
   "metadata": {},
   "source": [
    "### 【問題1】中心点の初期値を決める\n",
    "入力されたデータから \n",
    "K\n",
    " 個の中心点 \n",
    "μ\n",
    "1\n",
    " から \n",
    "μ\n",
    "K\n",
    " の初期値を決めるコードを作成してください。\n",
    "K\n",
    " は指定したクラスタ数です。\n",
    "\n",
    "\n",
    "最もシンプルな初期値の決定方法は、データ点 \n",
    "X\n",
    "n\n",
    " の中からランダムに \n",
    "K\n",
    " 個選ぶことです。今回はこれを実装してください。\n",
    "\n",
    "\n",
    "K-meansの学習結果は中心点 \n",
    "μ\n",
    " の初期値に影響を受けます。そのため、学習時には複数個の初期値で計算を行います。"
   ]
  },
  {
   "cell_type": "markdown",
   "metadata": {},
   "source": [
    "```python\n",
    "n_samples = len(X)\n",
    "idx = np.random.randint(0,n_samples,self.n_clusters)    #ランダムな行インデックスの生成\n",
    "center_n = X[idx,:] # n個のクラスタ中心点の初期値を抽出\n",
    "```"
   ]
  },
  {
   "cell_type": "markdown",
   "metadata": {},
   "source": [
    "### 【問題2】SSEを求める関数の作成\n",
    "クラスタ内誤差平方和（SSE, Sum of Squared Errors）を計算する関数を作成してください。\n",
    "\n",
    "\n",
    "K-meansはこのSSEを最小化する \n",
    "r\n",
    "n\n",
    "k\n",
    " と \n",
    "μ\n",
    "k\n",
    " を求めることが目的となります。複数個の初期値で計算したクラスタリング結果から、どれを最終的に採用するかを決める際にこのSSEを求める関数を使用します。\n",
    " \n",
    "$$\n",
    "SSE = \\sum_{n=1}^N \\sum_{k=1}^K r_{nk} \\|X_n - \\mu_k\\|^2\n",
    "$$\n",
    "\n",
    "クラスタの割り当てと中心点の移動を繰り返す\n",
    "K-meansの学習の基本は以下の2つのフェーズを繰り返すことです。\n",
    "\n",
    "\n",
    "中心点 \n",
    "μ\n",
    "k\n",
    " を固定した上で \n",
    "S\n",
    "S\n",
    "E\n",
    " を最小化する クラスタの割り当て \n",
    "r\n",
    "n\n",
    "k\n",
    " を選ぶ。\n",
    "クラスタの割り当て \n",
    "r\n",
    "n\n",
    "k\n",
    " を固定した上で \n",
    "S\n",
    "S\n",
    "E\n",
    " を最小化する 中心点 \n",
    "μ\n",
    "k\n",
    " を選ぶ。\n",
    "\n",
    "最初の中心点 \n",
    "μ\n",
    "k\n",
    " は問題1で作成した初期値です。\n",
    "\n",
    "\n",
    "順番に見ていきます。"
   ]
  },
  {
   "cell_type": "markdown",
   "metadata": {},
   "source": [
    "```python\n",
    "def sse(self,X, center_n, clusters):\n",
    "        \n",
    "        sse = 0\n",
    "        for k in range(self.n_clusters):\n",
    "            index=np.where(clusters==k)  #各クラスタに該当するインデックスを取得\n",
    "            sse += sum((np.linalg.norm(X[index]-center_n[k],axis=1))**2)   #各クラスタでのsseを計算して最終的に全クラスタ分の和を求める\n",
    "        \n",
    "        return sse\n",
    "```"
   ]
  },
  {
   "cell_type": "markdown",
   "metadata": {},
   "source": [
    "### 【問題3】クラスタへの割り当て\n",
    "全てのデータ点 \n",
    "X\n",
    "n\n",
    " を最も近い中心点 \n",
    "μ\n",
    "k\n",
    " に割り当てるコードを作成してください。\n",
    "\n",
    "\n",
    "K-menasにおける 近い とは点と点のユークリッド距離が小さくなることです。ユークリッド距離とはピタゴラスの定理（三平方の定理）で求められるものですが、ベクトル \n",
    "p\n",
    ",\n",
    "q\n",
    " に対しては以下の数式で表現できます。\n",
    " \n",
    "$$\n",
    "\\|q-p\\| = \\sqrt{(q-p)\\cdot(q-p)}\n",
    "$$\n",
    "\n",
    "NumPyにはこの関数がnp.linalg.normとして用意されているため使用してください。\n",
    "\n",
    "\n",
    "numpy.linalg.norm — NumPy v1.17 Manual\n",
    "\n",
    "\n",
    "中心点 \n",
    "μ\n",
    "k\n",
    " を固定した上でSSEを最小化していることになりますが、SSE自体を求める必要はありません。"
   ]
  },
  {
   "cell_type": "markdown",
   "metadata": {},
   "source": [
    "```python\n",
    "def wariate(self,X,center_n):\n",
    "    \n",
    "        norm = np.ones((len(X),self.n_clusters))*100\n",
    "        \n",
    "        for k in range(self.n_clusters):\n",
    "            for i in range(len(X)):\n",
    "                norm[i][k] = np.linalg.norm(X[i]-center_n[k])\n",
    "\n",
    "        \n",
    "        clusters = np.argmin(norm,axis=1)  # (n,)に各クラスタラベル（０〜k-1）が割り振られている\n",
    "        return clusters\n",
    "```"
   ]
  },
  {
   "cell_type": "markdown",
   "metadata": {},
   "source": [
    "### 【問題4】中心点の移動\n",
    "中心点 \n",
    "μ\n",
    "k\n",
    " を \n",
    "k\n",
    " 番目のクラスタに割り当てられる全てのデータ点 \n",
    "X\n",
    "n\n",
    " の平均値（重心）に移動するコードを作成してください。\n",
    "\n",
    "\n",
    "クラスタの割り当て \n",
    "r\n",
    "n\n",
    "k\n",
    " を固定した上でSSEを最小化していることになりますが、SSE自体を求める必要はありません。"
   ]
  },
  {
   "cell_type": "markdown",
   "metadata": {},
   "source": [
    "```python\n",
    "def center_move(self, X, center_n, clusters): #新たに割り振られたクラスタの各重心を求める関数\n",
    "    \n",
    "        for k in range(self.n_clusters):\n",
    "            index = np.where(clusters == k)\n",
    "            center_n[k] = np.mean(X[index],axis=0)\n",
    "        \n",
    "        return center_n\n",
    "```"
   ]
  },
  {
   "cell_type": "markdown",
   "metadata": {},
   "source": [
    "### 【問題5】繰り返し\n",
    "クラスタへの割り当てと中心点の移動を繰り返すことで学習を行うコードを作成してください。\n",
    "\n",
    "\n",
    "次のどれかの条件を満たしたらこれを止めます。\n",
    "\n",
    "\n",
    "繰り返しが指定した回数に到達する。（雛形では引数max_iter）\n",
    "中心点 \n",
    "μ\n",
    "k\n",
    " と重心の差の合計が指定した許容値以下になる。（雛形では引数tol）"
   ]
  },
  {
   "cell_type": "markdown",
   "metadata": {},
   "source": [
    "```python\n",
    "idx = np.random.randint(0,n_samples,self.n_clusters)    #ランダムな行インデックスの生成\n",
    "            center_n = X[idx,:] # n個のクラスタ中心点の初期値を抽出\n",
    "            \n",
    "            for i in range(self.max_iter):\n",
    "                clusters = self.wariate(X,center_n) #クラスタの割当\n",
    "                next_center_n = self.center_move(X,center_n,clusters) # 新たな重心位置を中心とする\n",
    "                gosa = np.linalg.norm(next_center_n - center_n, axis=1)\n",
    "                center_n = next_center_n\n",
    "                if all(gosa<=self.tol):\n",
    "                    break\n",
    "```"
   ]
  },
  {
   "cell_type": "markdown",
   "metadata": {},
   "source": [
    "### 【問題6】異なる初期値で計算\n",
    "問題5の繰り返しを、指定した回数初期値を変更して計算するコードを作成してください。回数は雛形では引数n_initで指定します。\n",
    "\n",
    "\n",
    "複数計算した中でSSEが最小になったものが最終的な学習結果となるため、その時の中心点 \n",
    "μ\n",
    "k\n",
    " を保持しておきます。"
   ]
  },
  {
   "cell_type": "markdown",
   "metadata": {},
   "source": [
    "```python\n",
    "n_samples = len(X)\n",
    "        self.center_log = []\n",
    "        \n",
    "        for l in range(self.n_init):\n",
    "            idx = np.random.randint(0,n_samples,self.n_clusters)    #ランダムな行インデックスの生成\n",
    "            center_n = X[idx,:] # n個のクラスタ中心点の初期値を抽出\n",
    "            \n",
    "            for i in range(self.max_iter):\n",
    "                clusters = self.wariate(X,center_n) #クラスタの割当\n",
    "                next_center_n = self.center_move(X,center_n,clusters) # 新たな重心位置を中心とする\n",
    "                gosa = np.linalg.norm(next_center_n - center_n, axis=1)\n",
    "                center_n = next_center_n\n",
    "                if all(gosa<=self.tol):\n",
    "                    break\n",
    "\n",
    "                    \n",
    "            sse = self.sse(X, center_n, clusters) #最終的なsseを算出\n",
    "            self.sse_log.append(sse) #ある初期値での最終的なsse結果を記録しておく\n",
    "            self.center_log.append(center_n) #ある初期値での最終的な中心点の結果を記録しておく\n",
    "```"
   ]
  },
  {
   "cell_type": "markdown",
   "metadata": {},
   "source": [
    "### 【問題7】推定\n",
    "新たなデータに対してどのクラスタに所属するかの推定の際は、学習時の1つ目のフェーズと同じことを行います。\n",
    "\n",
    "\n",
    "データ点 \n",
    "X\n",
    "n\n",
    " と学習で決まった中心点 \n",
    "μ\n",
    "k\n",
    " に対し、 \n",
    "S\n",
    "S\n",
    "E\n",
    " を最小化する \n",
    "r\n",
    "n\n",
    "k\n",
    " を選ぶ。\n",
    "\n",
    "具体的には次のことです。\n",
    "\n",
    "\n",
    "データ点 \n",
    "X\n",
    "n\n",
    " を最も近い \n",
    "μ\n",
    "k\n",
    " に割り当てる。"
   ]
  },
  {
   "cell_type": "code",
   "execution_count": 7,
   "metadata": {},
   "outputs": [
    {
     "name": "stderr",
     "output_type": "stream",
     "text": [
      "/Users/mishibatoshihiro/.pyenv/versions/anaconda3-2019.10/lib/python3.7/site-packages/numpy/core/fromnumeric.py:3257: RuntimeWarning: Mean of empty slice.\n",
      "  out=out, **kwargs)\n",
      "/Users/mishibatoshihiro/.pyenv/versions/anaconda3-2019.10/lib/python3.7/site-packages/numpy/core/_methods.py:154: RuntimeWarning: invalid value encountered in true_divide\n",
      "  ret, rcount, out=ret, casting='unsafe', subok=False)\n",
      "/Users/mishibatoshihiro/.pyenv/versions/anaconda3-2019.10/lib/python3.7/site-packages/ipykernel_launcher.py:48: RuntimeWarning: invalid value encountered in less_equal\n"
     ]
    },
    {
     "name": "stdout",
     "output_type": "stream",
     "text": [
      "SSE（各初期値ごと）: \n",
      "[48.63378320706403, 343.18019497311116, 870.2611797855423, 167.06043127240088, 51.67542294396517, 48.63378320706403]\n",
      "\n",
      "クラスタ中心点（各初期値ごと）:\n",
      " [array([[-1.26811733,  7.76378266],\n",
      "       [ 1.99186903,  0.96561071],\n",
      "       [ 0.92578447,  4.32475792],\n",
      "       [-1.47935679,  3.11716896]]), array([[ 1.92887559,  1.68019021],\n",
      "       [-0.03656003,  5.54482043],\n",
      "       [-1.7012988 ,  4.29479903],\n",
      "       [ 2.04601611,  0.615652  ]]), array([[       nan,        nan],\n",
      "       [0.04254484, 4.04283006],\n",
      "       [       nan,        nan],\n",
      "       [       nan,        nan]]), array([[-1.43400556,  3.17537772],\n",
      "       [-1.26811733,  7.76378266],\n",
      "       [ 1.55423154,  2.33369417],\n",
      "       [ 0.97107487,  4.98921512]]), array([[ 1.99186903,  0.96561071],\n",
      "       [-1.47795252,  3.16678795],\n",
      "       [-1.26811733,  7.76378266],\n",
      "       [ 0.92438019,  4.27513893]]), array([[-1.26811733,  7.76378266],\n",
      "       [ 0.92578447,  4.32475792],\n",
      "       [ 1.99186903,  0.96561071],\n",
      "       [-1.47935679,  3.11716896]])]\n"
     ]
    }
   ],
   "source": [
    "KMeans_model = ScratchKMeans(n_clusters=4, n_init=6, max_iter=300, tol=0.1, verbose=True)\n",
    "KMeans_model.fit(X)"
   ]
  },
  {
   "cell_type": "code",
   "execution_count": 8,
   "metadata": {},
   "outputs": [],
   "source": [
    "pred = KMeans_model.predict(X)\n",
    "centers = KMeans_model.min_center"
   ]
  },
  {
   "cell_type": "code",
   "execution_count": 9,
   "metadata": {},
   "outputs": [
    {
     "data": {
      "text/plain": [
       "<matplotlib.legend.Legend at 0x1a1e5610d0>"
      ]
     },
     "execution_count": 9,
     "metadata": {},
     "output_type": "execute_result"
    },
    {
     "data": {
      "image/png": "[encoded data removed]",
      "text/plain": [
       "<Figure size 432x288 with 1 Axes>"
      ]
     },
     "metadata": {
      "needs_background": "light"
     },
     "output_type": "display_data"
    }
   ],
   "source": [
    "colorlist = [\"r\", \"g\", \"b\", \"c\", \"m\", \"y\", \"w\"]\n",
    "for i in range(4):\n",
    "    index = np.where(pred == i)\n",
    "    plt.scatter(X[index,0], X[index,1], s=50, c=colorlist[i], alpha=0.5, linewidths=\"2\")\n",
    "plt.scatter(centers[:,0], centers[:,1], s=100, c=\"k\", alpha=0.5, linewidths=\"2\",label=\"center\")\n",
    "plt.legend()"
   ]
  },
  {
   "cell_type": "markdown",
   "metadata": {},
   "source": [
    "### 【問題8】エルボー法の実装\n",
    "K-meansにおいて中心点の個数 \n",
    "k\n",
    " は人為的に決める必要がありますが、その判断方法としてエルボー法があります。エルボー法により中心点の個数 \n",
    "k\n",
    " を検討するためのコードを作成してください。\n",
    "\n",
    "\n",
    "SSEを縦軸、クラスタ数 \n",
    "k\n",
    " を横軸にした折れ線グラフを表示します。このためにK-meansのインスタンスからはSSEを取得できるようにしてください。\n",
    "\n"
   ]
  },
  {
   "cell_type": "code",
   "execution_count": 11,
   "metadata": {},
   "outputs": [
    {
     "data": {
      "text/plain": [
       "Text(0, 0.5, 'SSE')"
      ]
     },
     "execution_count": 11,
     "metadata": {},
     "output_type": "execute_result"
    },
    {
     "data": {
      "image/png": "[encoded data removed]",
      "text/plain": [
       "<Figure size 432x288 with 1 Axes>"
      ]
     },
     "metadata": {
      "needs_background": "light"
     },
     "output_type": "display_data"
    }
   ],
   "source": [
    "erbor = ScratchKMeans_erbor(X, n_clusters=5, n_init=6, max_iter=200, tol=0.1, verbose=True)\n",
    "sses = erbor.min_sse_clusters\n",
    "sses.insert(0, 0)\n",
    "plt.plot(sses)\n",
    "plt.xlim(1,)\n",
    "plt.xlabel(\"clusters\")\n",
    "plt.ylabel(\"SSE\")"
   ]
  },
  {
   "cell_type": "markdown",
   "metadata": {},
   "source": [
    "### 【問題9】（アドバンス課題）シルエット図\n",
    "k\n",
    " を決める助けになるものとしてシルエット図もあります。シルエット図を表示するコードを作成してください。\n",
    "\n",
    "\n",
    "Matplotlibを使い図を表示するコードは用意しました。以下を与えてください。\n",
    "\n",
    "\n",
    "silhouette_vals : shape(n_samples,)のndarray、各データ点のシルエット係数\n",
    "\n",
    "\n",
    "silhouette_avg : float、シルエット係数の平均値\n",
    "\n",
    "\n",
    "y_km : shape(n_samples,)のndarray、各データ点のクラスタラベル名\n",
    "\n",
    "\n",
    "cluster_labels : list、クラスタのラベル名のリスト\n",
    "\n",
    "\n",
    "n_clusters : int、クラスタ数\n",
    "\n",
    "\n",
    "n\n",
    " 番目のデータ点に対するシルエット係数 \n",
    "s\n",
    "n\n",
    " は以下の数式でを求められます。この数式を実装し、シルエット図を確認してください。\n",
    " \n",
    "$$\n",
    "s_n = \\frac{b_n-a_n}{max(b_n,a_n)}\n",
    "$$\n",
    "\n",
    "乖離度 \n",
    "b\n",
    " が大きく、凝集度 \n",
    "a\n",
    " が小さい時が理想的であり、シルエット係数 \n",
    "s\n",
    " は1に近くなります。"
   ]
  },
  {
   "cell_type": "code",
   "execution_count": 12,
   "metadata": {},
   "outputs": [],
   "source": [
    "# 初期値設定\n",
    "cluster_labels = list(set(pred))\n",
    "a = np.zeros_like(pred)\n",
    "b = np.zeros_like(pred)\n",
    "silhouette_vals = np.zeros_like(pred)\n",
    "# サンプル毎のインデックス\n",
    "n = 0\n",
    "\n",
    "# シルエット係数の計算\n",
    "# クラス毎にfor\n",
    "for label in cluster_labels:\n",
    "    # データ毎にfor\n",
    "    for i in range(X[pred==label].shape[0]):\n",
    "        # aの計算\n",
    "        a[n] = np.linalg.norm(X[pred==label] - X[pred==label][i], axis=1).mean()\n",
    "        \n",
    "        # bの計算\n",
    "        # 他クラスデータとの距離を全て算出\n",
    "        b_all = np.linalg.norm(X[pred!=label] - X[pred==label][i], axis=1)\n",
    "        # 他クラスとの距離の平均を算出\n",
    "        b_means = [b_all[pred[pred!=label]==L].mean() for L in cluster_labels if L!=label]\n",
    "        # 平均の中で最小を選択\n",
    "        b[n] = min(b_means)\n",
    "        \n",
    "        # インデックスを更新\n",
    "        n +=1\n",
    "\n",
    "# シルエット係数を求める\n",
    "ab_max = np.max(np.concatenate([a[:, np.newaxis], b[:, np.newaxis]], axis=1), axis=1)\n",
    "silhouette_vals = (b - a)/ab_max"
   ]
  },
  {
   "cell_type": "code",
   "execution_count": 13,
   "metadata": {},
   "outputs": [
    {
     "data": {
      "image/png": "[encoded data removed]",
      "text/plain": [
       "<Figure size 432x288 with 1 Axes>"
      ]
     },
     "metadata": {
      "needs_background": "light"
     },
     "output_type": "display_data"
    }
   ],
   "source": [
    "from matplotlib import cm\n",
    "# グラフ化\n",
    "silhouette_avg = silhouette_vals.mean()\n",
    "y_ax_lower, y_ax_upper = 0, 0\n",
    "yticks = []\n",
    "for i, c in enumerate(cluster_labels):\n",
    "    c_silhouette_vals = silhouette_vals[pred == c]\n",
    "    c_silhouette_vals.sort()\n",
    "    y_ax_upper += len(c_silhouette_vals)\n",
    "    color = cm.jet(i / len(cluster_labels))\n",
    "    plt.barh(range(y_ax_lower, y_ax_upper), c_silhouette_vals, height=1.0, edgecolor='none', color=color)\n",
    "    yticks.append((y_ax_lower + y_ax_upper) / 2)\n",
    "    y_ax_lower += len(c_silhouette_vals)\n",
    "plt.axvline(silhouette_avg, color=\"red\", linestyle=\"--\")\n",
    "plt.yticks(yticks, cluster_labels)\n",
    "plt.ylabel('Cluster')\n",
    "plt.xlabel('Silhouette coefficient')\n",
    "plt.show()\n"
   ]
  },
  {
   "cell_type": "markdown",
   "metadata": {},
   "source": [
    "### 卸売業者のデータ分析\n",
    "クラスタリングを利用法を学ぶために、Wholesale customers Data Setを使用します。\n",
    "\n",
    "\n",
    "UCI Machine Learning Repository: Wholesale customers Data Set\n",
    "\n",
    "\n",
    "Data Folderの中からWholesale customers data.csvをダウンロードしてください。これはポルトガルのリスボンにある卸売業者（wholesale）が顧客から集めたデータです。中身は各顧客が年間でミルクや食料品を何ユーロ購入しているかというデータになっています。顧客は小売店やレストランです。RegionとChannelは取り覗き、金額のデータでK-meansを利用します。\n",
    "\n"
   ]
  },
  {
   "cell_type": "code",
   "execution_count": 14,
   "metadata": {},
   "outputs": [
    {
     "data": {
      "text/html": [
       "<div>\n",
       "<style scoped>\n",
       "    .dataframe tbody tr th:only-of-type {\n",
       "        vertical-align: middle;\n",
       "    }\n",
       "\n",
       "    .dataframe tbody tr th {\n",
       "        vertical-align: top;\n",
       "    }\n",
       "\n",
       "    .dataframe thead th {\n",
       "        text-align: right;\n",
       "    }\n",
       "</style>\n",
       "<table border=\"1\" class=\"dataframe\">\n",
       "  <thead>\n",
       "    <tr style=\"text-align: right;\">\n",
       "      <th></th>\n",
       "      <th>Fresh</th>\n",
       "      <th>Milk</th>\n",
       "      <th>Grocery</th>\n",
       "      <th>Frozen</th>\n",
       "      <th>Detergents_Paper</th>\n",
       "      <th>Delicassen</th>\n",
       "    </tr>\n",
       "  </thead>\n",
       "  <tbody>\n",
       "    <tr>\n",
       "      <td>0</td>\n",
       "      <td>12669</td>\n",
       "      <td>9656</td>\n",
       "      <td>7561</td>\n",
       "      <td>214</td>\n",
       "      <td>2674</td>\n",
       "      <td>1338</td>\n",
       "    </tr>\n",
       "    <tr>\n",
       "      <td>1</td>\n",
       "      <td>7057</td>\n",
       "      <td>9810</td>\n",
       "      <td>9568</td>\n",
       "      <td>1762</td>\n",
       "      <td>3293</td>\n",
       "      <td>1776</td>\n",
       "    </tr>\n",
       "    <tr>\n",
       "      <td>2</td>\n",
       "      <td>6353</td>\n",
       "      <td>8808</td>\n",
       "      <td>7684</td>\n",
       "      <td>2405</td>\n",
       "      <td>3516</td>\n",
       "      <td>7844</td>\n",
       "    </tr>\n",
       "    <tr>\n",
       "      <td>3</td>\n",
       "      <td>13265</td>\n",
       "      <td>1196</td>\n",
       "      <td>4221</td>\n",
       "      <td>6404</td>\n",
       "      <td>507</td>\n",
       "      <td>1788</td>\n",
       "    </tr>\n",
       "    <tr>\n",
       "      <td>4</td>\n",
       "      <td>22615</td>\n",
       "      <td>5410</td>\n",
       "      <td>7198</td>\n",
       "      <td>3915</td>\n",
       "      <td>1777</td>\n",
       "      <td>5185</td>\n",
       "    </tr>\n",
       "    <tr>\n",
       "      <td>...</td>\n",
       "      <td>...</td>\n",
       "      <td>...</td>\n",
       "      <td>...</td>\n",
       "      <td>...</td>\n",
       "      <td>...</td>\n",
       "      <td>...</td>\n",
       "    </tr>\n",
       "    <tr>\n",
       "      <td>435</td>\n",
       "      <td>29703</td>\n",
       "      <td>12051</td>\n",
       "      <td>16027</td>\n",
       "      <td>13135</td>\n",
       "      <td>182</td>\n",
       "      <td>2204</td>\n",
       "    </tr>\n",
       "    <tr>\n",
       "      <td>436</td>\n",
       "      <td>39228</td>\n",
       "      <td>1431</td>\n",
       "      <td>764</td>\n",
       "      <td>4510</td>\n",
       "      <td>93</td>\n",
       "      <td>2346</td>\n",
       "    </tr>\n",
       "    <tr>\n",
       "      <td>437</td>\n",
       "      <td>14531</td>\n",
       "      <td>15488</td>\n",
       "      <td>30243</td>\n",
       "      <td>437</td>\n",
       "      <td>14841</td>\n",
       "      <td>1867</td>\n",
       "    </tr>\n",
       "    <tr>\n",
       "      <td>438</td>\n",
       "      <td>10290</td>\n",
       "      <td>1981</td>\n",
       "      <td>2232</td>\n",
       "      <td>1038</td>\n",
       "      <td>168</td>\n",
       "      <td>2125</td>\n",
       "    </tr>\n",
       "    <tr>\n",
       "      <td>439</td>\n",
       "      <td>2787</td>\n",
       "      <td>1698</td>\n",
       "      <td>2510</td>\n",
       "      <td>65</td>\n",
       "      <td>477</td>\n",
       "      <td>52</td>\n",
       "    </tr>\n",
       "  </tbody>\n",
       "</table>\n",
       "<p>440 rows × 6 columns</p>\n",
       "</div>"
      ],
      "text/plain": [
       "     Fresh   Milk  Grocery  Frozen  Detergents_Paper  Delicassen\n",
       "0    12669   9656     7561     214              2674        1338\n",
       "1     7057   9810     9568    1762              3293        1776\n",
       "2     6353   8808     7684    2405              3516        7844\n",
       "3    13265   1196     4221    6404               507        1788\n",
       "4    22615   5410     7198    3915              1777        5185\n",
       "..     ...    ...      ...     ...               ...         ...\n",
       "435  29703  12051    16027   13135               182        2204\n",
       "436  39228   1431      764    4510                93        2346\n",
       "437  14531  15488    30243     437             14841        1867\n",
       "438  10290   1981     2232    1038               168        2125\n",
       "439   2787   1698     2510      65               477          52\n",
       "\n",
       "[440 rows x 6 columns]"
      ]
     },
     "execution_count": 14,
     "metadata": {},
     "output_type": "execute_result"
    }
   ],
   "source": [
    "data = pd.read_csv(\"Wholesale customers data (5).csv\")\n",
    "data = data.drop(columns=[\"Region\",\"Channel\"])\n",
    "data"
   ]
  },
  {
   "cell_type": "markdown",
   "metadata": {},
   "source": [
    "### 次元削減\n",
    "金額に関する特徴量は6個ありますが、可視化するために次元削減を行います。これに関してはscikit-learnによるPCAのサンプルコードを用意したので利用してください。"
   ]
  },
  {
   "cell_type": "code",
   "execution_count": 15,
   "metadata": {},
   "outputs": [
    {
     "data": {
      "text/plain": [
       "array([[ 6.50022122e+02,  1.58551909e+03],\n",
       "       [-4.42680498e+03,  4.04245151e+03],\n",
       "       [-4.84199871e+03,  2.57876218e+03],\n",
       "       [ 9.90346437e+02, -6.27980600e+03],\n",
       "       [ 1.06579987e+04, -2.15972582e+03],\n",
       "       [-2.76596159e+03, -9.59870727e+02],\n",
       "       [-7.15550892e+02, -2.01300227e+03],\n",
       "       [-4.47458367e+03,  1.42949697e+03],\n",
       "       [-6.71209540e+03, -2.20590916e+03],\n",
       "       [-4.82363435e+03,  1.34805592e+04],\n",
       "       [-7.97482898e+03,  5.71121893e+03],\n",
       "       [ 3.63937790e+01, -6.03789641e+03],\n",
       "       [ 1.99402021e+04,  4.59128648e+03],\n",
       "       [ 9.39669558e+03,  5.91315704e+03],\n",
       "       [ 1.26603704e+04,  4.54194543e+03],\n",
       "       [-2.99772590e+03, -6.09387930e+03],\n",
       "       [-1.05895236e+04,  6.58421594e+03],\n",
       "       [-6.36709518e+03, -3.68071267e+03],\n",
       "       [ 6.62382534e+03,  1.25471953e+03],\n",
       "       [-4.86153157e+03, -2.25592266e+02],\n",
       "       [ 4.79424416e+03, -3.98879936e+03],\n",
       "       [-7.24486684e+03, -7.34772325e+03],\n",
       "       [ 1.92992657e+04, -6.93681068e+03],\n",
       "       [ 1.99410882e+04,  2.63126546e+04],\n",
       "       [ 1.14930749e+04,  6.17138651e+03],\n",
       "       [ 3.30994467e+03, -1.16125675e+03],\n",
       "       [-2.96863906e+03, -7.15886854e+03],\n",
       "       [ 8.72160231e+02, -7.60388820e+03],\n",
       "       [-4.89551897e+03,  2.45523736e+04],\n",
       "       [ 2.92610930e+04, -1.00833375e+04],\n",
       "       [ 6.39414888e+03,  3.76417322e+02],\n",
       "       [-9.81327673e+03, -4.16283154e+03],\n",
       "       [ 8.06135614e+03, -7.97699062e+03],\n",
       "       [ 1.76054510e+04, -3.96357178e+03],\n",
       "       [-1.15280156e+04, -6.04897825e+03],\n",
       "       [-1.13155164e+04,  3.97022693e+03],\n",
       "       [ 1.72251668e+04, -5.19081924e+03],\n",
       "       [ 3.69239104e+03,  6.86458647e+03],\n",
       "       [-6.05893887e+03,  1.41223078e+04],\n",
       "       [ 4.32230973e+04, -1.40035946e+04],\n",
       "       [ 1.26572405e+04, -5.03503289e+03],\n",
       "       [ 6.48440574e+03, -3.74775427e+03],\n",
       "       [-1.04726387e+03,  7.83146005e+03],\n",
       "       [-9.96785364e+03,  1.86487624e+04],\n",
       "       [-2.46870964e+03,  3.41766822e+03],\n",
       "       [-3.85345841e+03,  2.13741761e+04],\n",
       "       [-7.07067861e+03,  1.74094280e+04],\n",
       "       [ 4.14113163e+04,  6.57882979e+04],\n",
       "       [-6.45598358e+02,  3.32887015e+03],\n",
       "       [-3.97964868e+03,  2.87791942e+04],\n",
       "       [-6.35452090e+03, -7.16528451e+03],\n",
       "       [-9.22606332e+03, -1.18110994e+03],\n",
       "       [ 2.72895210e+04, -5.80765129e+03],\n",
       "       [-1.09146928e+04,  7.38976247e+03],\n",
       "       [ 1.39816443e+04, -9.50607390e+03],\n",
       "       [-7.34350011e+03, -2.89573986e+03],\n",
       "       [-3.81971919e+03,  3.31916042e+04],\n",
       "       [-6.28336928e+03,  6.55739318e+03],\n",
       "       [ 4.52703306e+02, -7.97548636e+03],\n",
       "       [-6.21764093e+03,  6.24920483e+02],\n",
       "       [-4.22019178e+03, -6.91381753e+02],\n",
       "       [ 3.03988407e+04,  6.23693729e+04],\n",
       "       [-3.99325128e+03,  9.21012119e-01],\n",
       "       [-1.43456579e+03,  1.10064494e+04],\n",
       "       [-7.82844705e+03, -5.78164159e+03],\n",
       "       [-8.08740659e+03,  4.59508391e+04],\n",
       "       [-1.28068817e+04, -1.09757007e+03],\n",
       "       [ 7.84317115e+03,  4.65493831e+03],\n",
       "       [-8.84830877e+03, -1.94231623e+03],\n",
       "       [-4.76083262e+03, -7.07154644e+03],\n",
       "       [ 5.00866284e+03, -7.25202733e+03],\n",
       "       [ 7.62296608e+03,  8.14447143e+03],\n",
       "       [-7.00444667e+03, -4.30094475e+03],\n",
       "       [ 8.43018240e+03, -1.44917800e+03],\n",
       "       [-3.78921187e+03,  1.80223211e+03],\n",
       "       [ 7.33317055e+03, -1.05175081e+04],\n",
       "       [-1.07207452e+04, -1.95560872e+03],\n",
       "       [ 1.86785100e+03,  2.26347158e+04],\n",
       "       [-2.35045337e+03, -7.74830299e+03],\n",
       "       [-1.10043108e+04, -4.01272115e+03],\n",
       "       [-6.23853237e+03, -6.62574327e+03],\n",
       "       [-1.12071329e+04,  9.94487021e+03],\n",
       "       [-1.30006308e+03,  4.62118083e+03],\n",
       "       [ 7.62349955e+03, -8.76209361e+03],\n",
       "       [-1.01346192e+03, -3.35332315e+03],\n",
       "       [ 1.36536774e+04,  9.92267341e+04],\n",
       "       [ 1.98784566e+04,  5.84706245e+04],\n",
       "       [ 3.18242468e+04, -3.53384402e+03],\n",
       "       [-3.98289851e+03, -6.44332949e+03],\n",
       "       [ 1.23883208e+04, -5.24215783e+03],\n",
       "       [-1.61762381e+03, -8.54281896e+03],\n",
       "       [ 8.79263411e+02, -6.74580158e+03],\n",
       "       [ 1.52914232e+03,  3.59615137e+04],\n",
       "       [ 3.60522081e+03, -7.38078953e+03],\n",
       "       [-5.77789750e+03,  7.36493277e+03],\n",
       "       [-1.26067595e+04, -2.42436795e+03],\n",
       "       [-1.26134442e+04,  1.54707513e+02],\n",
       "       [-1.28783461e+04, -8.26252235e+03],\n",
       "       [-1.27644405e+04, -8.21597014e+03],\n",
       "       [-2.76908838e+03, -7.31599088e+03],\n",
       "       [ 1.95053488e+02,  6.23874393e+03],\n",
       "       [-9.44412629e+03,  1.15794485e+04],\n",
       "       [-8.89133102e+03,  1.75483800e+03],\n",
       "       [ 4.51833111e+04, -6.06493609e+03],\n",
       "       [ 1.00785261e+03, -6.09909491e+03],\n",
       "       [ 2.35794464e+03, -6.87742847e+03],\n",
       "       [-1.05187101e+04,  5.06531841e+03],\n",
       "       [-2.25408154e+03,  1.03885340e+04],\n",
       "       [-1.04156359e+04,  1.65648537e+03],\n",
       "       [-8.18109337e+03,  2.21050139e+04],\n",
       "       [-1.15961935e+03, -7.87301181e+03],\n",
       "       [ 1.43040494e+03,  1.13810823e+04],\n",
       "       [ 7.15459749e+03, -7.44909177e+03],\n",
       "       [ 1.61475401e+03, -7.66987431e+03],\n",
       "       [ 4.88721945e+03, -8.66630367e+03],\n",
       "       [-1.85604098e+03, -7.27728033e+03],\n",
       "       [-1.79516193e+03, -6.09697170e+03],\n",
       "       [-5.50708098e+03, -3.33057647e+03],\n",
       "       [ 7.36578055e+03, -8.15714198e+03],\n",
       "       [-4.34664415e+03, -6.82651862e+03],\n",
       "       [ 4.09512304e+03, -7.41137736e+03],\n",
       "       [-8.67185817e+03, -6.38921962e+03],\n",
       "       [-1.13539574e+03, -9.86306971e+03],\n",
       "       [-3.76597996e+02,  2.92317193e+03],\n",
       "       [ 2.29595480e+04, -9.51531285e+03],\n",
       "       [ 6.44209590e+04, -1.00084616e+04],\n",
       "       [ 6.91008428e+03, -8.73165797e+03],\n",
       "       [ 9.33907743e+03,  1.71940728e+03],\n",
       "       [-1.20036026e+04, -9.67780607e+02],\n",
       "       [ 2.84450714e+04, -1.16508526e+04],\n",
       "       [-5.12194525e+03, -7.75009717e+03],\n",
       "       [-1.12463089e+04, -8.47591663e+03],\n",
       "       [ 1.59344616e+03, -7.17226343e+03],\n",
       "       [-3.95553139e+03, -8.27800824e+03],\n",
       "       [-5.73959609e+03, -6.97408068e+03],\n",
       "       [-6.79514623e+03, -6.80569858e+03],\n",
       "       [-6.68847669e+03,  1.36082859e+03],\n",
       "       [-8.86055795e+03,  1.58758150e+03],\n",
       "       [ 8.27633995e+02, -4.00200672e+03],\n",
       "       [-7.20786516e+03, -4.02551217e+03],\n",
       "       [ 5.23430736e+03, -2.52308150e+03],\n",
       "       [ 1.82767276e+04, -1.28619968e+03],\n",
       "       [ 2.45359645e+04, -2.97018134e+03],\n",
       "       [-1.73781222e+03, -8.30772888e+03],\n",
       "       [ 5.51917269e+03, -7.29230209e+03],\n",
       "       [ 1.14362495e+04,  2.45168563e+04],\n",
       "       [-5.33076106e+03, -6.98140568e+03],\n",
       "       [-3.67550708e+03, -5.63133592e+03],\n",
       "       [-6.92797753e+03, -8.71153375e+03],\n",
       "       [ 1.80979647e+04, -1.02330400e+04],\n",
       "       [ 2.91347483e+03, -8.22100016e+03],\n",
       "       [-1.14756349e+04, -5.51967834e+03],\n",
       "       [ 5.76227034e+03, -7.72104391e+03],\n",
       "       [-8.58625530e+03, -2.43688125e+03],\n",
       "       [-1.28276259e+04, -8.75827339e+03],\n",
       "       [-8.92622096e+03,  1.56971475e+04],\n",
       "       [-7.94875903e+03,  7.46083313e+03],\n",
       "       [ 4.74916150e+03, -7.93700897e+03],\n",
       "       [-9.05209768e+03,  3.14359544e+03],\n",
       "       [-1.12539417e+04,  9.29700244e+03],\n",
       "       [-1.03047681e+04,  4.39596977e+03],\n",
       "       [-9.18497458e+02, -9.59654959e+03],\n",
       "       [ 2.28455343e+03, -6.47617250e+03],\n",
       "       [-4.20729822e+03,  2.42164150e+04],\n",
       "       [-6.53369902e+03,  2.39130262e+03],\n",
       "       [ 5.32807675e+03,  1.38084147e+04],\n",
       "       [-7.01047204e+03,  3.12645930e+03],\n",
       "       [-9.91935360e+03, -4.35537400e+03],\n",
       "       [-7.40995743e+03, -8.44639605e+03],\n",
       "       [-7.53945722e+03, -7.38240706e+03],\n",
       "       [-1.11878402e+04,  8.45076309e+03],\n",
       "       [-8.45023897e+03,  2.31945695e+04],\n",
       "       [-1.13844089e+04, -3.45742055e+01],\n",
       "       [-1.06888294e+04,  1.38387005e+04],\n",
       "       [-1.22335129e+04, -4.13432868e+03],\n",
       "       [-9.39870791e+03,  5.67093590e+03],\n",
       "       [ 3.34799973e+04, -4.85130807e+03],\n",
       "       [ 6.10809930e+02, -2.86405429e+03],\n",
       "       [-1.35491892e+03, -2.56607743e+03],\n",
       "       [-8.80526789e+03, -4.60116027e+03],\n",
       "       [ 1.24201313e+02,  3.74359619e+02],\n",
       "       [ 1.03863425e+05,  9.91034963e+03],\n",
       "       [-1.10735900e+04,  6.06658975e+03],\n",
       "       [ 3.79176592e+04,  2.73314502e+04],\n",
       "       [-1.27319529e+04, -4.66430038e+03],\n",
       "       [-4.28353536e+03, -5.53668475e+03],\n",
       "       [-9.83643604e+03, -7.91208783e+03],\n",
       "       [-8.57629614e+03,  3.68778298e+03],\n",
       "       [-3.56625439e+03,  5.63268509e+03],\n",
       "       [-1.03957072e+04,  7.43684040e+03],\n",
       "       [ 5.07655293e+03, -6.04962503e+03],\n",
       "       [ 1.04045800e+02, -9.11928085e+03],\n",
       "       [-7.65685277e+03, -6.87743314e+03],\n",
       "       [-1.14633249e+04,  1.05414507e+04],\n",
       "       [-6.01806674e+03, -6.63461022e+03],\n",
       "       [ 5.42520518e+03, -3.98453342e+03],\n",
       "       [ 2.06597741e+04, -4.65635721e+03],\n",
       "       [-9.35122531e+03,  4.15182559e+03],\n",
       "       [-7.88576113e+02, -3.59808906e+03],\n",
       "       [-3.51264030e+03, -6.94601868e+03],\n",
       "       [-6.85928948e+03,  1.89552822e+04],\n",
       "       [-5.26298017e+03,  2.22290044e+04],\n",
       "       [ 1.43621802e+04,  1.96927762e+03],\n",
       "       [-1.26073900e+04, -6.50020649e+03],\n",
       "       [-1.08212315e+04, -4.53341619e+03],\n",
       "       [-9.38122505e+03,  1.85431804e+04],\n",
       "       [-6.93444010e+03, -8.29539255e+03],\n",
       "       [-9.61236348e+03, -1.12333435e+02],\n",
       "       [-1.08333548e+04, -1.35076665e+03],\n",
       "       [-5.36956179e+03,  1.45146640e+04],\n",
       "       [ 5.40038580e+03, -8.66013629e+03],\n",
       "       [ 5.02818149e+03,  4.19627682e+04],\n",
       "       [-5.77669045e+03, -7.36724926e+03],\n",
       "       [-8.74329394e+03,  9.51804649e+02],\n",
       "       [-9.51129083e+03,  5.18698502e+03],\n",
       "       [-8.13025590e+03,  1.05383236e+04],\n",
       "       [-6.75326338e+03,  3.22521606e+04],\n",
       "       [ 4.92697367e+03, -8.42873963e+03],\n",
       "       [-1.10034733e+04,  8.76246356e+03],\n",
       "       [-8.91492469e+03, -8.03603572e+03],\n",
       "       [ 1.46028266e+03, -8.90575180e+03],\n",
       "       [-6.62750735e+03,  4.12334394e+03],\n",
       "       [-7.06259032e+03, -6.64838731e+03],\n",
       "       [-9.16513667e+03, -3.54328147e+03],\n",
       "       [-6.02277131e+03, -8.09423762e+03],\n",
       "       [-2.82017463e+02, -5.06503144e+03],\n",
       "       [ 8.47243983e+03, -3.14299352e+01],\n",
       "       [-8.75823707e+03, -6.84678205e+03],\n",
       "       [-1.14067994e+04, -6.56236606e+03],\n",
       "       [-3.41768099e+03, -6.27167282e+03],\n",
       "       [-1.71885057e+02, -2.35142384e+03],\n",
       "       [-9.40189109e+03, -7.56667211e+01],\n",
       "       [ 1.24947031e+04, -7.70385327e+03],\n",
       "       [-1.15722627e+04, -3.69235648e+03],\n",
       "       [ 3.15963157e+03, -6.03988898e+03],\n",
       "       [-1.05231385e+04, -3.13914393e+03],\n",
       "       [-4.37810749e+03, -6.90546405e+03],\n",
       "       [ 6.08158124e+03, -8.46591895e+03],\n",
       "       [-5.99461421e+03, -8.92853677e+03],\n",
       "       [ 3.44067011e+04, -9.53113098e+03],\n",
       "       [ 1.08945559e+04, -3.98293197e+03],\n",
       "       [ 1.16586406e+04, -8.59153865e+03],\n",
       "       [ 5.20240164e+03, -8.09543618e+03],\n",
       "       [-1.52976667e+03, -3.56476224e+03],\n",
       "       [-5.50543829e+03,  4.00947397e+03],\n",
       "       [-8.70809960e+03,  8.06988821e+03],\n",
       "       [-4.07266616e+03, -7.03728495e+03],\n",
       "       [ 2.21632588e+02, -9.75795892e+03],\n",
       "       [ 2.74921833e+03, -5.76755875e+03],\n",
       "       [-4.04407792e+03, -5.94003724e+03],\n",
       "       [-9.68339619e+03, -6.68002307e+03],\n",
       "       [-1.35627634e+03,  3.50687407e+04],\n",
       "       [-5.19287084e+03, -4.94549117e+03],\n",
       "       [ 1.75380114e+04,  5.19235758e+03],\n",
       "       [ 6.89687607e+01,  3.59190786e+03],\n",
       "       [ 1.80965145e+04, -1.09108780e+04],\n",
       "       [-1.60872971e+03, -3.29854804e+03],\n",
       "       [-4.03170772e+03, -6.05053593e+03],\n",
       "       [ 4.31882517e+04, -1.07141052e+04],\n",
       "       [ 4.00548148e+04, -6.19880654e+03],\n",
       "       [-3.67837835e+03, -5.36199482e+03],\n",
       "       [-4.52856233e+03, -8.37775808e+03],\n",
       "       [ 9.70993886e+03, -9.23108665e+03],\n",
       "       [-1.01467098e+04, -2.37678029e+03],\n",
       "       [-1.02375320e+04,  1.01147651e+04],\n",
       "       [-2.20851857e+03,  1.34524459e+04],\n",
       "       [-9.87674687e+03,  1.49971542e+04],\n",
       "       [ 8.09488288e+03, -8.13339944e+03],\n",
       "       [ 5.29289079e+02,  1.15360780e+04],\n",
       "       [ 1.89507913e+03, -9.41812648e+03],\n",
       "       [-7.82730339e+03, -8.09630840e+03],\n",
       "       [-1.04497945e+04, -5.15569999e+03],\n",
       "       [-1.13780011e+04,  7.47480807e+02],\n",
       "       [ 2.38063881e+04, -1.00935709e+04],\n",
       "       [-1.20828246e+04, -6.30785564e+03],\n",
       "       [-1.24327030e+04, -7.85790324e+03],\n",
       "       [ 1.55158437e+04, -4.37266421e+03],\n",
       "       [-1.88821380e+03, -8.95861289e+03],\n",
       "       [-6.21526806e+02, -6.90700965e+03],\n",
       "       [ 5.12722225e+03,  1.26220320e+03],\n",
       "       [-9.45305838e+03, -5.74446007e+03],\n",
       "       [ 2.55900026e+01, -7.95511888e+02],\n",
       "       [ 3.61898335e+04, -8.60629698e+03],\n",
       "       [ 1.39239476e+04, -8.27083296e+03],\n",
       "       [ 5.66645626e+04, -4.28604563e+03],\n",
       "       [ 2.63034809e+04, -1.00533449e+04],\n",
       "       [-5.88530776e+03, -7.08141857e+03],\n",
       "       [ 3.30236416e+03, -7.23303842e+03],\n",
       "       [ 2.71181516e+03, -9.16403650e+03],\n",
       "       [ 2.85964536e+04, -1.30623182e+04],\n",
       "       [-1.02199065e+04, -5.55948231e+03],\n",
       "       [-6.54700882e+03, -5.19726537e+03],\n",
       "       [-9.39911007e+03, -3.94631949e+03],\n",
       "       [-7.30104357e+03,  8.19458870e+03],\n",
       "       [ 8.21789532e+03, -4.74570388e+03],\n",
       "       [-5.43484153e+03, -3.86972810e+03],\n",
       "       [ 6.07942354e+03, -7.22377794e+03],\n",
       "       [-4.51260961e+03, -1.36822791e+03],\n",
       "       [-5.51584406e+03,  2.09929563e+03],\n",
       "       [-1.27393567e+04, -6.72904265e+03],\n",
       "       [ 3.99129653e+03, -1.48894939e+03],\n",
       "       [-5.20835354e+03,  1.62305494e+04],\n",
       "       [-9.34980571e+03,  3.37621432e+03],\n",
       "       [-9.61810944e+03,  7.03720562e+03],\n",
       "       [-1.07012330e+04,  1.83784042e+04],\n",
       "       [-1.10034614e+04,  6.01641890e+03],\n",
       "       [-3.92698769e+03,  1.64046772e+04],\n",
       "       [ 4.15657975e+03, -7.18375907e+03],\n",
       "       [-6.22408064e+03, -6.64822085e+03],\n",
       "       [-8.99780073e+03,  1.46213306e+04],\n",
       "       [-4.27524463e+03, -7.05614202e+03],\n",
       "       [ 1.67395917e+04, -4.48171256e+03],\n",
       "       [-9.65945827e+03,  1.37650595e+04],\n",
       "       [-2.95101269e+03, -7.58990370e+03],\n",
       "       [-2.10214985e+03, -2.87006161e+03],\n",
       "       [-9.15603644e+03,  9.46653376e+03],\n",
       "       [-5.72047194e+03, -7.17980906e+03],\n",
       "       [-1.13026013e+04, -2.31226656e+03],\n",
       "       [-1.06952441e+03, -5.78846809e+03],\n",
       "       [ 3.87067666e+02,  2.11243793e+04],\n",
       "       [-1.10082911e+04, -5.23227157e+03],\n",
       "       [-3.48628076e+03, -4.81165988e+03],\n",
       "       [ 2.90617407e+03, -7.19761933e+03],\n",
       "       [ 5.78910719e+02, -3.22005295e+02],\n",
       "       [ 1.29261042e+04, -7.89432152e+03],\n",
       "       [ 3.10071165e+04,  6.27780042e+03],\n",
       "       [-8.28140565e+03, -7.26435778e+03],\n",
       "       [-1.26234112e+04, -7.09394843e+03],\n",
       "       [ 4.84880481e+03, -6.94924524e+03],\n",
       "       [-7.17886657e+03, -4.99315821e+03],\n",
       "       [-2.75721936e+03, -5.02032984e+03],\n",
       "       [ 1.14795198e+03,  2.16806578e+04],\n",
       "       [ 9.32637900e+03, -8.35579714e+03],\n",
       "       [-5.19041747e+02,  5.82410592e+04],\n",
       "       [ 5.24374639e+03, -8.00522860e+03],\n",
       "       [ 1.47993067e+04,  1.54497207e+03],\n",
       "       [ 5.96119399e+02, -8.48759502e+03],\n",
       "       [-2.70572191e+03, -7.10931981e+03],\n",
       "       [-1.05722995e+04, -3.53970067e+03],\n",
       "       [-8.84587395e+03, -4.28327561e+03],\n",
       "       [-1.19059306e+04,  3.33095826e+03],\n",
       "       [-9.57909054e+03,  4.47914535e+03],\n",
       "       [-1.20395478e+04,  3.94397787e+02],\n",
       "       [-9.23401541e+03,  2.03288610e+04],\n",
       "       [-9.87526219e+03, -7.14919243e+03],\n",
       "       [-1.14091224e+04,  1.72205598e+02],\n",
       "       [-8.51907450e+03,  8.75572251e+03],\n",
       "       [ 1.53687361e+04,  2.95980958e+03],\n",
       "       [-9.46000199e+03, -5.97973018e+03],\n",
       "       [-4.33464772e+03,  1.82082793e+04],\n",
       "       [-9.42739638e+03, -7.03351528e+03],\n",
       "       [-9.30152620e+03,  1.80325702e+04],\n",
       "       [-1.25008372e+04, -7.12036449e+03],\n",
       "       [-1.12346988e+04,  1.38369119e+04],\n",
       "       [ 2.42329916e+03, -4.11450007e+03],\n",
       "       [-1.30199080e+04, -6.86195565e+03],\n",
       "       [ 9.23959160e+03, -1.11223282e+04],\n",
       "       [-1.19200106e+04,  1.13274020e+04],\n",
       "       [-9.14991717e+03,  2.30339816e+03],\n",
       "       [-1.17396021e+04, -4.14512139e+03],\n",
       "       [ 6.71939218e+03, -7.84220330e+03],\n",
       "       [-8.50218316e+03, -8.31550839e+03],\n",
       "       [-1.09132898e+04, -6.26188181e+03],\n",
       "       [-8.50860878e+03, -4.92634405e+03],\n",
       "       [-1.05125203e+04, -7.30405002e+03],\n",
       "       [-7.21736838e+03,  1.75007644e+03],\n",
       "       [-3.54671319e+03, -7.38128260e+03],\n",
       "       [-9.68192160e+03, -8.25506962e+03],\n",
       "       [ 8.99093000e+03, -8.80777729e+03],\n",
       "       [-7.12811443e+03, -8.80368778e+03],\n",
       "       [ 2.64251874e+04, -7.09718875e+03],\n",
       "       [ 7.81188038e+03, -8.43837728e+03],\n",
       "       [-8.64802465e+03, -5.63426470e+03],\n",
       "       [ 2.90139385e+03, -7.58344371e+02],\n",
       "       [-6.62486558e+03, -6.96141406e+03],\n",
       "       [-7.41850097e+03, -7.66718677e+03],\n",
       "       [-7.59403353e+03,  7.34873094e+03],\n",
       "       [ 2.52073705e+04, -9.37712120e+03],\n",
       "       [-9.67813348e+03, -5.94444754e+03],\n",
       "       [-8.21750573e+03,  1.64147411e+03],\n",
       "       [ 1.49838972e+04, -9.66009867e+03],\n",
       "       [ 6.09389584e+03, -7.25101889e+03],\n",
       "       [ 2.21777023e+04, -1.58216313e+03],\n",
       "       [-1.06740098e+04, -5.59353956e+03],\n",
       "       [ 1.46740808e+03,  1.33706672e+04],\n",
       "       [-1.42404740e+03, -8.31880425e+03],\n",
       "       [-1.13101238e+04, -4.75817035e+03],\n",
       "       [ 7.65659247e+03, -8.84446828e+03],\n",
       "       [-3.44999313e+03, -8.50819418e+03],\n",
       "       [-3.51935927e+03, -7.92041436e+03],\n",
       "       [-9.05963421e+03, -7.50273276e+03],\n",
       "       [-1.01382737e+04, -5.80232227e+03],\n",
       "       [-1.20840217e+04, -3.90329972e+03],\n",
       "       [ 1.20339199e+04, -5.00325025e+03],\n",
       "       [-8.30716572e+02, -7.24323989e+03],\n",
       "       [-3.38926534e+03, -7.97270058e+03],\n",
       "       [-6.49503494e+03,  5.31757356e+03],\n",
       "       [-8.15906289e+02, -8.21118679e+03],\n",
       "       [-1.29009254e+03, -9.17232149e+03],\n",
       "       [-3.68194850e+03, -8.71211920e+03],\n",
       "       [-8.32155339e+03, -7.85526942e+03],\n",
       "       [ 1.56815238e+04, -8.86280730e+03],\n",
       "       [ 1.34001559e+04, -5.39662268e+03],\n",
       "       [ 1.31947418e+04, -2.21445103e+03],\n",
       "       [ 5.65893886e+03, -5.51684405e+03],\n",
       "       [-6.20419207e+03, -7.95435255e+03],\n",
       "       [ 1.34840209e+04, -4.89961113e+03],\n",
       "       [-3.14963664e+03,  1.41297513e+04],\n",
       "       [-4.27934023e+03, -1.85117069e+03],\n",
       "       [-3.44980621e+03, -2.22402887e+03],\n",
       "       [-6.12250342e+03, -4.22634363e+03],\n",
       "       [-1.02559460e+04, -4.54795211e+03],\n",
       "       [-1.21691539e+04,  3.59245060e+03],\n",
       "       [-4.71738897e+03, -1.65979906e+03],\n",
       "       [-6.30463994e+03, -5.52045380e+03],\n",
       "       [-4.18477144e+03,  1.33446499e+03],\n",
       "       [-7.02962149e+03,  7.17239836e+03],\n",
       "       [-7.06589914e+03,  3.23176616e+03],\n",
       "       [-1.06166251e+04,  1.22267843e+04],\n",
       "       [-4.02482565e+03, -5.50113167e+03],\n",
       "       [-7.60786884e+03,  6.08257064e+03],\n",
       "       [ 4.59959854e+03,  4.06671321e+01],\n",
       "       [ 1.29448658e+04, -7.44387545e+03],\n",
       "       [ 4.61822645e+03, -4.62808709e+03],\n",
       "       [ 4.34926153e+03,  1.30953428e+03],\n",
       "       [ 4.34714301e+02, -6.98341553e+03],\n",
       "       [ 1.94924340e+03,  7.39521798e+03],\n",
       "       [ 2.15526835e+04,  4.48065148e+02],\n",
       "       [-9.11042017e+03, -2.04019767e+03],\n",
       "       [-4.44771292e+03, -5.96374584e+03],\n",
       "       [-8.68316982e+03,  5.81408578e+03],\n",
       "       [-1.99737741e+03, -2.64660584e+03],\n",
       "       [ 7.65137624e+03, -6.42303804e+03],\n",
       "       [-1.07137383e+04, -6.05810977e+03],\n",
       "       [ 3.98879821e+03, -1.63844521e+03],\n",
       "       [ 2.01408485e+04,  6.30687723e+03],\n",
       "       [ 2.59122499e+04, -1.17576471e+04],\n",
       "       [ 4.55511500e+03,  2.62017586e+04],\n",
       "       [-2.73437092e+03, -7.07077534e+03],\n",
       "       [-1.03701253e+04, -6.16146491e+03]])"
      ]
     },
     "execution_count": 15,
     "metadata": {},
     "output_type": "execute_result"
    }
   ],
   "source": [
    "# PCAのサンプルコード\n",
    "from sklearn.decomposition import PCA\n",
    "pca = PCA(n_components = 2)\n",
    "pca = pca.fit(data)\n",
    "data_pca = pca.transform(data)\n",
    "data_pca"
   ]
  },
  {
   "cell_type": "code",
   "execution_count": 16,
   "metadata": {},
   "outputs": [
    {
     "name": "stdout",
     "output_type": "stream",
     "text": [
      "[0.45961362 0.86478588 0.93481597 0.97883941 0.99386152 1.        ]\n"
     ]
    },
    {
     "data": {
      "image/png": "[encoded data removed]",
      "text/plain": [
       "<Figure size 432x288 with 1 Axes>"
      ]
     },
     "metadata": {
      "needs_background": "light"
     },
     "output_type": "display_data"
    }
   ],
   "source": [
    "from sklearn.decomposition import PCA\n",
    "import matplotlib.pyplot as plt\n",
    "pca = PCA(n_components=None)\n",
    "pca = pca.fit(data)\n",
    "var_exp = pca.explained_variance_ratio_\n",
    "cum_var_exp = np.cumsum(var_exp)\n",
    "print(cum_var_exp)\n",
    "plt.bar(range(1,7),var_exp, alpha=0.5, align='center', label='individual explained variance')\n",
    "plt.step(range(1,7),cum_var_exp, where='mid', label='cumulative expalined variance')\n",
    "plt.ylabel('Explained variance ratio')\n",
    "plt.xlabel('Principal components')\n",
    "plt.hlines(0.7, 0, 6,  \"blue\", linestyles='dashed')\n",
    "plt.legend(loc='best')\n",
    "plt.grid()\n",
    "plt.show()"
   ]
  },
  {
   "cell_type": "code",
   "execution_count": 17,
   "metadata": {},
   "outputs": [
    {
     "data": {
      "text/plain": [
       "array([[ 0.97653685,  0.12118407,  0.06154039,  0.15236462, -0.00705417,\n",
       "         0.06810471],\n",
       "       [-0.11061386,  0.51580216,  0.76460638, -0.01872345,  0.36535076,\n",
       "         0.05707921],\n",
       "       [-0.17855726,  0.50988675, -0.27578088,  0.71420037, -0.20440987,\n",
       "         0.28321747],\n",
       "       [ 0.04187648,  0.64564047, -0.37546049, -0.64629232, -0.14938013,\n",
       "         0.02039579],\n",
       "       [-0.015986  , -0.20323566,  0.1602915 , -0.22018612, -0.20793016,\n",
       "         0.91707659],\n",
       "       [-0.01576316,  0.03349187,  0.41093894, -0.01328898, -0.87128428,\n",
       "        -0.26541687]])"
      ]
     },
     "execution_count": 17,
     "metadata": {},
     "output_type": "execute_result"
    }
   ],
   "source": [
    "# 各主成分に対する各特徴量の寄与率\n",
    "# 下記の第一行目が第一主成分、列が各特徴量の寄与率\n",
    "pca.components_"
   ]
  },
  {
   "cell_type": "markdown",
   "metadata": {},
   "source": [
    "### 【問題10】クラスタ数kの選択\n",
    "最適だと思われるクラスタ数 \n",
    "k\n",
    " を選択してください。エルボー法やシルエット図を活用する他、人間が後々どう利用したいのかも選択に関わってきます。選択した上で、なぜそれを選んだか説明してください。\n",
    "\n"
   ]
  },
  {
   "cell_type": "markdown",
   "metadata": {},
   "source": [
    "#### クラスタ数：3"
   ]
  },
  {
   "cell_type": "code",
   "execution_count": 18,
   "metadata": {},
   "outputs": [
    {
     "name": "stdout",
     "output_type": "stream",
     "text": [
      "SSE（各初期値ごと）: \n",
      "[61673205261.484024, 97615742240.60678, 72300682602.42583, 84538143858.53333, 81486000841.8476]\n",
      "\n",
      "クラスタ中心点（各初期値ごと）:\n",
      " [array([[-3000.5234581 , 18971.28493084],\n",
      "       [-3117.67498623, -4277.85489358],\n",
      "       [28563.43478502, -4299.34727965]]), array([[-6219.60853874, -4136.52944286],\n",
      "       [ 8799.28477889, -8605.55683412],\n",
      "       [ 7513.10258504,  8139.79921275]]), array([[16447.71446293, -4658.96471792],\n",
      "       [-6191.07652009, 10677.18281917],\n",
      "       [-4560.14120303, -5847.10179686]]), array([[  4230.01651204,  -5835.21721905],\n",
      "       [-10072.06336271,  -2012.06034671],\n",
      "       [  -202.93240229,  17370.70546474]]), array([[-7012.89220947, -6704.97511496],\n",
      "       [10381.10660136, -3500.06865545],\n",
      "       [-6963.00168681, 10438.33860625]])]\n"
     ]
    }
   ],
   "source": [
    "data_np = data.values\n",
    "KMeans_model_2 = ScratchKMeans(n_clusters=3, n_init=5, max_iter=100, tol=0.1, verbose=True)\n",
    "KMeans_model_2.fit(data_pca)\n",
    "pred_2 = KMeans_model_2.predict(data_pca)\n",
    "centers_2 = KMeans_model_2.min_center"
   ]
  },
  {
   "cell_type": "code",
   "execution_count": 19,
   "metadata": {},
   "outputs": [
    {
     "data": {
      "text/plain": [
       "<matplotlib.legend.Legend at 0x1a1f700c10>"
      ]
     },
     "execution_count": 19,
     "metadata": {},
     "output_type": "execute_result"
    },
    {
     "data": {
      "image/png": "[encoded data removed]",
      "text/plain": [
       "<Figure size 432x288 with 1 Axes>"
      ]
     },
     "metadata": {
      "needs_background": "light"
     },
     "output_type": "display_data"
    }
   ],
   "source": [
    "colorlist = [\"r\", \"g\", \"b\", \"c\", \"m\", \"y\", \"w\"]\n",
    "for i in range(6):\n",
    "    index = np.where(pred_2 == i)\n",
    "    plt.scatter(data_pca[index,0], data_pca[index,1], s=50, c=colorlist[i], alpha=0.5, linewidths=\"2\")\n",
    "plt.scatter(centers_2[:,0], centers_2[:,1], s=100, c=\"k\", alpha=0.5, linewidths=\"2\",label=\"center\")\n",
    "plt.legend()"
   ]
  },
  {
   "cell_type": "markdown",
   "metadata": {},
   "source": [
    "#### クラスタ数：4"
   ]
  },
  {
   "cell_type": "code",
   "execution_count": 20,
   "metadata": {},
   "outputs": [
    {
     "name": "stdout",
     "output_type": "stream",
     "text": [
      "SSE（各初期値ごと）: \n",
      "[66119189150.86045, 66947257866.83555, 69193861612.65384, 73481068136.70738, 55811530955.86424, 61319672585.70914]\n",
      "\n",
      "クラスタ中心点（各初期値ごと）:\n",
      " [array([[  250.78279471, -7507.2243214 ],\n",
      "       [-2088.95671181, 12773.53330531],\n",
      "       [18713.41766219, -4220.43512909],\n",
      "       [-9420.8437224 , -2720.0049874 ]]), array([[-4683.87753226, 13893.10983233],\n",
      "       [14282.57073172, -4932.64864866],\n",
      "       [-5446.91371589, -6477.96076302],\n",
      "       [-9294.51685296, -1987.21740393]]), array([[-7241.74270824, -6467.10533755],\n",
      "       [-4185.9432989 ,   559.57913336],\n",
      "       [12455.70823237, -5292.35181982],\n",
      "       [-5583.69280404, 15003.09114478]]), array([[ -4537.49137497,  14610.13436797],\n",
      "       [  9861.46103664,  -4932.63019325],\n",
      "       [-10287.71746698,  -5810.834455  ],\n",
      "       [ -5680.50432261,  -5098.67799328]]), array([[ 3954.71646797, 33656.47488069],\n",
      "       [17686.52644958, -5753.77153096],\n",
      "       [-8496.42124899, -1740.53869643],\n",
      "       [ -147.18704644,  -804.83995962]]), array([[  182.81050782, 31076.60451867],\n",
      "       [-3360.83309138, -5960.4759528 ],\n",
      "       [-7714.27856278,  8115.11558823],\n",
      "       [15875.41074454, -1237.12178522]])]\n"
     ]
    }
   ],
   "source": [
    "data_np = data.values\n",
    "KMeans_model_3 = ScratchKMeans(n_clusters=4, n_init=6, max_iter=100, tol=0.1, verbose=True)\n",
    "KMeans_model_3.fit(data_pca)\n",
    "pred_3 = KMeans_model_3.predict(data_pca)\n",
    "centers_3 = KMeans_model_3.min_center"
   ]
  },
  {
   "cell_type": "code",
   "execution_count": 21,
   "metadata": {},
   "outputs": [
    {
     "data": {
      "text/plain": [
       "<matplotlib.legend.Legend at 0x1a1f65ad50>"
      ]
     },
     "execution_count": 21,
     "metadata": {},
     "output_type": "execute_result"
    },
    {
     "data": {
      "image/png": "[encoded data removed]",
      "text/plain": [
       "<Figure size 432x288 with 1 Axes>"
      ]
     },
     "metadata": {
      "needs_background": "light"
     },
     "output_type": "display_data"
    }
   ],
   "source": [
    "colorlist = [\"r\", \"g\", \"b\", \"c\", \"m\", \"y\", \"w\"]\n",
    "for i in range(6):\n",
    "    index = np.where(pred_3 == i)\n",
    "    plt.scatter(data_pca[index,0], data_pca[index,1], s=50, c=colorlist[i], alpha=0.5, linewidths=\"2\")\n",
    "plt.scatter(centers_3[:,0], centers_3[:,1], s=100, c=\"k\", alpha=0.5, linewidths=\"2\",label=\"center\")\n",
    "plt.xlabel(\"first components\")\n",
    "plt.ylabel(\"second components\")\n",
    "plt.legend()"
   ]
  },
  {
   "cell_type": "markdown",
   "metadata": {},
   "source": [
    "**ScratchKMeans_erborクラスを呼び出し、n_clusters引数を指定。このクラスタ数以下の全てのクラスタ数での結果を出力する**"
   ]
  },
  {
   "cell_type": "code",
   "execution_count": 22,
   "metadata": {},
   "outputs": [
    {
     "data": {
      "text/plain": [
       "Text(0, 0.5, 'SSE')"
      ]
     },
     "execution_count": 22,
     "metadata": {},
     "output_type": "execute_result"
    },
    {
     "data": {
      "image/png": "[encoded data removed]",
      "text/plain": [
       "<Figure size 432x288 with 1 Axes>"
      ]
     },
     "metadata": {
      "needs_background": "light"
     },
     "output_type": "display_data"
    }
   ],
   "source": [
    "erbor_3 = ScratchKMeans_erbor(data_pca, n_clusters=6, n_init=6, max_iter=200, tol=0.1, verbose=True)\n",
    "sses_3 = erbor_3.min_sse_clusters\n",
    "sses_3.insert(0, 0)\n",
    "plt.plot(sses_3)\n",
    "plt.xlim(1,)\n",
    "plt.xlabel(\"clusters\")\n",
    "plt.ylabel(\"SSE\")"
   ]
  },
  {
   "cell_type": "markdown",
   "metadata": {},
   "source": [
    "**今回、エルボー法からクラスター数は、3 or 4がSSEがある程度下り飽和しているため適切と考えられる。２つの場合で学習結果をグラフ化すると、クラスター数４の場合は、主成分分析の第一、第二の主成分特徴量が比較的大きいゾーンでクラスターを形成してくれており、より直感的にわかりやすいと考えられるため、今回はクラスタ数４と決定した。**"
   ]
  },
  {
   "cell_type": "markdown",
   "metadata": {},
   "source": [
    "### 【問題11】既知のグループとの比較\n",
    "RegionとChannelはK-meansに使用しなかったが、これれらは既知のグループです。クラスタとこれら既知のグループがどう違うかを確認し、説明してください。まずはそれぞれを可視化してください。"
   ]
  },
  {
   "cell_type": "code",
   "execution_count": 23,
   "metadata": {},
   "outputs": [
    {
     "data": {
      "text/plain": [
       "Text(0, 0.5, 'Channel')"
      ]
     },
     "execution_count": 23,
     "metadata": {},
     "output_type": "execute_result"
    },
    {
     "data": {
      "image/png": "[encoded data removed]",
      "text/plain": [
       "<Figure size 432x288 with 1 Axes>"
      ]
     },
     "metadata": {
      "needs_background": "light"
     },
     "output_type": "display_data"
    }
   ],
   "source": [
    "data_2 = pd.read_csv(\"Wholesale customers data (5).csv\")\n",
    "plt.scatter(data_2[\"Region\"],data_2[\"Channel\"])\n",
    "plt.xlabel(\"Region\")\n",
    "plt.ylabel(\"Channel\")"
   ]
  },
  {
   "cell_type": "markdown",
   "metadata": {},
   "source": [
    "**RegionとChannelはそれぞれ１〜３、１〜２で全ての組み合わせで６通りある。**"
   ]
  },
  {
   "cell_type": "code",
   "execution_count": 24,
   "metadata": {},
   "outputs": [],
   "source": [
    "# 上記の組み合わせ６通りを下記の通りクラスに分類\n",
    "index_11 = np.where((data_2[\"Region\"]==1) & (data_2[\"Channel\"]==1))\n",
    "index_21 = np.where((data_2[\"Region\"]==2) & (data_2[\"Channel\"]==1))\n",
    "index_31 = np.where((data_2[\"Region\"]==3) & (data_2[\"Channel\"]==1))\n",
    "index_12 = np.where((data_2[\"Region\"]==1) & (data_2[\"Channel\"]==2))\n",
    "index_22 = np.where((data_2[\"Region\"]==2) & (data_2[\"Channel\"]==2))\n",
    "index_32 = np.where((data_2[\"Region\"]==3) & (data_2[\"Channel\"]==2))\n",
    "\n",
    "y_class = np.zeros((len(data_2)))\n",
    "y_class[index_11] = 0\n",
    "y_class[index_21] = 1\n",
    "y_class[index_31] = 2\n",
    "y_class[index_12] = 3\n",
    "y_class[index_22] = 4\n",
    "y_class[index_32] = 5"
   ]
  },
  {
   "cell_type": "code",
   "execution_count": 25,
   "metadata": {},
   "outputs": [
    {
     "name": "stderr",
     "output_type": "stream",
     "text": [
      "No handles with labels found to put in legend.\n"
     ]
    },
    {
     "data": {
      "text/plain": [
       "<matplotlib.legend.Legend at 0x1a1fa53c90>"
      ]
     },
     "execution_count": 25,
     "metadata": {},
     "output_type": "execute_result"
    },
    {
     "data": {
      "image/png": "[encoded data removed]",
      "text/plain": [
       "<Figure size 432x288 with 1 Axes>"
      ]
     },
     "metadata": {
      "needs_background": "light"
     },
     "output_type": "display_data"
    }
   ],
   "source": [
    "# RegionとChannelの６通りで分類した結果を表示\n",
    "colorlist = [\"r\", \"g\", \"b\", \"c\", \"m\", \"y\", \"w\"]\n",
    "for i in range(6):\n",
    "    index = np.where(y_class == i)\n",
    "    plt.scatter(data_pca[index,0], data_pca[index,1], s=50, c=colorlist[i], alpha=0.5, linewidths=\"2\")\n",
    "plt.xlabel(\"first components\")\n",
    "plt.ylabel(\"second components\")\n",
    "plt.legend()"
   ]
  },
  {
   "cell_type": "markdown",
   "metadata": {},
   "source": [
    "**上記の通り、RegionとChannelによる６通りの分類では、スクラッチでの分類と違い、クラス同士でエリアが被っているところもあり、うまくクラスタに分類できていない。、また、クラス数も無駄に多いことが見て取れる。**"
   ]
  },
  {
   "cell_type": "markdown",
   "metadata": {},
   "source": [
    "### 【問題12】卸売業者にとって有益な情報\n",
    "卸売業者にとって有益な情報を探し出し文章にまとめてください。\n",
    "\n",
    "\n",
    "《ヒント》\n",
    "\n",
    "\n",
    "前処理を行う前のデータを使い、各クラスタの要約統計量を見るなどしてみましょう。また、PCAで次元削減したデータに対してK-meansを使用しましたが、6個の特徴量をそのまま使ったり、一部の特徴量のみを使ったりということも試してみてください。既知のグループとの比較結果も参考にしてください。\n",
    "\n",
    "\n",
    "条件ごとにデータを見る際にはPandasのgroupbyが便利です。"
   ]
  },
  {
   "cell_type": "code",
   "execution_count": 26,
   "metadata": {},
   "outputs": [
    {
     "name": "stdout",
     "output_type": "stream",
     "text": [
      "                        Fresh          Milk       Grocery        Frozen  \\\n",
      "clusters                                                                  \n",
      "0        count      29.000000     29.000000     29.000000     29.000000   \n",
      "         mean    11478.758621  24268.620690  33532.827586   3324.689655   \n",
      "         std     11786.196065  15259.588123  16572.206235   6687.405963   \n",
      "         min        85.000000   4980.000000  17645.000000     36.000000   \n",
      "         25%      4098.000000  14641.000000  23596.000000    869.000000   \n",
      "         50%      6134.000000  20959.000000  28540.000000   1456.000000   \n",
      "         75%     14531.000000  28326.000000  34792.000000   3254.000000   \n",
      "         max     44466.000000  73498.000000  92780.000000  36534.000000   \n",
      "1        count      68.000000     68.000000     68.000000     68.000000   \n",
      "         mean    33997.044118   4886.852941   5470.264706   5805.985294   \n",
      "         std     15140.544785   4886.240704   4280.661958   8281.096507   \n",
      "         min     20105.000000    134.000000      3.000000    127.000000   \n",
      "         25%     24922.750000   1622.250000   2127.000000   1382.250000   \n",
      "         50%     29669.000000   3600.000000   4536.500000   3199.500000   \n",
      "         75%     39340.750000   6751.750000   7328.500000   7567.000000   \n",
      "         max    112151.000000  29627.000000  18148.000000  60869.000000   \n",
      "2        count     199.000000    199.000000    199.000000    199.000000   \n",
      "         mean     3556.326633   4444.562814   6473.050251   1935.597990   \n",
      "         std      2601.766934   3763.797041   5755.738793   2574.783984   \n",
      "         min         3.000000     55.000000    137.000000     25.000000   \n",
      "         25%      1208.000000   1326.500000   2025.000000    438.000000   \n",
      "         50%      3062.000000   3485.000000   4329.000000    959.000000   \n",
      "         75%      5596.500000   6505.000000  10178.000000   2260.000000   \n",
      "         max      9612.000000  20655.000000  24773.000000  17866.000000   \n",
      "3        count     144.000000    144.000000    144.000000    144.000000   \n",
      "         mean    13387.076389   4373.562500   6013.854167   3300.298611   \n",
      "         std      3971.554340   4080.412665   5152.987961   4107.123231   \n",
      "         min      5283.000000    201.000000    245.000000     96.000000   \n",
      "         25%     10344.000000   1502.000000   2213.250000   1002.000000   \n",
      "         50%     12674.500000   2878.000000   4063.500000   2055.000000   \n",
      "         75%     16933.750000   6216.750000   8738.250000   3715.250000   \n",
      "         max     21465.000000  23527.000000  21570.000000  35009.000000   \n",
      "\n",
      "                Detergents_Paper    Delicassen  \n",
      "clusters                                        \n",
      "0        count         29.000000     29.000000  \n",
      "         mean       15246.103448   4353.724138  \n",
      "         std         9219.917436   9000.672149  \n",
      "         min          239.000000      3.000000  \n",
      "         25%         9606.000000    903.000000  \n",
      "         50%        13583.000000   1625.000000  \n",
      "         75%        18906.000000   4985.000000  \n",
      "         max        40827.000000  47943.000000  \n",
      "1        count         68.000000     68.000000  \n",
      "         mean         964.470588   2150.941176  \n",
      "         std         1245.229134   2291.336421  \n",
      "         min            3.000000      3.000000  \n",
      "         25%          211.500000    822.000000  \n",
      "         50%          511.500000   1397.500000  \n",
      "         75%         1053.750000   2573.500000  \n",
      "         max         5058.000000  14351.000000  \n",
      "2        count        199.000000    199.000000  \n",
      "         mean        2486.814070   1045.753769  \n",
      "         std         3010.443390   1103.275149  \n",
      "         min            5.000000      3.000000  \n",
      "         25%          256.500000    303.000000  \n",
      "         50%          850.000000    716.000000  \n",
      "         75%         4217.500000   1434.000000  \n",
      "         max        17120.000000   7844.000000  \n",
      "3        count        144.000000    144.000000  \n",
      "         mean        1842.083333   1321.638889  \n",
      "         std         2410.545014   1495.684265  \n",
      "         min            3.000000     46.000000  \n",
      "         25%          239.500000    450.750000  \n",
      "         50%          708.000000    911.500000  \n",
      "         75%         2569.750000   1804.500000  \n",
      "         max        12420.000000  14472.000000  \n"
     ]
    },
    {
     "data": {
      "text/plain": [
       "Text(0.5, 1.0, 'mean')"
      ]
     },
     "execution_count": 26,
     "metadata": {},
     "output_type": "execute_result"
    },
    {
     "data": {
      "image/png": "[encoded data removed]",
      "text/plain": [
       "<Figure size 864x1080 with 3 Axes>"
      ]
     },
     "metadata": {},
     "output_type": "display_data"
    }
   ],
   "source": [
    "data_4 = pd.read_csv(\"Wholesale customers data (5).csv\")\n",
    "data_4 = data_4.drop(columns=([\"Channel\",\"Region\"]))\n",
    "data_4[\"clusters\"] = pred_3   # スクラッチで予想したクラスタを結合する\n",
    "fig, ax = plt.subplots(3, 1, figsize=(12, 15))\n",
    "fig.patch.set_facecolor('white')\n",
    "print(data_4.groupby(\"clusters\").describe().stack())\n",
    "data_4.groupby(\"clusters\").max().plot.bar(ax=ax[0])\n",
    "ax[0].set_title('max',fontsize=20)\n",
    "data_4.groupby(\"clusters\").min().plot.bar(ax=ax[1])\n",
    "ax[1].set_title('min',fontsize=20)\n",
    "data_4.groupby(\"clusters\").mean().plot.bar(ax=ax[2])\n",
    "ax[2].set_title('mean',fontsize=20)"
   ]
  },
  {
   "cell_type": "code",
   "execution_count": 27,
   "metadata": {},
   "outputs": [
    {
     "data": {
      "text/plain": [
       "array([[ 0.97653685,  0.12118407,  0.06154039,  0.15236462, -0.00705417,\n",
       "         0.06810471],\n",
       "       [-0.11061386,  0.51580216,  0.76460638, -0.01872345,  0.36535076,\n",
       "         0.05707921],\n",
       "       [-0.17855726,  0.50988675, -0.27578088,  0.71420037, -0.20440987,\n",
       "         0.28321747],\n",
       "       [ 0.04187648,  0.64564047, -0.37546049, -0.64629232, -0.14938013,\n",
       "         0.02039579],\n",
       "       [-0.015986  , -0.20323566,  0.1602915 , -0.22018612, -0.20793016,\n",
       "         0.91707659],\n",
       "       [-0.01576316,  0.03349187,  0.41093894, -0.01328898, -0.87128428,\n",
       "        -0.26541687]])"
      ]
     },
     "execution_count": 27,
     "metadata": {},
     "output_type": "execute_result"
    }
   ],
   "source": [
    "# 各主成分に対する各特徴量の寄与率\n",
    "# 下記の第一行目が第一主成分、列が各特徴量の寄与率\n",
    "pca.components_"
   ]
  },
  {
   "cell_type": "markdown",
   "metadata": {},
   "source": [
    "主成分の寄与率より、第一主成分は特徴量[0]:Fresh,　第二主成分は特徴量[2]:Groceryが高い事がわかる。クラスタ別の各統計量でもFresh、Groceryの特徴量で大きな差がある事がわかる。よって、卸売業者はこれらの特徴量に着目する事が良いと考えられる。"
   ]
  },
  {
   "cell_type": "markdown",
   "metadata": {},
   "source": [
    "### 【問題13】（アドバンス課題）他の手法の調査\n",
    "今回扱ったK-means以外に非階層クラスタリングで有名な手法としては DBSCAN 、\n",
    "PCA以外に次元削減手法で有名な手法としては t-SNE や LLE があります。\n",
    "\n",
    "\n",
    "DBSCANのメリット・デメリット\n",
    "t-SNE、LLEのメリット・デメリット\n",
    "\n",
    "について記述してください。"
   ]
  },
  {
   "cell_type": "markdown",
   "metadata": {},
   "source": [
    "●DBSCAN\n",
    "　\n",
    " \n",
    " ・メリット\n",
    "\n",
    "k-meansと異なり最初にクラスタ数を決めなくて良い。\n",
    "クラスタが球状であることを前提としていない。\n",
    "外れ値に対しロバスト。\n",
    "　\n",
    " \n",
    " ・デメリット\n",
    "\n",
    "border点の概念が微妙で，データによりどのクラスタに属するか変わる可能性がある。\n",
    "距離の計算方法により，精度が変わる。\n",
    "ハイパーパラメータ調整が困難。特にデータが密集していると難しい。\n",
    "\n",
    "●t-SNE\n",
    "　\n",
    " \n",
    " ・メリット\n",
    "\n",
    "非線形な関係を捉えることができる。\n",
    "高次元データを次元圧縮し可視化することができる。\n",
    "高次元空間上の類似度を低次元空間に表現することができる\n",
    "　\n",
    " \n",
    " ・デメリット\n",
    "\n",
    "うまくいくことが保証されているのは2or3次元への圧縮のみ。\n",
    "局所構造が次元の呪いの影響を受けやすい。\n",
    "最適化アルゴリズムの収束性が保証されていない。\n",
    "\n",
    "●LLE\n",
    "\n",
    "　\n",
    " ・メリット\n",
    "\n",
    "非線形にも対応できる\n",
    "高次元データも対応可能\n",
    "　\n",
    " \n",
    " ・デメリット\n",
    "\n",
    "データがひとまとまりになっていないと構造を捉えることができない"
   ]
  },
  {
   "cell_type": "markdown",
   "metadata": {},
   "source": [
    "### 【問題14】（アドバンス課題）t-SNEとDBSCANの利用\n",
    "Wholesale customersのデータに対して、PCAではなく、 t-SNE を用いて次元削減をしてください。さらにK-meansではなく、 DBSCAN を用いてクラスタリングしてください。\n",
    "\n",
    "\n",
    "そのクラスタリング結果をPCA+kmeansの場合の結果と比較してみましょう。実装にはscikit-learnを用いてください。\n",
    "\n",
    "これらはK-meansやPCAに比べパラメーターチューニングが難しい手法です。scikit-learnのドキュメントと共に論文も参考にしながらパラメータの意味を確認することも大切になります。\n"
   ]
  },
  {
   "cell_type": "code",
   "execution_count": 36,
   "metadata": {},
   "outputs": [],
   "source": [
    "from sklearn.manifold import TSNE\n",
    "\n",
    "data_6 = pd.read_csv(\"Wholesale customers data (5).csv\")\n",
    "data_6 = data_6.drop(columns=[\"Region\",\"Channel\"])\n",
    "data_6 = data_6.values\n",
    "\n",
    "TSNE = TSNE(n_components = 2, perplexity=30)\n",
    "data_TSNE = TSNE.fit_transform(data_6)"
   ]
  },
  {
   "cell_type": "code",
   "execution_count": 37,
   "metadata": {},
   "outputs": [
    {
     "data": {
      "text/plain": [
       "array([ 0,  1,  1,  3,  4,  0,  0,  1,  2,  1,  1,  3,  4,  4,  4,  3,  1,\n",
       "        2,  4,  1,  4,  3,  3, -1,  4,  4,  3,  3,  1,  3,  4,  3,  3,  3,\n",
       "        3,  1,  3,  6,  1,  3,  5,  4,  6,  1,  7,  1,  1,  8,  7,  1,  3,\n",
       "        1,  3,  1,  3,  2,  1,  1,  3,  1,  1,  8,  1,  6,  3,  1,  1,  4,\n",
       "        3,  3,  9,  4,  3,  5,  1,  3,  3,  1,  3,  3,  3,  1,  7,  3,  0,\n",
       "        8,  8,  3,  3,  3,  3,  3,  1,  3,  1,  3,  1,  3,  3,  3,  6,  1,\n",
       "        1,  3,  3,  3,  1,  6,  1,  1,  3,  6,  9,  3,  3,  3, -1,  2,  3,\n",
       "        3,  3,  3,  3,  0,  3,  3,  9,  4, 10,  3,  3,  3,  3,  3,  3,  3,\n",
       "        1,  1,  0,  2,  4,  4,  3,  3,  3,  1,  3,  3,  3,  3,  3,  3,  3,\n",
       "       10,  3,  1,  1,  3,  1,  1,  1,  3,  3,  1,  1,  6,  1,  3,  3,  3,\n",
       "        1,  1,  1,  1,  3,  1,  3,  0,  0,  3,  0,  3,  1, -1,  3,  3,  3,\n",
       "        1,  7,  1,  9,  3,  3,  1,  3,  9,  5,  1, 11,  3,  1,  1,  4,  3,\n",
       "        3,  1,  3,  1,  1,  1,  3,  1,  3,  1,  1,  1,  1,  3,  1,  3,  3,\n",
       "        1,  3,  3,  3,  0,  4,  3,  3,  3,  3, 10,  3,  3,  3,  3,  3,  3,\n",
       "        3,  3,  5,  3,  3,  0,  1,  1,  3,  3, -1,  3,  3,  1,  3,  4, -1,\n",
       "        3,  0,  3,  3,  3,  3,  3,  3,  3,  1, -1,  1,  3,  6,  3,  3,  3,\n",
       "        1,  3,  3,  3,  3,  3,  3,  4,  3,  0,  3,  5,  3,  3,  3, -1,  3,\n",
       "        3,  3,  2,  3,  1,  3,  2,  3,  1,  1,  3,  4,  1,  1,  1,  1,  1,\n",
       "        1,  3,  3,  1,  3,  3,  1,  3,  0,  1,  3,  3, -1,  1,  3, 11,  3,\n",
       "        4,  3, -1,  3,  3, -1,  3, 11,  1,  3,  1,  9,  4,  3,  3,  3,  3,\n",
       "        1,  1,  1,  1,  3,  1,  1,  4,  3,  1,  3,  1,  3,  1,  9,  3,  3,\n",
       "        1, 10,  3,  3,  3,  3, -1,  3,  1,  3,  3,  3,  3,  3,  9,  2,  4,\n",
       "        3,  3,  1,  3,  3,  1,  3,  9,  3,  3, -1,  3,  3,  3,  3,  3,  3,\n",
       "        3,  3,  5,  3,  3,  1,  3,  3,  3,  3,  5,  3, -1,  3,  3,  5,  1,\n",
       "        1, -1,  2,  2,  1,  3,  3,  1,  1,  1,  1,  3,  1,  4,  3,  4,  4,\n",
       "        3,  6, -1,  3,  3,  1,  3,  3,  3,  4, -1,  3,  1,  3,  3])"
      ]
     },
     "execution_count": 37,
     "metadata": {},
     "output_type": "execute_result"
    }
   ],
   "source": [
    "# DBSCAN\n",
    "from sklearn.cluster import DBSCAN\n",
    "DBSCAN = DBSCAN(eps=2.2, min_samples=4)\n",
    "pred_DBSCAN = DBSCAN.fit_predict(data_TSNE)\n",
    "pred_DBSCAN"
   ]
  },
  {
   "cell_type": "code",
   "execution_count": 38,
   "metadata": {},
   "outputs": [
    {
     "data": {
      "image/png": "[encoded data removed]",
      "text/plain": [
       "<Figure size 432x288 with 1 Axes>"
      ]
     },
     "metadata": {
      "needs_background": "light"
     },
     "output_type": "display_data"
    }
   ],
   "source": [
    "# グラフ化\n",
    "for n in set(pred_DBSCAN):\n",
    "    plt.scatter(data_TSNE[pred_DBSCAN==n][:, 0],\n",
    "                data_TSNE[pred_DBSCAN==n][:, 1], label=n)\n",
    "    plt.xlabel('X1')\n",
    "    plt.ylabel('X2')\n",
    "    plt.legend()"
   ]
  },
  {
   "cell_type": "markdown",
   "metadata": {},
   "source": [
    "TSNEは、”n_components”で次元数、 ”perplexity”で複雑性をパラメータで指定できる。n_components=2,perplexity=30で実施した上記のグラフでは、X１,X２の２要素で各データ点が散らばり、元の情報量をあまり失わずに、この２つの要素でデータを表す事ができていそうである。\n",
    "また、DBSCANは,\n",
    "eps:一方が他方の近傍と見なされる2つのサンプル間の最大距離\n",
    "    \n",
    "min_samples：コアポイントと見なされるポイントの近傍内のサンプル数\n",
    "の２つを設定する必要があり、データが密集していると適切にεとminPtsを決めるのが難しいという特徴がある。しかし、適切に設定する事で　kmean のように円でなく形が柔軟なクラスタで分けることも可能となる。\n",
    "また、クラスタの扱いではない（単体のノイズ扱い）場合は、マイナスでラベルされる。"
   ]
  }
 ],
 "metadata": {
  "kernelspec": {
   "display_name": "Python 3",
   "language": "python",
   "name": "python3"
  },
  "language_info": {
   "codemirror_mode": {
    "name": "ipython",
    "version": 3
   },
   "file_extension": ".py",
   "mimetype": "text/x-python",
   "name": "python",
   "nbconvert_exporter": "python",
   "pygments_lexer": "ipython3",
   "version": "3.7.4"
  }
 },
 "nbformat": 4,
 "nbformat_minor": 4
}
